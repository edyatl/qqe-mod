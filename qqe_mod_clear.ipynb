{
 "cells": [
  {
   "cell_type": "markdown",
   "id": "environmental-transcript",
   "metadata": {},
   "source": [
    "## QQE MOD by Mihkel00"
   ]
  },
  {
   "cell_type": "markdown",
   "id": "swiss-money",
   "metadata": {},
   "source": [
    "<https://ru.tradingview.com/script/TpUW4muw-QQE-MOD/>"
   ]
  },
  {
   "cell_type": "markdown",
   "id": "tamil-astronomy",
   "metadata": {},
   "source": [
    ">Developed by [@edyatl](https://github.com/edyatl) March 2023 <edyatl@yandex.ru>"
   ]
  },
  {
   "cell_type": "code",
   "execution_count": 1,
   "id": "downtown-advance",
   "metadata": {},
   "outputs": [
    {
     "data": {
      "application/javascript": [
       "\n",
       "            setTimeout(function() {\n",
       "                var nbb_cell_id = 1;\n",
       "                var nbb_unformatted_code = \"# Load Jupyter extension for auto correction coding style based on Black Lib\\n%load_ext nb_black\";\n",
       "                var nbb_formatted_code = \"# Load Jupyter extension for auto correction coding style based on Black Lib\\n%load_ext nb_black\";\n",
       "                var nbb_cells = Jupyter.notebook.get_cells();\n",
       "                for (var i = 0; i < nbb_cells.length; ++i) {\n",
       "                    if (nbb_cells[i].input_prompt_number == nbb_cell_id) {\n",
       "                        if (nbb_cells[i].get_text() == nbb_unformatted_code) {\n",
       "                             nbb_cells[i].set_text(nbb_formatted_code);\n",
       "                        }\n",
       "                        break;\n",
       "                    }\n",
       "                }\n",
       "            }, 500);\n",
       "            "
      ],
      "text/plain": [
       "<IPython.core.display.Javascript object>"
      ]
     },
     "metadata": {},
     "output_type": "display_data"
    }
   ],
   "source": [
    "# Load Jupyter extension for auto correction coding style based on Black Lib\n",
    "%load_ext nb_black"
   ]
  },
  {
   "cell_type": "markdown",
   "id": "innovative-leeds",
   "metadata": {},
   "source": [
    "### Original Indicator code\n",
    "\n",
    "```python\n",
    "//@version=4\n",
    "//By Glaz, Modified\n",
    "//\n",
    "study(\"QQE MOD\")\n",
    "RSI_Period = input(6, title='RSI Length')\n",
    "SF = input(5, title='RSI Smoothing')\n",
    "QQE = input(3, title='Fast QQE Factor')\n",
    "ThreshHold = input(3, title=\"Thresh-hold\")\n",
    "//\n",
    "\n",
    "src = input(close, title=\"RSI Source\")\n",
    "//\n",
    "\n",
    "//\n",
    "Wilders_Period = RSI_Period * 2 - 1\n",
    "\n",
    "\n",
    "Rsi = rsi(src, RSI_Period)\n",
    "RsiMa = ema(Rsi, SF)\n",
    "AtrRsi = abs(RsiMa[1] - RsiMa)\n",
    "MaAtrRsi = ema(AtrRsi, Wilders_Period)\n",
    "dar = ema(MaAtrRsi, Wilders_Period) * QQE\n",
    "\n",
    "longband = 0.0\n",
    "shortband = 0.0\n",
    "trend = 0\n",
    "\n",
    "DeltaFastAtrRsi = dar\n",
    "RSIndex = RsiMa\n",
    "newshortband = RSIndex + DeltaFastAtrRsi\n",
    "newlongband = RSIndex - DeltaFastAtrRsi\n",
    "longband := RSIndex[1] > longband[1] and RSIndex > longband[1] ? \n",
    "   max(longband[1], newlongband) : newlongband\n",
    "shortband := RSIndex[1] < shortband[1] and RSIndex < shortband[1] ? \n",
    "   min(shortband[1], newshortband) : newshortband\n",
    "cross_1 = cross(longband[1], RSIndex)\n",
    "trend := cross(RSIndex, shortband[1]) ? 1 : cross_1 ? -1 : nz(trend[1], 1)\n",
    "FastAtrRsiTL = trend == 1 ? longband : shortband\n",
    "////////////////////\n",
    "\n",
    "\n",
    "length = input(50, minval=1, title=\"Bollinger Length\")\n",
    "mult = input(0.35, minval=0.001, maxval=5, step=0.1, title=\"BB Multiplier\")\n",
    "basis = sma(FastAtrRsiTL - 50, length)\n",
    "dev = mult * stdev(FastAtrRsiTL - 50, length)\n",
    "upper = basis + dev\n",
    "lower = basis - dev\n",
    "color_bar = RsiMa - 50 > upper ? #00c3ff : RsiMa - 50 < lower ? #ff0062 : color.gray\n",
    "\n",
    "\n",
    "//\n",
    "// Zero cross\n",
    "QQEzlong = 0\n",
    "QQEzlong := nz(QQEzlong[1])\n",
    "QQEzshort = 0\n",
    "QQEzshort := nz(QQEzshort[1])\n",
    "QQEzlong := RSIndex >= 50 ? QQEzlong + 1 : 0\n",
    "QQEzshort := RSIndex < 50 ? QQEzshort + 1 : 0\n",
    "//  \n",
    "\n",
    "Zero = hline(0, color=color.white, linestyle=hline.style_dotted, linewidth=1)\n",
    "\n",
    "////////////////////////////////////////////////////////////////\n",
    "\n",
    "RSI_Period2 = input(6, title='RSI Length')\n",
    "SF2 = input(5, title='RSI Smoothing')\n",
    "QQE2 = input(1.61, title='Fast QQE2 Factor')\n",
    "ThreshHold2 = input(3, title=\"Thresh-hold\")\n",
    "\n",
    "src2 = input(close, title=\"RSI Source\")\n",
    "//\n",
    "\n",
    "//\n",
    "Wilders_Period2 = RSI_Period2 * 2 - 1\n",
    "\n",
    "\n",
    "Rsi2 = rsi(src2, RSI_Period2)\n",
    "RsiMa2 = ema(Rsi2, SF2)\n",
    "AtrRsi2 = abs(RsiMa2[1] - RsiMa2)\n",
    "MaAtrRsi2 = ema(AtrRsi2, Wilders_Period2)\n",
    "dar2 = ema(MaAtrRsi2, Wilders_Period2) * QQE2\n",
    "longband2 = 0.0\n",
    "shortband2 = 0.0\n",
    "trend2 = 0\n",
    "\n",
    "DeltaFastAtrRsi2 = dar2\n",
    "RSIndex2 = RsiMa2\n",
    "newshortband2 = RSIndex2 + DeltaFastAtrRsi2\n",
    "newlongband2 = RSIndex2 - DeltaFastAtrRsi2\n",
    "longband2 := RSIndex2[1] > longband2[1] and RSIndex2 > longband2[1] ? \n",
    "   max(longband2[1], newlongband2) : newlongband2\n",
    "shortband2 := RSIndex2[1] < shortband2[1] and RSIndex2 < shortband2[1] ? \n",
    "   min(shortband2[1], newshortband2) : newshortband2\n",
    "cross_2 = cross(longband2[1], RSIndex2)\n",
    "trend2 := cross(RSIndex2, shortband2[1]) ? 1 : cross_2 ? -1 : nz(trend2[1], 1)\n",
    "FastAtrRsi2TL = trend2 == 1 ? longband2 : shortband2\n",
    "\n",
    "\n",
    "//\n",
    "// Zero cross\n",
    "QQE2zlong = 0\n",
    "QQE2zlong := nz(QQE2zlong[1])\n",
    "QQE2zshort = 0\n",
    "QQE2zshort := nz(QQE2zshort[1])\n",
    "QQE2zlong := RSIndex2 >= 50 ? QQE2zlong + 1 : 0\n",
    "QQE2zshort := RSIndex2 < 50 ? QQE2zshort + 1 : 0\n",
    "//  \n",
    "\n",
    "hcolor2 = RsiMa2 - 50 > ThreshHold2 ? color.silver :\n",
    "   RsiMa2 - 50 < 0 - ThreshHold2 ? color.silver : na\n",
    "plot(FastAtrRsi2TL - 50, title='QQE Line', color=color.white, transp=0, linewidth=2)\n",
    "plot(RsiMa2 - 50, color=hcolor2, transp=50, title='Histo2', style=plot.style_columns)\n",
    "\n",
    "Greenbar1 = RsiMa2 - 50 > ThreshHold2\n",
    "Greenbar2 = RsiMa - 50 > upper\n",
    "\n",
    "Redbar1 = RsiMa2 - 50 < 0 - ThreshHold2\n",
    "Redbar2 = RsiMa - 50 < lower\n",
    "plot(Greenbar1 and Greenbar2 == 1 ? RsiMa2 - 50 : na, title=\"QQE Up\", style=plot.style_columns, color=#00c3ff, transp=0)\n",
    "plot(Redbar1 and Redbar2 == 1 ? RsiMa2 - 50 : na, title=\"QQE Down\", style=plot.style_columns, color=#ff0062, transp=0)\n",
    "```"
   ]
  },
  {
   "cell_type": "code",
   "execution_count": 2,
   "id": "unavailable-moderator",
   "metadata": {},
   "outputs": [
    {
     "data": {
      "application/javascript": [
       "\n",
       "            setTimeout(function() {\n",
       "                var nbb_cell_id = 2;\n",
       "                var nbb_unformatted_code = \"# Standard imports\\nimport pandas as pd\\nimport numpy as np\\n\\n# import matplotlib.pyplot as plt\\n# import seaborn as sns\\nimport talib as tl\\n\\nimport os\\nfrom os import environ as env\\nfrom dotenv import load_dotenv\\nfrom binance import Client, ThreadedWebsocketManager, ThreadedDepthCacheManager\\n\\n# Nicest style for plots\\n# sns.set(style=\\\"ticks\\\")\";\n",
       "                var nbb_formatted_code = \"# Standard imports\\nimport pandas as pd\\nimport numpy as np\\n\\n# import matplotlib.pyplot as plt\\n# import seaborn as sns\\nimport talib as tl\\n\\nimport os\\nfrom os import environ as env\\nfrom dotenv import load_dotenv\\nfrom binance import Client, ThreadedWebsocketManager, ThreadedDepthCacheManager\\n\\n# Nicest style for plots\\n# sns.set(style=\\\"ticks\\\")\";\n",
       "                var nbb_cells = Jupyter.notebook.get_cells();\n",
       "                for (var i = 0; i < nbb_cells.length; ++i) {\n",
       "                    if (nbb_cells[i].input_prompt_number == nbb_cell_id) {\n",
       "                        if (nbb_cells[i].get_text() == nbb_unformatted_code) {\n",
       "                             nbb_cells[i].set_text(nbb_formatted_code);\n",
       "                        }\n",
       "                        break;\n",
       "                    }\n",
       "                }\n",
       "            }, 500);\n",
       "            "
      ],
      "text/plain": [
       "<IPython.core.display.Javascript object>"
      ]
     },
     "metadata": {},
     "output_type": "display_data"
    }
   ],
   "source": [
    "# Standard imports\n",
    "import pandas as pd\n",
    "import numpy as np\n",
    "\n",
    "# import matplotlib.pyplot as plt\n",
    "# import seaborn as sns\n",
    "import talib as tl\n",
    "\n",
    "import os\n",
    "from os import environ as env\n",
    "from dotenv import load_dotenv\n",
    "from binance import Client, ThreadedWebsocketManager, ThreadedDepthCacheManager\n",
    "\n",
    "# Nicest style for plots\n",
    "# sns.set(style=\"ticks\")"
   ]
  },
  {
   "cell_type": "code",
   "execution_count": 3,
   "id": "virgin-blowing",
   "metadata": {},
   "outputs": [
    {
     "data": {
      "application/javascript": [
       "\n",
       "            setTimeout(function() {\n",
       "                var nbb_cell_id = 3;\n",
       "                var nbb_unformatted_code = \"# Install a pip package in the current Jupyter kernel\\n# import sys\\n\\n# !{sys.executable} -m pip install -U python-dotenv\";\n",
       "                var nbb_formatted_code = \"# Install a pip package in the current Jupyter kernel\\n# import sys\\n\\n# !{sys.executable} -m pip install -U python-dotenv\";\n",
       "                var nbb_cells = Jupyter.notebook.get_cells();\n",
       "                for (var i = 0; i < nbb_cells.length; ++i) {\n",
       "                    if (nbb_cells[i].input_prompt_number == nbb_cell_id) {\n",
       "                        if (nbb_cells[i].get_text() == nbb_unformatted_code) {\n",
       "                             nbb_cells[i].set_text(nbb_formatted_code);\n",
       "                        }\n",
       "                        break;\n",
       "                    }\n",
       "                }\n",
       "            }, 500);\n",
       "            "
      ],
      "text/plain": [
       "<IPython.core.display.Javascript object>"
      ]
     },
     "metadata": {},
     "output_type": "display_data"
    }
   ],
   "source": [
    "# Install a pip package in the current Jupyter kernel\n",
    "# import sys\n",
    "\n",
    "# !{sys.executable} -m pip install -U python-dotenv"
   ]
  },
  {
   "cell_type": "code",
   "execution_count": 4,
   "id": "artistic-natural",
   "metadata": {},
   "outputs": [
    {
     "data": {
      "application/javascript": [
       "\n",
       "            setTimeout(function() {\n",
       "                var nbb_cell_id = 4;\n",
       "                var nbb_unformatted_code = \"project_dotenv = os.path.join(os.path.abspath(\\\"\\\"), \\\".env\\\")\\nif os.path.exists(project_dotenv):\\n    load_dotenv(project_dotenv)\";\n",
       "                var nbb_formatted_code = \"project_dotenv = os.path.join(os.path.abspath(\\\"\\\"), \\\".env\\\")\\nif os.path.exists(project_dotenv):\\n    load_dotenv(project_dotenv)\";\n",
       "                var nbb_cells = Jupyter.notebook.get_cells();\n",
       "                for (var i = 0; i < nbb_cells.length; ++i) {\n",
       "                    if (nbb_cells[i].input_prompt_number == nbb_cell_id) {\n",
       "                        if (nbb_cells[i].get_text() == nbb_unformatted_code) {\n",
       "                             nbb_cells[i].set_text(nbb_formatted_code);\n",
       "                        }\n",
       "                        break;\n",
       "                    }\n",
       "                }\n",
       "            }, 500);\n",
       "            "
      ],
      "text/plain": [
       "<IPython.core.display.Javascript object>"
      ]
     },
     "metadata": {},
     "output_type": "display_data"
    }
   ],
   "source": [
    "project_dotenv = os.path.join(os.path.abspath(\"\"), \".env\")\n",
    "if os.path.exists(project_dotenv):\n",
    "    load_dotenv(project_dotenv)"
   ]
  },
  {
   "cell_type": "code",
   "execution_count": 5,
   "id": "skilled-prayer",
   "metadata": {},
   "outputs": [
    {
     "data": {
      "application/javascript": [
       "\n",
       "            setTimeout(function() {\n",
       "                var nbb_cell_id = 5;\n",
       "                var nbb_unformatted_code = \"api_key, api_secret = env.get(\\\"ENV_API_KEY\\\"), env.get(\\\"ENV_SECRET_KEY\\\")\\nclient = Client(api_key, api_secret)\";\n",
       "                var nbb_formatted_code = \"api_key, api_secret = env.get(\\\"ENV_API_KEY\\\"), env.get(\\\"ENV_SECRET_KEY\\\")\\nclient = Client(api_key, api_secret)\";\n",
       "                var nbb_cells = Jupyter.notebook.get_cells();\n",
       "                for (var i = 0; i < nbb_cells.length; ++i) {\n",
       "                    if (nbb_cells[i].input_prompt_number == nbb_cell_id) {\n",
       "                        if (nbb_cells[i].get_text() == nbb_unformatted_code) {\n",
       "                             nbb_cells[i].set_text(nbb_formatted_code);\n",
       "                        }\n",
       "                        break;\n",
       "                    }\n",
       "                }\n",
       "            }, 500);\n",
       "            "
      ],
      "text/plain": [
       "<IPython.core.display.Javascript object>"
      ]
     },
     "metadata": {},
     "output_type": "display_data"
    }
   ],
   "source": [
    "api_key, api_secret = env.get(\"ENV_API_KEY\"), env.get(\"ENV_SECRET_KEY\")\n",
    "client = Client(api_key, api_secret)"
   ]
  },
  {
   "cell_type": "code",
   "execution_count": 6,
   "id": "neutral-translator",
   "metadata": {},
   "outputs": [
    {
     "data": {
      "application/javascript": [
       "\n",
       "            setTimeout(function() {\n",
       "                var nbb_cell_id = 6;\n",
       "                var nbb_unformatted_code = \"klines = client.get_klines(symbol=\\\"ATOMUSDT\\\", interval=Client.KLINE_INTERVAL_15MINUTE)\\n\\nshort_col_names = [\\n    \\\"open_time\\\",\\n    \\\"open\\\",\\n    \\\"high\\\",\\n    \\\"low\\\",\\n    \\\"close\\\",\\n    \\\"volume\\\",\\n    \\\"close_time\\\",\\n    \\\"qav\\\",\\n    \\\"num_trades\\\",\\n    \\\"taker_base_vol\\\",\\n    \\\"taker_quote_vol\\\",\\n    \\\"ignore\\\",\\n]\";\n",
       "                var nbb_formatted_code = \"klines = client.get_klines(symbol=\\\"ATOMUSDT\\\", interval=Client.KLINE_INTERVAL_15MINUTE)\\n\\nshort_col_names = [\\n    \\\"open_time\\\",\\n    \\\"open\\\",\\n    \\\"high\\\",\\n    \\\"low\\\",\\n    \\\"close\\\",\\n    \\\"volume\\\",\\n    \\\"close_time\\\",\\n    \\\"qav\\\",\\n    \\\"num_trades\\\",\\n    \\\"taker_base_vol\\\",\\n    \\\"taker_quote_vol\\\",\\n    \\\"ignore\\\",\\n]\";\n",
       "                var nbb_cells = Jupyter.notebook.get_cells();\n",
       "                for (var i = 0; i < nbb_cells.length; ++i) {\n",
       "                    if (nbb_cells[i].input_prompt_number == nbb_cell_id) {\n",
       "                        if (nbb_cells[i].get_text() == nbb_unformatted_code) {\n",
       "                             nbb_cells[i].set_text(nbb_formatted_code);\n",
       "                        }\n",
       "                        break;\n",
       "                    }\n",
       "                }\n",
       "            }, 500);\n",
       "            "
      ],
      "text/plain": [
       "<IPython.core.display.Javascript object>"
      ]
     },
     "metadata": {},
     "output_type": "display_data"
    }
   ],
   "source": [
    "klines = client.get_klines(symbol=\"ATOMUSDT\", interval=Client.KLINE_INTERVAL_15MINUTE)\n",
    "\n",
    "short_col_names = [\n",
    "    \"open_time\",\n",
    "    \"open\",\n",
    "    \"high\",\n",
    "    \"low\",\n",
    "    \"close\",\n",
    "    \"volume\",\n",
    "    \"close_time\",\n",
    "    \"qav\",\n",
    "    \"num_trades\",\n",
    "    \"taker_base_vol\",\n",
    "    \"taker_quote_vol\",\n",
    "    \"ignore\",\n",
    "]"
   ]
  },
  {
   "cell_type": "code",
   "execution_count": 7,
   "id": "varying-adobe",
   "metadata": {},
   "outputs": [
    {
     "data": {
      "text/html": [
       "<div>\n",
       "<style scoped>\n",
       "    .dataframe tbody tr th:only-of-type {\n",
       "        vertical-align: middle;\n",
       "    }\n",
       "\n",
       "    .dataframe tbody tr th {\n",
       "        vertical-align: top;\n",
       "    }\n",
       "\n",
       "    .dataframe thead th {\n",
       "        text-align: right;\n",
       "    }\n",
       "</style>\n",
       "<table border=\"1\" class=\"dataframe\">\n",
       "  <thead>\n",
       "    <tr style=\"text-align: right;\">\n",
       "      <th></th>\n",
       "      <th>open_time</th>\n",
       "      <th>open</th>\n",
       "      <th>high</th>\n",
       "      <th>low</th>\n",
       "      <th>close</th>\n",
       "      <th>volume</th>\n",
       "      <th>close_time</th>\n",
       "      <th>qav</th>\n",
       "      <th>num_trades</th>\n",
       "      <th>taker_base_vol</th>\n",
       "      <th>taker_quote_vol</th>\n",
       "      <th>ignore</th>\n",
       "    </tr>\n",
       "  </thead>\n",
       "  <tbody>\n",
       "    <tr>\n",
       "      <th>495</th>\n",
       "      <td>2023-03-05 12:30:00</td>\n",
       "      <td>12.12300000</td>\n",
       "      <td>12.14900000</td>\n",
       "      <td>12.11700000</td>\n",
       "      <td>12.13700000</td>\n",
       "      <td>2791.13000000</td>\n",
       "      <td>2023-03-05 12:44:59.999</td>\n",
       "      <td>33854.98708000</td>\n",
       "      <td>211</td>\n",
       "      <td>1326.88000000</td>\n",
       "      <td>16093.85260000</td>\n",
       "      <td>0</td>\n",
       "    </tr>\n",
       "    <tr>\n",
       "      <th>496</th>\n",
       "      <td>2023-03-05 12:45:00</td>\n",
       "      <td>12.13900000</td>\n",
       "      <td>12.16200000</td>\n",
       "      <td>12.11500000</td>\n",
       "      <td>12.15700000</td>\n",
       "      <td>8827.71000000</td>\n",
       "      <td>2023-03-05 12:59:59.999</td>\n",
       "      <td>107146.67779000</td>\n",
       "      <td>372</td>\n",
       "      <td>4695.18000000</td>\n",
       "      <td>57017.63387000</td>\n",
       "      <td>0</td>\n",
       "    </tr>\n",
       "    <tr>\n",
       "      <th>497</th>\n",
       "      <td>2023-03-05 13:00:00</td>\n",
       "      <td>12.16100000</td>\n",
       "      <td>12.17200000</td>\n",
       "      <td>12.14400000</td>\n",
       "      <td>12.15500000</td>\n",
       "      <td>5374.81000000</td>\n",
       "      <td>2023-03-05 13:14:59.999</td>\n",
       "      <td>65332.38960000</td>\n",
       "      <td>292</td>\n",
       "      <td>2057.21000000</td>\n",
       "      <td>25007.99911000</td>\n",
       "      <td>0</td>\n",
       "    </tr>\n",
       "    <tr>\n",
       "      <th>498</th>\n",
       "      <td>2023-03-05 13:15:00</td>\n",
       "      <td>12.15500000</td>\n",
       "      <td>12.16300000</td>\n",
       "      <td>12.12800000</td>\n",
       "      <td>12.16100000</td>\n",
       "      <td>3944.16000000</td>\n",
       "      <td>2023-03-05 13:29:59.999</td>\n",
       "      <td>47895.47723000</td>\n",
       "      <td>230</td>\n",
       "      <td>1925.09000000</td>\n",
       "      <td>23376.49003000</td>\n",
       "      <td>0</td>\n",
       "    </tr>\n",
       "    <tr>\n",
       "      <th>499</th>\n",
       "      <td>2023-03-05 13:30:00</td>\n",
       "      <td>12.15900000</td>\n",
       "      <td>12.16300000</td>\n",
       "      <td>12.14500000</td>\n",
       "      <td>12.14500000</td>\n",
       "      <td>953.56000000</td>\n",
       "      <td>2023-03-05 13:44:59.999</td>\n",
       "      <td>11591.01211000</td>\n",
       "      <td>66</td>\n",
       "      <td>403.77000000</td>\n",
       "      <td>4907.62204000</td>\n",
       "      <td>0</td>\n",
       "    </tr>\n",
       "  </tbody>\n",
       "</table>\n",
       "</div>"
      ],
      "text/plain": [
       "              open_time         open         high          low        close  \\\n",
       "495 2023-03-05 12:30:00  12.12300000  12.14900000  12.11700000  12.13700000   \n",
       "496 2023-03-05 12:45:00  12.13900000  12.16200000  12.11500000  12.15700000   \n",
       "497 2023-03-05 13:00:00  12.16100000  12.17200000  12.14400000  12.15500000   \n",
       "498 2023-03-05 13:15:00  12.15500000  12.16300000  12.12800000  12.16100000   \n",
       "499 2023-03-05 13:30:00  12.15900000  12.16300000  12.14500000  12.14500000   \n",
       "\n",
       "            volume              close_time              qav  num_trades  \\\n",
       "495  2791.13000000 2023-03-05 12:44:59.999   33854.98708000         211   \n",
       "496  8827.71000000 2023-03-05 12:59:59.999  107146.67779000         372   \n",
       "497  5374.81000000 2023-03-05 13:14:59.999   65332.38960000         292   \n",
       "498  3944.16000000 2023-03-05 13:29:59.999   47895.47723000         230   \n",
       "499   953.56000000 2023-03-05 13:44:59.999   11591.01211000          66   \n",
       "\n",
       "    taker_base_vol taker_quote_vol ignore  \n",
       "495  1326.88000000  16093.85260000      0  \n",
       "496  4695.18000000  57017.63387000      0  \n",
       "497  2057.21000000  25007.99911000      0  \n",
       "498  1925.09000000  23376.49003000      0  \n",
       "499   403.77000000   4907.62204000      0  "
      ]
     },
     "execution_count": 7,
     "metadata": {},
     "output_type": "execute_result"
    },
    {
     "data": {
      "application/javascript": [
       "\n",
       "            setTimeout(function() {\n",
       "                var nbb_cell_id = 7;\n",
       "                var nbb_unformatted_code = \"data = pd.DataFrame(klines, columns=short_col_names)\\ndata[\\\"open_time\\\"] = pd.to_datetime(data[\\\"open_time\\\"], unit=\\\"ms\\\")\\ndata[\\\"close_time\\\"] = pd.to_datetime(data[\\\"close_time\\\"], unit=\\\"ms\\\")\\ndata.tail(5)\";\n",
       "                var nbb_formatted_code = \"data = pd.DataFrame(klines, columns=short_col_names)\\ndata[\\\"open_time\\\"] = pd.to_datetime(data[\\\"open_time\\\"], unit=\\\"ms\\\")\\ndata[\\\"close_time\\\"] = pd.to_datetime(data[\\\"close_time\\\"], unit=\\\"ms\\\")\\ndata.tail(5)\";\n",
       "                var nbb_cells = Jupyter.notebook.get_cells();\n",
       "                for (var i = 0; i < nbb_cells.length; ++i) {\n",
       "                    if (nbb_cells[i].input_prompt_number == nbb_cell_id) {\n",
       "                        if (nbb_cells[i].get_text() == nbb_unformatted_code) {\n",
       "                             nbb_cells[i].set_text(nbb_formatted_code);\n",
       "                        }\n",
       "                        break;\n",
       "                    }\n",
       "                }\n",
       "            }, 500);\n",
       "            "
      ],
      "text/plain": [
       "<IPython.core.display.Javascript object>"
      ]
     },
     "metadata": {},
     "output_type": "display_data"
    }
   ],
   "source": [
    "data = pd.DataFrame(klines, columns=short_col_names)\n",
    "data[\"open_time\"] = pd.to_datetime(data[\"open_time\"], unit=\"ms\")\n",
    "data[\"close_time\"] = pd.to_datetime(data[\"close_time\"], unit=\"ms\")\n",
    "data.tail(5)"
   ]
  },
  {
   "cell_type": "code",
   "execution_count": 8,
   "id": "latest-gospel",
   "metadata": {},
   "outputs": [
    {
     "data": {
      "application/javascript": [
       "\n",
       "            setTimeout(function() {\n",
       "                var nbb_cell_id = 8;\n",
       "                var nbb_unformatted_code = \"# Common constant in calculations\\nCONST50 = 50\\n\\n# First RSI input block\\nRSI_Period: int = 6  # input(6, title='RSI Length')\\nSF: int = 5  # input(5, title='RSI Smoothing')\\nQQE: float = 3.0  # input(3, title='Fast QQE Factor')\\nThreshHold: int = 3  # input(3, title=\\\"Thresh-hold\\\") - not used var\\n\\nsrc: pd.Series = data[\\\"close\\\"]  # input(close, title=\\\"RSI Source\\\")\\n\\n# Second RSI input block\\nRSI_Period2: int = 6  # input(6, title='RSI Length')\\nSF2: int = 5  # input(5, title='RSI Smoothing')\\nQQE2: float = 1.61  # input(1.61, title='Fast QQE2 Factor')\\nThreshHold2: int = 3  # input(3, title=\\\"Thresh-hold\\\")\\n\\nsrc2: pd.Series = data[\\\"close\\\"]  # input(close, title=\\\"RSI Source\\\")\\n\\n# Bollinger input block\\nlength: int = CONST50  # input(50, minval=1, title=\\\"Bollinger Length\\\")\\nmult: float = (\\n    0.35  # input(0.35, minval=0.001, maxval=5, step=0.1, title=\\\"BB Multiplier\\\")\\n)\";\n",
       "                var nbb_formatted_code = \"# Common constant in calculations\\nCONST50 = 50\\n\\n# First RSI input block\\nRSI_Period: int = 6  # input(6, title='RSI Length')\\nSF: int = 5  # input(5, title='RSI Smoothing')\\nQQE: float = 3.0  # input(3, title='Fast QQE Factor')\\nThreshHold: int = 3  # input(3, title=\\\"Thresh-hold\\\") - not used var\\n\\nsrc: pd.Series = data[\\\"close\\\"]  # input(close, title=\\\"RSI Source\\\")\\n\\n# Second RSI input block\\nRSI_Period2: int = 6  # input(6, title='RSI Length')\\nSF2: int = 5  # input(5, title='RSI Smoothing')\\nQQE2: float = 1.61  # input(1.61, title='Fast QQE2 Factor')\\nThreshHold2: int = 3  # input(3, title=\\\"Thresh-hold\\\")\\n\\nsrc2: pd.Series = data[\\\"close\\\"]  # input(close, title=\\\"RSI Source\\\")\\n\\n# Bollinger input block\\nlength: int = CONST50  # input(50, minval=1, title=\\\"Bollinger Length\\\")\\nmult: float = (\\n    0.35  # input(0.35, minval=0.001, maxval=5, step=0.1, title=\\\"BB Multiplier\\\")\\n)\";\n",
       "                var nbb_cells = Jupyter.notebook.get_cells();\n",
       "                for (var i = 0; i < nbb_cells.length; ++i) {\n",
       "                    if (nbb_cells[i].input_prompt_number == nbb_cell_id) {\n",
       "                        if (nbb_cells[i].get_text() == nbb_unformatted_code) {\n",
       "                             nbb_cells[i].set_text(nbb_formatted_code);\n",
       "                        }\n",
       "                        break;\n",
       "                    }\n",
       "                }\n",
       "            }, 500);\n",
       "            "
      ],
      "text/plain": [
       "<IPython.core.display.Javascript object>"
      ]
     },
     "metadata": {},
     "output_type": "display_data"
    }
   ],
   "source": [
    "# Common constant in calculations\n",
    "CONST50 = 50  # 50 MA bollinger band\n",
    "\n",
    "# First RSI input block\n",
    "RSI_Period: int = 6  # input(6, title='RSI Length')\n",
    "SF: int = 5  # input(5, title='RSI Smoothing')\n",
    "QQE: float = 3.0  # input(3, title='Fast QQE Factor')\n",
    "ThreshHold: int = 3  # input(3, title=\"Thresh-hold\") - not used var\n",
    "\n",
    "src: pd.Series = data[\"close\"]  # input(close, title=\"RSI Source\")\n",
    "\n",
    "# Second RSI input block\n",
    "RSI_Period2: int = 6  # input(6, title='RSI Length')\n",
    "SF2: int = 5  # input(5, title='RSI Smoothing')\n",
    "QQE2: float = 1.61  # input(1.61, title='Fast QQE2 Factor')\n",
    "ThreshHold2: int = 3  # input(3, title=\"Thresh-hold\")\n",
    "\n",
    "src2: pd.Series = data[\"close\"]  # input(close, title=\"RSI Source\")\n",
    "\n",
    "# Bollinger input block\n",
    "length: int = CONST50  # input(50, minval=1, title=\"Bollinger Length\")\n",
    "mult: float = (\n",
    "    0.35  # input(0.35, minval=0.001, maxval=5, step=0.1, title=\"BB Multiplier\")\n",
    ")"
   ]
  },
  {
   "cell_type": "code",
   "execution_count": 9,
   "id": "active-printer",
   "metadata": {},
   "outputs": [
    {
     "data": {
      "application/javascript": [
       "\n",
       "            setTimeout(function() {\n",
       "                var nbb_cell_id = 9;\n",
       "                var nbb_unformatted_code = \"def cross(x: pd.Series, y: pd.Series) -> pd.Series:\\n    \\\"\\\"\\\"\\n    Returns a boolean Series indicating where two pandas Series have crossed.\\n    \\\"\\\"\\\"\\n    # Ensure the inputs are pandas Series\\n    x = pd.Series(x)\\n    y = pd.Series(y)\\n\\n    # Compare the values at corresponding indices\\n    cross_above = (x.shift(1) < y.shift(1)) & (x >= y)\\n    cross_below = (x.shift(1) > y.shift(1)) & (x <= y)\\n\\n    # Combine the above and below crosses into a single boolean Series\\n    crosses = cross_above | cross_below\\n\\n    return crosses\";\n",
       "                var nbb_formatted_code = \"def cross(x: pd.Series, y: pd.Series) -> pd.Series:\\n    \\\"\\\"\\\"\\n    Returns a boolean Series indicating where two pandas Series have crossed.\\n    \\\"\\\"\\\"\\n    # Ensure the inputs are pandas Series\\n    x = pd.Series(x)\\n    y = pd.Series(y)\\n\\n    # Compare the values at corresponding indices\\n    cross_above = (x.shift(1) < y.shift(1)) & (x >= y)\\n    cross_below = (x.shift(1) > y.shift(1)) & (x <= y)\\n\\n    # Combine the above and below crosses into a single boolean Series\\n    crosses = cross_above | cross_below\\n\\n    return crosses\";\n",
       "                var nbb_cells = Jupyter.notebook.get_cells();\n",
       "                for (var i = 0; i < nbb_cells.length; ++i) {\n",
       "                    if (nbb_cells[i].input_prompt_number == nbb_cell_id) {\n",
       "                        if (nbb_cells[i].get_text() == nbb_unformatted_code) {\n",
       "                             nbb_cells[i].set_text(nbb_formatted_code);\n",
       "                        }\n",
       "                        break;\n",
       "                    }\n",
       "                }\n",
       "            }, 500);\n",
       "            "
      ],
      "text/plain": [
       "<IPython.core.display.Javascript object>"
      ]
     },
     "metadata": {},
     "output_type": "display_data"
    }
   ],
   "source": [
    "def cross(x: pd.Series, y: pd.Series) -> pd.Series:\n",
    "    \"\"\"\n",
    "    Returns a boolean Series indicating where two pandas Series have crossed.\n",
    "    \"\"\"\n",
    "    # Ensure the inputs are pandas Series\n",
    "    x = pd.Series(x)\n",
    "    y = pd.Series(y)\n",
    "\n",
    "    # Compare the values at corresponding indices\n",
    "    cross_above = (x.shift(1) < y.shift(1)) & (x >= y)\n",
    "    cross_below = (x.shift(1) > y.shift(1)) & (x <= y)\n",
    "\n",
    "    # Combine the above and below crosses into a single boolean Series\n",
    "    crosses = cross_above | cross_below\n",
    "\n",
    "    return crosses"
   ]
  },
  {
   "cell_type": "code",
   "execution_count": 10,
   "id": "cooperative-forestry",
   "metadata": {},
   "outputs": [
    {
     "data": {
      "application/javascript": [
       "\n",
       "            setTimeout(function() {\n",
       "                var nbb_cell_id = 10;\n",
       "                var nbb_unformatted_code = \"def qqe_hist(src: pd.Series, RSI_Period: int, SF: int, QQE: float) -> tuple:\\n    Wilders_Period: int = RSI_Period * 2 - 1\\n    Rsi = tl.RSI(src, RSI_Period)\\n    RsiMa = tl.EMA(Rsi, SF)\\n    AtrRsi = np.abs(np.roll(RsiMa.copy(), 1) - RsiMa)\\n    MaAtrRsi = tl.EMA(AtrRsi, Wilders_Period)\\n    dar = tl.EMA(MaAtrRsi, Wilders_Period) * QQE\\n\\n    longband: pd.Series = np.zeros_like(src, dtype=float)\\n    shortband: pd.Series = np.zeros_like(src, dtype=float)\\n    trend: pd.Series = np.zeros_like(src, dtype=int)\\n    FastAtrRsiTL: pd.Series = np.zeros_like(src, dtype=float)\\n\\n    DeltaFastAtrRsi = dar\\n    RSIndex = RsiMa\\n    newshortband = RSIndex + DeltaFastAtrRsi\\n    newlongband = RSIndex - DeltaFastAtrRsi\\n\\n    for i in range(1, len(src)):\\n        if RSIndex[i - 1] > longband[i - 1] and RSIndex[i] > longband[i - 1]:\\n            longband[i] = max(longband[i - 1], newlongband[i])\\n        else:\\n            longband[i] = newlongband[i]\\n\\n        if RSIndex[i - 1] < shortband[i - 1] and RSIndex[i] < shortband[i - 1]:\\n            shortband[i] = min(shortband[i - 1], newshortband[i])\\n        else:\\n            shortband[i] = newshortband[i]\\n\\n    cross_1 = cross(np.roll(longband.copy(), 1), RSIndex)\\n    cross_2 = cross(RSIndex, np.roll(shortband.copy(), 1))\\n\\n    for i in range(1, len(src)):\\n        trend[i] = (\\n            1\\n            if cross_2[i]\\n            else -1\\n            if cross_1[i]\\n            else 1\\n            if np.isnan(trend[i - 1])\\n            else trend[i - 1]\\n        )\\n\\n    FastAtrRsiTL = np.where(trend == 1, longband, shortband)\\n\\n    FastAtrRsiTL = np.nan_to_num(FastAtrRsiTL)\\n\\n    return FastAtrRsiTL, RsiMa\";\n",
       "                var nbb_formatted_code = \"def qqe_hist(src: pd.Series, RSI_Period: int, SF: int, QQE: float) -> tuple:\\n    Wilders_Period: int = RSI_Period * 2 - 1\\n    Rsi = tl.RSI(src, RSI_Period)\\n    RsiMa = tl.EMA(Rsi, SF)\\n    AtrRsi = np.abs(np.roll(RsiMa.copy(), 1) - RsiMa)\\n    MaAtrRsi = tl.EMA(AtrRsi, Wilders_Period)\\n    dar = tl.EMA(MaAtrRsi, Wilders_Period) * QQE\\n\\n    longband: pd.Series = np.zeros_like(src, dtype=float)\\n    shortband: pd.Series = np.zeros_like(src, dtype=float)\\n    trend: pd.Series = np.zeros_like(src, dtype=int)\\n    FastAtrRsiTL: pd.Series = np.zeros_like(src, dtype=float)\\n\\n    DeltaFastAtrRsi = dar\\n    RSIndex = RsiMa\\n    newshortband = RSIndex + DeltaFastAtrRsi\\n    newlongband = RSIndex - DeltaFastAtrRsi\\n\\n    for i in range(1, len(src)):\\n        if RSIndex[i - 1] > longband[i - 1] and RSIndex[i] > longband[i - 1]:\\n            longband[i] = max(longband[i - 1], newlongband[i])\\n        else:\\n            longband[i] = newlongband[i]\\n\\n        if RSIndex[i - 1] < shortband[i - 1] and RSIndex[i] < shortband[i - 1]:\\n            shortband[i] = min(shortband[i - 1], newshortband[i])\\n        else:\\n            shortband[i] = newshortband[i]\\n\\n    cross_1 = cross(np.roll(longband.copy(), 1), RSIndex)\\n    cross_2 = cross(RSIndex, np.roll(shortband.copy(), 1))\\n\\n    for i in range(1, len(src)):\\n        trend[i] = (\\n            1\\n            if cross_2[i]\\n            else -1\\n            if cross_1[i]\\n            else 1\\n            if np.isnan(trend[i - 1])\\n            else trend[i - 1]\\n        )\\n\\n    FastAtrRsiTL = np.where(trend == 1, longband, shortband)\\n\\n    FastAtrRsiTL = np.nan_to_num(FastAtrRsiTL)\\n\\n    return FastAtrRsiTL, RsiMa\";\n",
       "                var nbb_cells = Jupyter.notebook.get_cells();\n",
       "                for (var i = 0; i < nbb_cells.length; ++i) {\n",
       "                    if (nbb_cells[i].input_prompt_number == nbb_cell_id) {\n",
       "                        if (nbb_cells[i].get_text() == nbb_unformatted_code) {\n",
       "                             nbb_cells[i].set_text(nbb_formatted_code);\n",
       "                        }\n",
       "                        break;\n",
       "                    }\n",
       "                }\n",
       "            }, 500);\n",
       "            "
      ],
      "text/plain": [
       "<IPython.core.display.Javascript object>"
      ]
     },
     "metadata": {},
     "output_type": "display_data"
    }
   ],
   "source": [
    "def qqe_hist(src: pd.Series, RSI_Period: int, SF: int, QQE: float) -> tuple:\n",
    "    Wilders_Period: int = RSI_Period * 2 - 1\n",
    "    Rsi = tl.RSI(src, RSI_Period)\n",
    "    RsiMa = tl.EMA(Rsi, SF)\n",
    "    AtrRsi = np.abs(np.roll(RsiMa.copy(), 1) - RsiMa)\n",
    "    MaAtrRsi = tl.EMA(AtrRsi, Wilders_Period)\n",
    "    dar = tl.EMA(MaAtrRsi, Wilders_Period) * QQE\n",
    "\n",
    "    longband: pd.Series = np.zeros_like(src, dtype=float)\n",
    "    shortband: pd.Series = np.zeros_like(src, dtype=float)\n",
    "    trend: pd.Series = np.zeros_like(src, dtype=int)\n",
    "    FastAtrRsiTL: pd.Series = np.zeros_like(src, dtype=float)\n",
    "\n",
    "    DeltaFastAtrRsi = dar\n",
    "    RSIndex = RsiMa\n",
    "    newshortband = RSIndex + DeltaFastAtrRsi\n",
    "    newlongband = RSIndex - DeltaFastAtrRsi\n",
    "\n",
    "    for i in range(1, len(src)):\n",
    "        if RSIndex[i - 1] > longband[i - 1] and RSIndex[i] > longband[i - 1]:\n",
    "            longband[i] = max(longband[i - 1], newlongband[i])\n",
    "        else:\n",
    "            longband[i] = newlongband[i]\n",
    "\n",
    "        if RSIndex[i - 1] < shortband[i - 1] and RSIndex[i] < shortband[i - 1]:\n",
    "            shortband[i] = min(shortband[i - 1], newshortband[i])\n",
    "        else:\n",
    "            shortband[i] = newshortband[i]\n",
    "\n",
    "    cross_1 = cross(np.roll(longband.copy(), 1), RSIndex)\n",
    "    cross_2 = cross(RSIndex, np.roll(shortband.copy(), 1))\n",
    "\n",
    "    for i in range(1, len(src)):\n",
    "        trend[i] = (\n",
    "            1\n",
    "            if cross_2[i]\n",
    "            else -1\n",
    "            if cross_1[i]\n",
    "            else 1\n",
    "            if np.isnan(trend[i - 1])\n",
    "            else trend[i - 1]\n",
    "        )\n",
    "\n",
    "    FastAtrRsiTL = np.where(trend == 1, longband, shortband)\n",
    "\n",
    "    FastAtrRsiTL = np.nan_to_num(FastAtrRsiTL)\n",
    "\n",
    "    return FastAtrRsiTL, RsiMa"
   ]
  },
  {
   "cell_type": "code",
   "execution_count": 11,
   "id": "velvet-delight",
   "metadata": {},
   "outputs": [
    {
     "data": {
      "application/javascript": [
       "\n",
       "            setTimeout(function() {\n",
       "                var nbb_cell_id = 11;\n",
       "                var nbb_unformatted_code = \"FastAtrRsiTL, RsiMa = qqe_hist(src, RSI_Period, SF, QQE)\";\n",
       "                var nbb_formatted_code = \"FastAtrRsiTL, RsiMa = qqe_hist(src, RSI_Period, SF, QQE)\";\n",
       "                var nbb_cells = Jupyter.notebook.get_cells();\n",
       "                for (var i = 0; i < nbb_cells.length; ++i) {\n",
       "                    if (nbb_cells[i].input_prompt_number == nbb_cell_id) {\n",
       "                        if (nbb_cells[i].get_text() == nbb_unformatted_code) {\n",
       "                             nbb_cells[i].set_text(nbb_formatted_code);\n",
       "                        }\n",
       "                        break;\n",
       "                    }\n",
       "                }\n",
       "            }, 500);\n",
       "            "
      ],
      "text/plain": [
       "<IPython.core.display.Javascript object>"
      ]
     },
     "metadata": {},
     "output_type": "display_data"
    }
   ],
   "source": [
    "FastAtrRsiTL, RsiMa = qqe_hist(src, RSI_Period, SF, QQE)"
   ]
  },
  {
   "cell_type": "code",
   "execution_count": 12,
   "id": "personalized-kingston",
   "metadata": {},
   "outputs": [
    {
     "data": {
      "application/javascript": [
       "\n",
       "            setTimeout(function() {\n",
       "                var nbb_cell_id = 12;\n",
       "                var nbb_unformatted_code = \"FastAtrRsi2TL, RsiMa2 = qqe_hist(src2, RSI_Period2, SF2, QQE2)\";\n",
       "                var nbb_formatted_code = \"FastAtrRsi2TL, RsiMa2 = qqe_hist(src2, RSI_Period2, SF2, QQE2)\";\n",
       "                var nbb_cells = Jupyter.notebook.get_cells();\n",
       "                for (var i = 0; i < nbb_cells.length; ++i) {\n",
       "                    if (nbb_cells[i].input_prompt_number == nbb_cell_id) {\n",
       "                        if (nbb_cells[i].get_text() == nbb_unformatted_code) {\n",
       "                             nbb_cells[i].set_text(nbb_formatted_code);\n",
       "                        }\n",
       "                        break;\n",
       "                    }\n",
       "                }\n",
       "            }, 500);\n",
       "            "
      ],
      "text/plain": [
       "<IPython.core.display.Javascript object>"
      ]
     },
     "metadata": {},
     "output_type": "display_data"
    }
   ],
   "source": [
    "FastAtrRsi2TL, RsiMa2 = qqe_hist(src2, RSI_Period2, SF2, QQE2)"
   ]
  },
  {
   "cell_type": "code",
   "execution_count": 13,
   "id": "deluxe-baltimore",
   "metadata": {},
   "outputs": [
    {
     "data": {
      "text/html": [
       "<div>\n",
       "<style scoped>\n",
       "    .dataframe tbody tr th:only-of-type {\n",
       "        vertical-align: middle;\n",
       "    }\n",
       "\n",
       "    .dataframe tbody tr th {\n",
       "        vertical-align: top;\n",
       "    }\n",
       "\n",
       "    .dataframe thead th {\n",
       "        text-align: right;\n",
       "    }\n",
       "</style>\n",
       "<table border=\"1\" class=\"dataframe\">\n",
       "  <thead>\n",
       "    <tr style=\"text-align: right;\">\n",
       "      <th></th>\n",
       "      <th>FastAtrRsiTL</th>\n",
       "      <th>FastAtrRsi2TL</th>\n",
       "      <th>RsiMa</th>\n",
       "      <th>RsiMa2</th>\n",
       "    </tr>\n",
       "  </thead>\n",
       "  <tbody>\n",
       "    <tr>\n",
       "      <th>480</th>\n",
       "      <td>39.920056</td>\n",
       "      <td>36.168880</td>\n",
       "      <td>31.823993</td>\n",
       "      <td>31.823993</td>\n",
       "    </tr>\n",
       "    <tr>\n",
       "      <th>481</th>\n",
       "      <td>39.920056</td>\n",
       "      <td>36.168880</td>\n",
       "      <td>35.805173</td>\n",
       "      <td>35.805173</td>\n",
       "    </tr>\n",
       "    <tr>\n",
       "      <th>482</th>\n",
       "      <td>39.920056</td>\n",
       "      <td>33.700554</td>\n",
       "      <td>38.181234</td>\n",
       "      <td>38.181234</td>\n",
       "    </tr>\n",
       "    <tr>\n",
       "      <th>483</th>\n",
       "      <td>39.920056</td>\n",
       "      <td>35.000825</td>\n",
       "      <td>39.445282</td>\n",
       "      <td>39.445282</td>\n",
       "    </tr>\n",
       "    <tr>\n",
       "      <th>484</th>\n",
       "      <td>39.920056</td>\n",
       "      <td>35.000825</td>\n",
       "      <td>38.780655</td>\n",
       "      <td>38.780655</td>\n",
       "    </tr>\n",
       "    <tr>\n",
       "      <th>485</th>\n",
       "      <td>39.920056</td>\n",
       "      <td>35.316755</td>\n",
       "      <td>39.470456</td>\n",
       "      <td>39.470456</td>\n",
       "    </tr>\n",
       "    <tr>\n",
       "      <th>486</th>\n",
       "      <td>39.829865</td>\n",
       "      <td>43.536048</td>\n",
       "      <td>47.828821</td>\n",
       "      <td>47.828821</td>\n",
       "    </tr>\n",
       "    <tr>\n",
       "      <th>487</th>\n",
       "      <td>46.691266</td>\n",
       "      <td>50.665111</td>\n",
       "      <td>55.267911</td>\n",
       "      <td>55.267911</td>\n",
       "    </tr>\n",
       "    <tr>\n",
       "      <th>488</th>\n",
       "      <td>51.953371</td>\n",
       "      <td>56.231219</td>\n",
       "      <td>61.186135</td>\n",
       "      <td>61.186135</td>\n",
       "    </tr>\n",
       "    <tr>\n",
       "      <th>489</th>\n",
       "      <td>56.051021</td>\n",
       "      <td>60.602139</td>\n",
       "      <td>65.873577</td>\n",
       "      <td>65.873577</td>\n",
       "    </tr>\n",
       "    <tr>\n",
       "      <th>490</th>\n",
       "      <td>56.051021</td>\n",
       "      <td>60.602139</td>\n",
       "      <td>62.254412</td>\n",
       "      <td>62.254412</td>\n",
       "    </tr>\n",
       "    <tr>\n",
       "      <th>491</th>\n",
       "      <td>66.222177</td>\n",
       "      <td>61.193105</td>\n",
       "      <td>55.368064</td>\n",
       "      <td>55.368064</td>\n",
       "    </tr>\n",
       "    <tr>\n",
       "      <th>492</th>\n",
       "      <td>62.707393</td>\n",
       "      <td>57.474440</td>\n",
       "      <td>51.413249</td>\n",
       "      <td>51.413249</td>\n",
       "    </tr>\n",
       "    <tr>\n",
       "      <th>493</th>\n",
       "      <td>62.099211</td>\n",
       "      <td>56.844759</td>\n",
       "      <td>50.758667</td>\n",
       "      <td>50.758667</td>\n",
       "    </tr>\n",
       "    <tr>\n",
       "      <th>494</th>\n",
       "      <td>59.891393</td>\n",
       "      <td>54.686885</td>\n",
       "      <td>48.658641</td>\n",
       "      <td>48.658641</td>\n",
       "    </tr>\n",
       "    <tr>\n",
       "      <th>495</th>\n",
       "      <td>59.891393</td>\n",
       "      <td>54.686885</td>\n",
       "      <td>51.048201</td>\n",
       "      <td>51.048201</td>\n",
       "    </tr>\n",
       "    <tr>\n",
       "      <th>496</th>\n",
       "      <td>59.891393</td>\n",
       "      <td>50.030509</td>\n",
       "      <td>55.942246</td>\n",
       "      <td>55.942246</td>\n",
       "    </tr>\n",
       "    <tr>\n",
       "      <th>497</th>\n",
       "      <td>59.891393</td>\n",
       "      <td>52.774116</td>\n",
       "      <td>58.630945</td>\n",
       "      <td>58.630945</td>\n",
       "    </tr>\n",
       "    <tr>\n",
       "      <th>498</th>\n",
       "      <td>50.682696</td>\n",
       "      <td>55.674966</td>\n",
       "      <td>61.457379</td>\n",
       "      <td>61.457379</td>\n",
       "    </tr>\n",
       "    <tr>\n",
       "      <th>499</th>\n",
       "      <td>50.682696</td>\n",
       "      <td>55.674966</td>\n",
       "      <td>58.505900</td>\n",
       "      <td>58.505900</td>\n",
       "    </tr>\n",
       "  </tbody>\n",
       "</table>\n",
       "</div>"
      ],
      "text/plain": [
       "     FastAtrRsiTL  FastAtrRsi2TL      RsiMa     RsiMa2\n",
       "480     39.920056      36.168880  31.823993  31.823993\n",
       "481     39.920056      36.168880  35.805173  35.805173\n",
       "482     39.920056      33.700554  38.181234  38.181234\n",
       "483     39.920056      35.000825  39.445282  39.445282\n",
       "484     39.920056      35.000825  38.780655  38.780655\n",
       "485     39.920056      35.316755  39.470456  39.470456\n",
       "486     39.829865      43.536048  47.828821  47.828821\n",
       "487     46.691266      50.665111  55.267911  55.267911\n",
       "488     51.953371      56.231219  61.186135  61.186135\n",
       "489     56.051021      60.602139  65.873577  65.873577\n",
       "490     56.051021      60.602139  62.254412  62.254412\n",
       "491     66.222177      61.193105  55.368064  55.368064\n",
       "492     62.707393      57.474440  51.413249  51.413249\n",
       "493     62.099211      56.844759  50.758667  50.758667\n",
       "494     59.891393      54.686885  48.658641  48.658641\n",
       "495     59.891393      54.686885  51.048201  51.048201\n",
       "496     59.891393      50.030509  55.942246  55.942246\n",
       "497     59.891393      52.774116  58.630945  58.630945\n",
       "498     50.682696      55.674966  61.457379  61.457379\n",
       "499     50.682696      55.674966  58.505900  58.505900"
      ]
     },
     "execution_count": 13,
     "metadata": {},
     "output_type": "execute_result"
    },
    {
     "data": {
      "application/javascript": [
       "\n",
       "            setTimeout(function() {\n",
       "                var nbb_cell_id = 13;\n",
       "                var nbb_unformatted_code = \"res = pd.DataFrame(\\n    {\\n        \\\"FastAtrRsiTL\\\": FastAtrRsiTL,\\n        \\\"FastAtrRsi2TL\\\": FastAtrRsi2TL,\\n        \\\"RsiMa\\\": RsiMa,\\n        \\\"RsiMa2\\\": RsiMa2,\\n    }\\n)\\nres.tail(20)\";\n",
       "                var nbb_formatted_code = \"res = pd.DataFrame(\\n    {\\n        \\\"FastAtrRsiTL\\\": FastAtrRsiTL,\\n        \\\"FastAtrRsi2TL\\\": FastAtrRsi2TL,\\n        \\\"RsiMa\\\": RsiMa,\\n        \\\"RsiMa2\\\": RsiMa2,\\n    }\\n)\\nres.tail(20)\";\n",
       "                var nbb_cells = Jupyter.notebook.get_cells();\n",
       "                for (var i = 0; i < nbb_cells.length; ++i) {\n",
       "                    if (nbb_cells[i].input_prompt_number == nbb_cell_id) {\n",
       "                        if (nbb_cells[i].get_text() == nbb_unformatted_code) {\n",
       "                             nbb_cells[i].set_text(nbb_formatted_code);\n",
       "                        }\n",
       "                        break;\n",
       "                    }\n",
       "                }\n",
       "            }, 500);\n",
       "            "
      ],
      "text/plain": [
       "<IPython.core.display.Javascript object>"
      ]
     },
     "metadata": {},
     "output_type": "display_data"
    }
   ],
   "source": [
    "res = pd.DataFrame(\n",
    "    {\n",
    "        \"FastAtrRsiTL\": FastAtrRsiTL,\n",
    "        \"FastAtrRsi2TL\": FastAtrRsi2TL,\n",
    "        \"RsiMa\": RsiMa,\n",
    "        \"RsiMa2\": RsiMa2,\n",
    "    }\n",
    ")\n",
    "res.tail(20)"
   ]
  },
  {
   "cell_type": "code",
   "execution_count": 14,
   "id": "early-footwear",
   "metadata": {},
   "outputs": [
    {
     "data": {
      "application/javascript": [
       "\n",
       "            setTimeout(function() {\n",
       "                var nbb_cell_id = 14;\n",
       "                var nbb_unformatted_code = \"def bollinger_uplower(\\n    FastAtrRsiTL: np.ndarray, length: int, mult: float, CONST50: int\\n) -> tuple:\\n    basis = tl.SMA(FastAtrRsiTL - CONST50, timeperiod=length)\\n    dev = mult * tl.STDDEV(FastAtrRsiTL - CONST50, length)\\n\\n    upper = basis + dev\\n    lower = basis - dev\\n    return upper, lower\";\n",
       "                var nbb_formatted_code = \"def bollinger_uplower(\\n    FastAtrRsiTL: np.ndarray, length: int, mult: float, CONST50: int\\n) -> tuple:\\n    basis = tl.SMA(FastAtrRsiTL - CONST50, timeperiod=length)\\n    dev = mult * tl.STDDEV(FastAtrRsiTL - CONST50, length)\\n\\n    upper = basis + dev\\n    lower = basis - dev\\n    return upper, lower\";\n",
       "                var nbb_cells = Jupyter.notebook.get_cells();\n",
       "                for (var i = 0; i < nbb_cells.length; ++i) {\n",
       "                    if (nbb_cells[i].input_prompt_number == nbb_cell_id) {\n",
       "                        if (nbb_cells[i].get_text() == nbb_unformatted_code) {\n",
       "                             nbb_cells[i].set_text(nbb_formatted_code);\n",
       "                        }\n",
       "                        break;\n",
       "                    }\n",
       "                }\n",
       "            }, 500);\n",
       "            "
      ],
      "text/plain": [
       "<IPython.core.display.Javascript object>"
      ]
     },
     "metadata": {},
     "output_type": "display_data"
    }
   ],
   "source": [
    "def bollinger_uplower(\n",
    "    FastAtrRsiTL: np.ndarray, length: int, mult: float, CONST50: int\n",
    ") -> tuple:\n",
    "    basis = tl.SMA(FastAtrRsiTL - CONST50, timeperiod=length)\n",
    "    dev = mult * tl.STDDEV(FastAtrRsiTL - CONST50, length)\n",
    "\n",
    "    upper = basis + dev\n",
    "    lower = basis - dev\n",
    "    return upper, lower"
   ]
  },
  {
   "cell_type": "code",
   "execution_count": 15,
   "id": "hungry-accent",
   "metadata": {},
   "outputs": [
    {
     "data": {
      "application/javascript": [
       "\n",
       "            setTimeout(function() {\n",
       "                var nbb_cell_id = 15;\n",
       "                var nbb_unformatted_code = \"upper, lower = bollinger_uplower(FastAtrRsiTL, length, mult, CONST50)\";\n",
       "                var nbb_formatted_code = \"upper, lower = bollinger_uplower(FastAtrRsiTL, length, mult, CONST50)\";\n",
       "                var nbb_cells = Jupyter.notebook.get_cells();\n",
       "                for (var i = 0; i < nbb_cells.length; ++i) {\n",
       "                    if (nbb_cells[i].input_prompt_number == nbb_cell_id) {\n",
       "                        if (nbb_cells[i].get_text() == nbb_unformatted_code) {\n",
       "                             nbb_cells[i].set_text(nbb_formatted_code);\n",
       "                        }\n",
       "                        break;\n",
       "                    }\n",
       "                }\n",
       "            }, 500);\n",
       "            "
      ],
      "text/plain": [
       "<IPython.core.display.Javascript object>"
      ]
     },
     "metadata": {},
     "output_type": "display_data"
    }
   ],
   "source": [
    "upper, lower = bollinger_uplower(FastAtrRsiTL, length, mult, CONST50)"
   ]
  },
  {
   "cell_type": "code",
   "execution_count": 16,
   "id": "smaller-commons",
   "metadata": {},
   "outputs": [
    {
     "data": {
      "application/javascript": [
       "\n",
       "            setTimeout(function() {\n",
       "                var nbb_cell_id = 16;\n",
       "                var nbb_unformatted_code = \"def zero_cross(src: pd.Series, RSIndex: np.ndarray, CONST50: int) -> tuple:\\n    QQEzlong: np.ndarray = np.zeros_like(src, dtype=int)\\n    QQEzshort: np.ndarray = np.zeros_like(src, dtype=int)\\n\\n    for i in range(1, len(src)):\\n        QQEzlong[i] = QQEzlong[i - 1]\\n        QQEzshort[i] = QQEzshort[i - 1]\\n\\n        QQEzlong[i] = QQEzlong[i] + 1 if RSIndex[i] >= CONST50 else 0\\n        QQEzshort[i] = QQEzshort[i] + 1 if RSIndex[i] < CONST50 else 0\\n    return QQEzlong, QQEzshort\";\n",
       "                var nbb_formatted_code = \"def zero_cross(src: pd.Series, RSIndex: np.ndarray, CONST50: int) -> tuple:\\n    QQEzlong: np.ndarray = np.zeros_like(src, dtype=int)\\n    QQEzshort: np.ndarray = np.zeros_like(src, dtype=int)\\n\\n    for i in range(1, len(src)):\\n        QQEzlong[i] = QQEzlong[i - 1]\\n        QQEzshort[i] = QQEzshort[i - 1]\\n\\n        QQEzlong[i] = QQEzlong[i] + 1 if RSIndex[i] >= CONST50 else 0\\n        QQEzshort[i] = QQEzshort[i] + 1 if RSIndex[i] < CONST50 else 0\\n    return QQEzlong, QQEzshort\";\n",
       "                var nbb_cells = Jupyter.notebook.get_cells();\n",
       "                for (var i = 0; i < nbb_cells.length; ++i) {\n",
       "                    if (nbb_cells[i].input_prompt_number == nbb_cell_id) {\n",
       "                        if (nbb_cells[i].get_text() == nbb_unformatted_code) {\n",
       "                             nbb_cells[i].set_text(nbb_formatted_code);\n",
       "                        }\n",
       "                        break;\n",
       "                    }\n",
       "                }\n",
       "            }, 500);\n",
       "            "
      ],
      "text/plain": [
       "<IPython.core.display.Javascript object>"
      ]
     },
     "metadata": {},
     "output_type": "display_data"
    }
   ],
   "source": [
    "def zero_cross(src: pd.Series, RSIndex: np.ndarray, CONST50: int) -> tuple:\n",
    "    QQEzlong: np.ndarray = np.zeros_like(src, dtype=int)\n",
    "    QQEzshort: np.ndarray = np.zeros_like(src, dtype=int)\n",
    "\n",
    "    for i in range(1, len(src)):\n",
    "        QQEzlong[i] = QQEzlong[i - 1]\n",
    "        QQEzshort[i] = QQEzshort[i - 1]\n",
    "\n",
    "        QQEzlong[i] = QQEzlong[i] + 1 if RSIndex[i] >= CONST50 else 0\n",
    "        QQEzshort[i] = QQEzshort[i] + 1 if RSIndex[i] < CONST50 else 0\n",
    "    return QQEzlong, QQEzshort"
   ]
  },
  {
   "cell_type": "code",
   "execution_count": 17,
   "id": "fitting-pierre",
   "metadata": {},
   "outputs": [
    {
     "data": {
      "application/javascript": [
       "\n",
       "            setTimeout(function() {\n",
       "                var nbb_cell_id = 17;\n",
       "                var nbb_unformatted_code = \"def qqe_up_down(RsiMa, RsiMa2, upper, lower, ThreshHold2, CONST50) -> tuple:\\n    Greenbar1: np.ndarray = RsiMa2 - CONST50 > ThreshHold2\\n    Greenbar2: np.ndarray = RsiMa - CONST50 > upper\\n\\n    Redbar1: np.ndarray = RsiMa2 - CONST50 < 0 - ThreshHold2\\n    Redbar2: np.ndarray = RsiMa - CONST50 < lower\\n\\n    qqe_up_cond = Greenbar1 & Greenbar2\\n    qqe_down_cond = Redbar1 & Redbar2\\n\\n    qqe_up = np.full_like(RsiMa2, fill_value=np.nan)\\n    qqe_down = np.full_like(RsiMa2, fill_value=np.nan)\\n\\n    qqe_up = np.where(qqe_up_cond, RsiMa2 - 50, np.nan)\\n    qqe_down = np.where(qqe_down_cond, RsiMa2 - 50, np.nan)\\n\\n    return qqe_up, qqe_down\";\n",
       "                var nbb_formatted_code = \"def qqe_up_down(RsiMa, RsiMa2, upper, lower, ThreshHold2, CONST50) -> tuple:\\n    Greenbar1: np.ndarray = RsiMa2 - CONST50 > ThreshHold2\\n    Greenbar2: np.ndarray = RsiMa - CONST50 > upper\\n\\n    Redbar1: np.ndarray = RsiMa2 - CONST50 < 0 - ThreshHold2\\n    Redbar2: np.ndarray = RsiMa - CONST50 < lower\\n\\n    qqe_up_cond = Greenbar1 & Greenbar2\\n    qqe_down_cond = Redbar1 & Redbar2\\n\\n    qqe_up = np.full_like(RsiMa2, fill_value=np.nan)\\n    qqe_down = np.full_like(RsiMa2, fill_value=np.nan)\\n\\n    qqe_up = np.where(qqe_up_cond, RsiMa2 - 50, np.nan)\\n    qqe_down = np.where(qqe_down_cond, RsiMa2 - 50, np.nan)\\n\\n    return qqe_up, qqe_down\";\n",
       "                var nbb_cells = Jupyter.notebook.get_cells();\n",
       "                for (var i = 0; i < nbb_cells.length; ++i) {\n",
       "                    if (nbb_cells[i].input_prompt_number == nbb_cell_id) {\n",
       "                        if (nbb_cells[i].get_text() == nbb_unformatted_code) {\n",
       "                             nbb_cells[i].set_text(nbb_formatted_code);\n",
       "                        }\n",
       "                        break;\n",
       "                    }\n",
       "                }\n",
       "            }, 500);\n",
       "            "
      ],
      "text/plain": [
       "<IPython.core.display.Javascript object>"
      ]
     },
     "metadata": {},
     "output_type": "display_data"
    }
   ],
   "source": [
    "def qqe_up_down(RsiMa, RsiMa2, upper, lower, ThreshHold2, CONST50) -> tuple:\n",
    "    Greenbar1: np.ndarray = RsiMa2 - CONST50 > ThreshHold2\n",
    "    Greenbar2: np.ndarray = RsiMa - CONST50 > upper\n",
    "\n",
    "    Redbar1: np.ndarray = RsiMa2 - CONST50 < 0 - ThreshHold2\n",
    "    Redbar2: np.ndarray = RsiMa - CONST50 < lower\n",
    "\n",
    "    qqe_up_cond = Greenbar1 & Greenbar2\n",
    "    qqe_down_cond = Redbar1 & Redbar2\n",
    "\n",
    "    qqe_up = np.full_like(RsiMa2, fill_value=np.nan)\n",
    "    qqe_down = np.full_like(RsiMa2, fill_value=np.nan)\n",
    "\n",
    "    qqe_up = np.where(qqe_up_cond, RsiMa2 - 50, np.nan)\n",
    "    qqe_down = np.where(qqe_down_cond, RsiMa2 - 50, np.nan)\n",
    "\n",
    "    return qqe_up, qqe_down"
   ]
  },
  {
   "cell_type": "code",
   "execution_count": 18,
   "id": "personal-sight",
   "metadata": {},
   "outputs": [
    {
     "data": {
      "application/javascript": [
       "\n",
       "            setTimeout(function() {\n",
       "                var nbb_cell_id = 18;\n",
       "                var nbb_unformatted_code = \"qqe_up, qqe_down = qqe_up_down(RsiMa, RsiMa2, upper, lower, ThreshHold2, CONST50)\";\n",
       "                var nbb_formatted_code = \"qqe_up, qqe_down = qqe_up_down(RsiMa, RsiMa2, upper, lower, ThreshHold2, CONST50)\";\n",
       "                var nbb_cells = Jupyter.notebook.get_cells();\n",
       "                for (var i = 0; i < nbb_cells.length; ++i) {\n",
       "                    if (nbb_cells[i].input_prompt_number == nbb_cell_id) {\n",
       "                        if (nbb_cells[i].get_text() == nbb_unformatted_code) {\n",
       "                             nbb_cells[i].set_text(nbb_formatted_code);\n",
       "                        }\n",
       "                        break;\n",
       "                    }\n",
       "                }\n",
       "            }, 500);\n",
       "            "
      ],
      "text/plain": [
       "<IPython.core.display.Javascript object>"
      ]
     },
     "metadata": {},
     "output_type": "display_data"
    }
   ],
   "source": [
    "qqe_up, qqe_down = qqe_up_down(RsiMa, RsiMa2, upper, lower, ThreshHold2, CONST50)"
   ]
  },
  {
   "cell_type": "code",
   "execution_count": 19,
   "id": "pending-australia",
   "metadata": {},
   "outputs": [
    {
     "data": {
      "text/html": [
       "<div>\n",
       "<style scoped>\n",
       "    .dataframe tbody tr th:only-of-type {\n",
       "        vertical-align: middle;\n",
       "    }\n",
       "\n",
       "    .dataframe tbody tr th {\n",
       "        vertical-align: top;\n",
       "    }\n",
       "\n",
       "    .dataframe thead th {\n",
       "        text-align: right;\n",
       "    }\n",
       "</style>\n",
       "<table border=\"1\" class=\"dataframe\">\n",
       "  <thead>\n",
       "    <tr style=\"text-align: right;\">\n",
       "      <th></th>\n",
       "      <th>qqe_up</th>\n",
       "      <th>qqe_down</th>\n",
       "    </tr>\n",
       "  </thead>\n",
       "  <tbody>\n",
       "    <tr>\n",
       "      <th>480</th>\n",
       "      <td>NaN</td>\n",
       "      <td>-18.176007</td>\n",
       "    </tr>\n",
       "    <tr>\n",
       "      <th>481</th>\n",
       "      <td>NaN</td>\n",
       "      <td>-14.194827</td>\n",
       "    </tr>\n",
       "    <tr>\n",
       "      <th>482</th>\n",
       "      <td>NaN</td>\n",
       "      <td>-11.818766</td>\n",
       "    </tr>\n",
       "    <tr>\n",
       "      <th>483</th>\n",
       "      <td>NaN</td>\n",
       "      <td>-10.554718</td>\n",
       "    </tr>\n",
       "    <tr>\n",
       "      <th>484</th>\n",
       "      <td>NaN</td>\n",
       "      <td>-11.219345</td>\n",
       "    </tr>\n",
       "    <tr>\n",
       "      <th>485</th>\n",
       "      <td>NaN</td>\n",
       "      <td>-10.529544</td>\n",
       "    </tr>\n",
       "    <tr>\n",
       "      <th>486</th>\n",
       "      <td>NaN</td>\n",
       "      <td>NaN</td>\n",
       "    </tr>\n",
       "    <tr>\n",
       "      <th>487</th>\n",
       "      <td>NaN</td>\n",
       "      <td>NaN</td>\n",
       "    </tr>\n",
       "    <tr>\n",
       "      <th>488</th>\n",
       "      <td>NaN</td>\n",
       "      <td>NaN</td>\n",
       "    </tr>\n",
       "    <tr>\n",
       "      <th>489</th>\n",
       "      <td>NaN</td>\n",
       "      <td>NaN</td>\n",
       "    </tr>\n",
       "    <tr>\n",
       "      <th>490</th>\n",
       "      <td>NaN</td>\n",
       "      <td>NaN</td>\n",
       "    </tr>\n",
       "    <tr>\n",
       "      <th>491</th>\n",
       "      <td>NaN</td>\n",
       "      <td>NaN</td>\n",
       "    </tr>\n",
       "    <tr>\n",
       "      <th>492</th>\n",
       "      <td>NaN</td>\n",
       "      <td>NaN</td>\n",
       "    </tr>\n",
       "    <tr>\n",
       "      <th>493</th>\n",
       "      <td>NaN</td>\n",
       "      <td>NaN</td>\n",
       "    </tr>\n",
       "    <tr>\n",
       "      <th>494</th>\n",
       "      <td>NaN</td>\n",
       "      <td>NaN</td>\n",
       "    </tr>\n",
       "    <tr>\n",
       "      <th>495</th>\n",
       "      <td>NaN</td>\n",
       "      <td>NaN</td>\n",
       "    </tr>\n",
       "    <tr>\n",
       "      <th>496</th>\n",
       "      <td>NaN</td>\n",
       "      <td>NaN</td>\n",
       "    </tr>\n",
       "    <tr>\n",
       "      <th>497</th>\n",
       "      <td>NaN</td>\n",
       "      <td>NaN</td>\n",
       "    </tr>\n",
       "    <tr>\n",
       "      <th>498</th>\n",
       "      <td>NaN</td>\n",
       "      <td>NaN</td>\n",
       "    </tr>\n",
       "    <tr>\n",
       "      <th>499</th>\n",
       "      <td>NaN</td>\n",
       "      <td>NaN</td>\n",
       "    </tr>\n",
       "  </tbody>\n",
       "</table>\n",
       "</div>"
      ],
      "text/plain": [
       "     qqe_up   qqe_down\n",
       "480     NaN -18.176007\n",
       "481     NaN -14.194827\n",
       "482     NaN -11.818766\n",
       "483     NaN -10.554718\n",
       "484     NaN -11.219345\n",
       "485     NaN -10.529544\n",
       "486     NaN        NaN\n",
       "487     NaN        NaN\n",
       "488     NaN        NaN\n",
       "489     NaN        NaN\n",
       "490     NaN        NaN\n",
       "491     NaN        NaN\n",
       "492     NaN        NaN\n",
       "493     NaN        NaN\n",
       "494     NaN        NaN\n",
       "495     NaN        NaN\n",
       "496     NaN        NaN\n",
       "497     NaN        NaN\n",
       "498     NaN        NaN\n",
       "499     NaN        NaN"
      ]
     },
     "execution_count": 19,
     "metadata": {},
     "output_type": "execute_result"
    },
    {
     "data": {
      "application/javascript": [
       "\n",
       "            setTimeout(function() {\n",
       "                var nbb_cell_id = 19;\n",
       "                var nbb_unformatted_code = \"res2 = pd.DataFrame(\\n    {\\n        \\\"qqe_up\\\": qqe_up,\\n        \\\"qqe_down\\\": qqe_down,\\n    }\\n)\\nres2.tail(20)\";\n",
       "                var nbb_formatted_code = \"res2 = pd.DataFrame(\\n    {\\n        \\\"qqe_up\\\": qqe_up,\\n        \\\"qqe_down\\\": qqe_down,\\n    }\\n)\\nres2.tail(20)\";\n",
       "                var nbb_cells = Jupyter.notebook.get_cells();\n",
       "                for (var i = 0; i < nbb_cells.length; ++i) {\n",
       "                    if (nbb_cells[i].input_prompt_number == nbb_cell_id) {\n",
       "                        if (nbb_cells[i].get_text() == nbb_unformatted_code) {\n",
       "                             nbb_cells[i].set_text(nbb_formatted_code);\n",
       "                        }\n",
       "                        break;\n",
       "                    }\n",
       "                }\n",
       "            }, 500);\n",
       "            "
      ],
      "text/plain": [
       "<IPython.core.display.Javascript object>"
      ]
     },
     "metadata": {},
     "output_type": "display_data"
    }
   ],
   "source": [
    "res2 = pd.DataFrame(\n",
    "    {\n",
    "        \"qqe_up\": qqe_up,\n",
    "        \"qqe_down\": qqe_down,\n",
    "    }\n",
    ")\n",
    "res2.tail(20)"
   ]
  },
  {
   "cell_type": "code",
   "execution_count": null,
   "id": "interior-instruction",
   "metadata": {},
   "outputs": [],
   "source": []
  }
 ],
 "metadata": {
  "kernelspec": {
   "display_name": "venv",
   "language": "python",
   "name": "venv"
  },
  "language_info": {
   "codemirror_mode": {
    "name": "ipython",
    "version": 3
   },
   "file_extension": ".py",
   "mimetype": "text/x-python",
   "name": "python",
   "nbconvert_exporter": "python",
   "pygments_lexer": "ipython3",
   "version": "3.6.13"
  }
 },
 "nbformat": 4,
 "nbformat_minor": 5
}
