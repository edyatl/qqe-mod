{
 "cells": [
  {
   "cell_type": "markdown",
   "id": "environmental-transcript",
   "metadata": {},
   "source": [
    "## QQE MOD by Mihkel00"
   ]
  },
  {
   "cell_type": "markdown",
   "id": "swiss-money",
   "metadata": {},
   "source": [
    "<https://ru.tradingview.com/script/TpUW4muw-QQE-MOD/>"
   ]
  },
  {
   "cell_type": "markdown",
   "id": "tamil-astronomy",
   "metadata": {},
   "source": [
    ">Developed by [@edyatl](https://github.com/edyatl) March 2023 <edyatl@yandex.ru>"
   ]
  },
  {
   "cell_type": "code",
   "execution_count": 1,
   "id": "downtown-advance",
   "metadata": {},
   "outputs": [
    {
     "data": {
      "application/javascript": [
       "\n",
       "            setTimeout(function() {\n",
       "                var nbb_cell_id = 1;\n",
       "                var nbb_unformatted_code = \"# Load Jupyter extension for auto correction coding style based on Black Lib\\n%load_ext nb_black\";\n",
       "                var nbb_formatted_code = \"# Load Jupyter extension for auto correction coding style based on Black Lib\\n%load_ext nb_black\";\n",
       "                var nbb_cells = Jupyter.notebook.get_cells();\n",
       "                for (var i = 0; i < nbb_cells.length; ++i) {\n",
       "                    if (nbb_cells[i].input_prompt_number == nbb_cell_id) {\n",
       "                        if (nbb_cells[i].get_text() == nbb_unformatted_code) {\n",
       "                             nbb_cells[i].set_text(nbb_formatted_code);\n",
       "                        }\n",
       "                        break;\n",
       "                    }\n",
       "                }\n",
       "            }, 500);\n",
       "            "
      ],
      "text/plain": [
       "<IPython.core.display.Javascript object>"
      ]
     },
     "metadata": {},
     "output_type": "display_data"
    }
   ],
   "source": [
    "# Load Jupyter extension for auto correction coding style based on Black Lib\n",
    "%load_ext nb_black"
   ]
  },
  {
   "cell_type": "markdown",
   "id": "innovative-leeds",
   "metadata": {},
   "source": [
    "### Original Indicator code\n",
    "\n",
    "```python\n",
    "//@version=4\n",
    "//By Glaz, Modified\n",
    "//\n",
    "study(\"QQE MOD\")\n",
    "RSI_Period = input(6, title='RSI Length')\n",
    "SF = input(5, title='RSI Smoothing')\n",
    "QQE = input(3, title='Fast QQE Factor')\n",
    "ThreshHold = input(3, title=\"Thresh-hold\")\n",
    "//\n",
    "\n",
    "src = input(close, title=\"RSI Source\")\n",
    "//\n",
    "\n",
    "//\n",
    "Wilders_Period = RSI_Period * 2 - 1\n",
    "\n",
    "\n",
    "Rsi = rsi(src, RSI_Period)\n",
    "RsiMa = ema(Rsi, SF)\n",
    "AtrRsi = abs(RsiMa[1] - RsiMa)\n",
    "MaAtrRsi = ema(AtrRsi, Wilders_Period)\n",
    "dar = ema(MaAtrRsi, Wilders_Period) * QQE\n",
    "\n",
    "longband = 0.0\n",
    "shortband = 0.0\n",
    "trend = 0\n",
    "\n",
    "DeltaFastAtrRsi = dar\n",
    "RSIndex = RsiMa\n",
    "newshortband = RSIndex + DeltaFastAtrRsi\n",
    "newlongband = RSIndex - DeltaFastAtrRsi\n",
    "longband := RSIndex[1] > longband[1] and RSIndex > longband[1] ? \n",
    "   max(longband[1], newlongband) : newlongband\n",
    "shortband := RSIndex[1] < shortband[1] and RSIndex < shortband[1] ? \n",
    "   min(shortband[1], newshortband) : newshortband\n",
    "cross_1 = cross(longband[1], RSIndex)\n",
    "trend := cross(RSIndex, shortband[1]) ? 1 : cross_1 ? -1 : nz(trend[1], 1)\n",
    "FastAtrRsiTL = trend == 1 ? longband : shortband\n",
    "////////////////////\n",
    "\n",
    "\n",
    "length = input(50, minval=1, title=\"Bollinger Length\")\n",
    "mult = input(0.35, minval=0.001, maxval=5, step=0.1, title=\"BB Multiplier\")\n",
    "basis = sma(FastAtrRsiTL - 50, length)\n",
    "dev = mult * stdev(FastAtrRsiTL - 50, length)\n",
    "upper = basis + dev\n",
    "lower = basis - dev\n",
    "color_bar = RsiMa - 50 > upper ? #00c3ff : RsiMa - 50 < lower ? #ff0062 : color.gray\n",
    "\n",
    "\n",
    "//\n",
    "// Zero cross\n",
    "QQEzlong = 0\n",
    "QQEzlong := nz(QQEzlong[1])\n",
    "QQEzshort = 0\n",
    "QQEzshort := nz(QQEzshort[1])\n",
    "QQEzlong := RSIndex >= 50 ? QQEzlong + 1 : 0\n",
    "QQEzshort := RSIndex < 50 ? QQEzshort + 1 : 0\n",
    "//  \n",
    "\n",
    "Zero = hline(0, color=color.white, linestyle=hline.style_dotted, linewidth=1)\n",
    "\n",
    "////////////////////////////////////////////////////////////////\n",
    "\n",
    "RSI_Period2 = input(6, title='RSI Length')\n",
    "SF2 = input(5, title='RSI Smoothing')\n",
    "QQE2 = input(1.61, title='Fast QQE2 Factor')\n",
    "ThreshHold2 = input(3, title=\"Thresh-hold\")\n",
    "\n",
    "src2 = input(close, title=\"RSI Source\")\n",
    "//\n",
    "\n",
    "//\n",
    "Wilders_Period2 = RSI_Period2 * 2 - 1\n",
    "\n",
    "\n",
    "Rsi2 = rsi(src2, RSI_Period2)\n",
    "RsiMa2 = ema(Rsi2, SF2)\n",
    "AtrRsi2 = abs(RsiMa2[1] - RsiMa2)\n",
    "MaAtrRsi2 = ema(AtrRsi2, Wilders_Period2)\n",
    "dar2 = ema(MaAtrRsi2, Wilders_Period2) * QQE2\n",
    "longband2 = 0.0\n",
    "shortband2 = 0.0\n",
    "trend2 = 0\n",
    "\n",
    "DeltaFastAtrRsi2 = dar2\n",
    "RSIndex2 = RsiMa2\n",
    "newshortband2 = RSIndex2 + DeltaFastAtrRsi2\n",
    "newlongband2 = RSIndex2 - DeltaFastAtrRsi2\n",
    "longband2 := RSIndex2[1] > longband2[1] and RSIndex2 > longband2[1] ? \n",
    "   max(longband2[1], newlongband2) : newlongband2\n",
    "shortband2 := RSIndex2[1] < shortband2[1] and RSIndex2 < shortband2[1] ? \n",
    "   min(shortband2[1], newshortband2) : newshortband2\n",
    "cross_2 = cross(longband2[1], RSIndex2)\n",
    "trend2 := cross(RSIndex2, shortband2[1]) ? 1 : cross_2 ? -1 : nz(trend2[1], 1)\n",
    "FastAtrRsi2TL = trend2 == 1 ? longband2 : shortband2\n",
    "\n",
    "\n",
    "//\n",
    "// Zero cross\n",
    "QQE2zlong = 0\n",
    "QQE2zlong := nz(QQE2zlong[1])\n",
    "QQE2zshort = 0\n",
    "QQE2zshort := nz(QQE2zshort[1])\n",
    "QQE2zlong := RSIndex2 >= 50 ? QQE2zlong + 1 : 0\n",
    "QQE2zshort := RSIndex2 < 50 ? QQE2zshort + 1 : 0\n",
    "//  \n",
    "\n",
    "hcolor2 = RsiMa2 - 50 > ThreshHold2 ? color.silver :\n",
    "   RsiMa2 - 50 < 0 - ThreshHold2 ? color.silver : na\n",
    "plot(FastAtrRsi2TL - 50, title='QQE Line', color=color.white, transp=0, linewidth=2)\n",
    "plot(RsiMa2 - 50, color=hcolor2, transp=50, title='Histo2', style=plot.style_columns)\n",
    "\n",
    "Greenbar1 = RsiMa2 - 50 > ThreshHold2\n",
    "Greenbar2 = RsiMa - 50 > upper\n",
    "\n",
    "Redbar1 = RsiMa2 - 50 < 0 - ThreshHold2\n",
    "Redbar2 = RsiMa - 50 < lower\n",
    "plot(Greenbar1 and Greenbar2 == 1 ? RsiMa2 - 50 : na, title=\"QQE Up\", style=plot.style_columns, color=#00c3ff, transp=0)\n",
    "plot(Redbar1 and Redbar2 == 1 ? RsiMa2 - 50 : na, title=\"QQE Down\", style=plot.style_columns, color=#ff0062, transp=0)\n",
    "```"
   ]
  },
  {
   "cell_type": "code",
   "execution_count": 2,
   "id": "unavailable-moderator",
   "metadata": {},
   "outputs": [
    {
     "data": {
      "application/javascript": [
       "\n",
       "            setTimeout(function() {\n",
       "                var nbb_cell_id = 2;\n",
       "                var nbb_unformatted_code = \"# Standard imports\\nimport pandas as pd\\nimport numpy as np\\nimport matplotlib.pyplot as plt\\nimport seaborn as sns\\nimport talib as tl\\n\\nimport os\\nfrom os import environ as env\\nfrom dotenv import load_dotenv\\nfrom binance import Client, ThreadedWebsocketManager, ThreadedDepthCacheManager\\n\\n# Nicest style for plots\\nsns.set(style=\\\"ticks\\\")\";\n",
       "                var nbb_formatted_code = \"# Standard imports\\nimport pandas as pd\\nimport numpy as np\\nimport matplotlib.pyplot as plt\\nimport seaborn as sns\\nimport talib as tl\\n\\nimport os\\nfrom os import environ as env\\nfrom dotenv import load_dotenv\\nfrom binance import Client, ThreadedWebsocketManager, ThreadedDepthCacheManager\\n\\n# Nicest style for plots\\nsns.set(style=\\\"ticks\\\")\";\n",
       "                var nbb_cells = Jupyter.notebook.get_cells();\n",
       "                for (var i = 0; i < nbb_cells.length; ++i) {\n",
       "                    if (nbb_cells[i].input_prompt_number == nbb_cell_id) {\n",
       "                        if (nbb_cells[i].get_text() == nbb_unformatted_code) {\n",
       "                             nbb_cells[i].set_text(nbb_formatted_code);\n",
       "                        }\n",
       "                        break;\n",
       "                    }\n",
       "                }\n",
       "            }, 500);\n",
       "            "
      ],
      "text/plain": [
       "<IPython.core.display.Javascript object>"
      ]
     },
     "metadata": {},
     "output_type": "display_data"
    }
   ],
   "source": [
    "# Standard imports\n",
    "import pandas as pd\n",
    "import numpy as np\n",
    "import matplotlib.pyplot as plt\n",
    "import seaborn as sns\n",
    "import talib as tl\n",
    "\n",
    "import os\n",
    "from os import environ as env\n",
    "from dotenv import load_dotenv\n",
    "from binance import Client, ThreadedWebsocketManager, ThreadedDepthCacheManager\n",
    "\n",
    "# Nicest style for plots\n",
    "sns.set(style=\"ticks\")"
   ]
  },
  {
   "cell_type": "code",
   "execution_count": 3,
   "id": "virgin-blowing",
   "metadata": {},
   "outputs": [
    {
     "data": {
      "application/javascript": [
       "\n",
       "            setTimeout(function() {\n",
       "                var nbb_cell_id = 3;\n",
       "                var nbb_unformatted_code = \"# Install a pip package in the current Jupyter kernel\\n# import sys\\n\\n# !{sys.executable} -m pip install -U python-dotenv\";\n",
       "                var nbb_formatted_code = \"# Install a pip package in the current Jupyter kernel\\n# import sys\\n\\n# !{sys.executable} -m pip install -U python-dotenv\";\n",
       "                var nbb_cells = Jupyter.notebook.get_cells();\n",
       "                for (var i = 0; i < nbb_cells.length; ++i) {\n",
       "                    if (nbb_cells[i].input_prompt_number == nbb_cell_id) {\n",
       "                        if (nbb_cells[i].get_text() == nbb_unformatted_code) {\n",
       "                             nbb_cells[i].set_text(nbb_formatted_code);\n",
       "                        }\n",
       "                        break;\n",
       "                    }\n",
       "                }\n",
       "            }, 500);\n",
       "            "
      ],
      "text/plain": [
       "<IPython.core.display.Javascript object>"
      ]
     },
     "metadata": {},
     "output_type": "display_data"
    }
   ],
   "source": [
    "# Install a pip package in the current Jupyter kernel\n",
    "# import sys\n",
    "\n",
    "# !{sys.executable} -m pip install -U python-dotenv"
   ]
  },
  {
   "cell_type": "code",
   "execution_count": 4,
   "id": "artistic-natural",
   "metadata": {},
   "outputs": [
    {
     "data": {
      "application/javascript": [
       "\n",
       "            setTimeout(function() {\n",
       "                var nbb_cell_id = 4;\n",
       "                var nbb_unformatted_code = \"project_dotenv = os.path.join(os.path.abspath(\\\"\\\"), \\\".env\\\")\\nif os.path.exists(project_dotenv):\\n    load_dotenv(project_dotenv)\";\n",
       "                var nbb_formatted_code = \"project_dotenv = os.path.join(os.path.abspath(\\\"\\\"), \\\".env\\\")\\nif os.path.exists(project_dotenv):\\n    load_dotenv(project_dotenv)\";\n",
       "                var nbb_cells = Jupyter.notebook.get_cells();\n",
       "                for (var i = 0; i < nbb_cells.length; ++i) {\n",
       "                    if (nbb_cells[i].input_prompt_number == nbb_cell_id) {\n",
       "                        if (nbb_cells[i].get_text() == nbb_unformatted_code) {\n",
       "                             nbb_cells[i].set_text(nbb_formatted_code);\n",
       "                        }\n",
       "                        break;\n",
       "                    }\n",
       "                }\n",
       "            }, 500);\n",
       "            "
      ],
      "text/plain": [
       "<IPython.core.display.Javascript object>"
      ]
     },
     "metadata": {},
     "output_type": "display_data"
    }
   ],
   "source": [
    "project_dotenv = os.path.join(os.path.abspath(\"\"), \".env\")\n",
    "if os.path.exists(project_dotenv):\n",
    "    load_dotenv(project_dotenv)"
   ]
  },
  {
   "cell_type": "code",
   "execution_count": 5,
   "id": "skilled-prayer",
   "metadata": {},
   "outputs": [
    {
     "data": {
      "application/javascript": [
       "\n",
       "            setTimeout(function() {\n",
       "                var nbb_cell_id = 5;\n",
       "                var nbb_unformatted_code = \"api_key, api_secret = env.get(\\\"ENV_API_KEY\\\"), env.get(\\\"ENV_SECRET_KEY\\\")\\nclient = Client(api_key, api_secret)\";\n",
       "                var nbb_formatted_code = \"api_key, api_secret = env.get(\\\"ENV_API_KEY\\\"), env.get(\\\"ENV_SECRET_KEY\\\")\\nclient = Client(api_key, api_secret)\";\n",
       "                var nbb_cells = Jupyter.notebook.get_cells();\n",
       "                for (var i = 0; i < nbb_cells.length; ++i) {\n",
       "                    if (nbb_cells[i].input_prompt_number == nbb_cell_id) {\n",
       "                        if (nbb_cells[i].get_text() == nbb_unformatted_code) {\n",
       "                             nbb_cells[i].set_text(nbb_formatted_code);\n",
       "                        }\n",
       "                        break;\n",
       "                    }\n",
       "                }\n",
       "            }, 500);\n",
       "            "
      ],
      "text/plain": [
       "<IPython.core.display.Javascript object>"
      ]
     },
     "metadata": {},
     "output_type": "display_data"
    }
   ],
   "source": [
    "api_key, api_secret = env.get(\"ENV_API_KEY\"), env.get(\"ENV_SECRET_KEY\")\n",
    "client = Client(api_key, api_secret)"
   ]
  },
  {
   "cell_type": "code",
   "execution_count": 6,
   "id": "neutral-translator",
   "metadata": {},
   "outputs": [
    {
     "data": {
      "application/javascript": [
       "\n",
       "            setTimeout(function() {\n",
       "                var nbb_cell_id = 6;\n",
       "                var nbb_unformatted_code = \"klines = client.get_klines(symbol=\\\"ATOMUSDT\\\", interval=Client.KLINE_INTERVAL_15MINUTE)\\n\\nshort_col_names = [\\n    \\\"open_time\\\",\\n    \\\"open\\\",\\n    \\\"high\\\",\\n    \\\"low\\\",\\n    \\\"close\\\",\\n    \\\"volume\\\",\\n    \\\"close_time\\\",\\n    \\\"qav\\\",\\n    \\\"num_trades\\\",\\n    \\\"taker_base_vol\\\",\\n    \\\"taker_quote_vol\\\",\\n    \\\"ignore\\\",\\n]\";\n",
       "                var nbb_formatted_code = \"klines = client.get_klines(symbol=\\\"ATOMUSDT\\\", interval=Client.KLINE_INTERVAL_15MINUTE)\\n\\nshort_col_names = [\\n    \\\"open_time\\\",\\n    \\\"open\\\",\\n    \\\"high\\\",\\n    \\\"low\\\",\\n    \\\"close\\\",\\n    \\\"volume\\\",\\n    \\\"close_time\\\",\\n    \\\"qav\\\",\\n    \\\"num_trades\\\",\\n    \\\"taker_base_vol\\\",\\n    \\\"taker_quote_vol\\\",\\n    \\\"ignore\\\",\\n]\";\n",
       "                var nbb_cells = Jupyter.notebook.get_cells();\n",
       "                for (var i = 0; i < nbb_cells.length; ++i) {\n",
       "                    if (nbb_cells[i].input_prompt_number == nbb_cell_id) {\n",
       "                        if (nbb_cells[i].get_text() == nbb_unformatted_code) {\n",
       "                             nbb_cells[i].set_text(nbb_formatted_code);\n",
       "                        }\n",
       "                        break;\n",
       "                    }\n",
       "                }\n",
       "            }, 500);\n",
       "            "
      ],
      "text/plain": [
       "<IPython.core.display.Javascript object>"
      ]
     },
     "metadata": {},
     "output_type": "display_data"
    }
   ],
   "source": [
    "klines = client.get_klines(symbol=\"ATOMUSDT\", interval=Client.KLINE_INTERVAL_15MINUTE)\n",
    "\n",
    "short_col_names = [\n",
    "    \"open_time\",\n",
    "    \"open\",\n",
    "    \"high\",\n",
    "    \"low\",\n",
    "    \"close\",\n",
    "    \"volume\",\n",
    "    \"close_time\",\n",
    "    \"qav\",\n",
    "    \"num_trades\",\n",
    "    \"taker_base_vol\",\n",
    "    \"taker_quote_vol\",\n",
    "    \"ignore\",\n",
    "]"
   ]
  },
  {
   "cell_type": "code",
   "execution_count": 7,
   "id": "varying-adobe",
   "metadata": {},
   "outputs": [
    {
     "data": {
      "text/html": [
       "<div>\n",
       "<style scoped>\n",
       "    .dataframe tbody tr th:only-of-type {\n",
       "        vertical-align: middle;\n",
       "    }\n",
       "\n",
       "    .dataframe tbody tr th {\n",
       "        vertical-align: top;\n",
       "    }\n",
       "\n",
       "    .dataframe thead th {\n",
       "        text-align: right;\n",
       "    }\n",
       "</style>\n",
       "<table border=\"1\" class=\"dataframe\">\n",
       "  <thead>\n",
       "    <tr style=\"text-align: right;\">\n",
       "      <th></th>\n",
       "      <th>open_time</th>\n",
       "      <th>open</th>\n",
       "      <th>high</th>\n",
       "      <th>low</th>\n",
       "      <th>close</th>\n",
       "      <th>volume</th>\n",
       "      <th>close_time</th>\n",
       "      <th>qav</th>\n",
       "      <th>num_trades</th>\n",
       "      <th>taker_base_vol</th>\n",
       "      <th>taker_quote_vol</th>\n",
       "      <th>ignore</th>\n",
       "    </tr>\n",
       "  </thead>\n",
       "  <tbody>\n",
       "    <tr>\n",
       "      <th>0</th>\n",
       "      <td>2023-02-28 13:45:00</td>\n",
       "      <td>12.52100000</td>\n",
       "      <td>12.56400000</td>\n",
       "      <td>12.51200000</td>\n",
       "      <td>12.52800000</td>\n",
       "      <td>9095.31000000</td>\n",
       "      <td>2023-02-28 13:59:59.999</td>\n",
       "      <td>114032.81541000</td>\n",
       "      <td>518</td>\n",
       "      <td>3327.50000000</td>\n",
       "      <td>41727.16662000</td>\n",
       "      <td>0</td>\n",
       "    </tr>\n",
       "    <tr>\n",
       "      <th>1</th>\n",
       "      <td>2023-02-28 14:00:00</td>\n",
       "      <td>12.53100000</td>\n",
       "      <td>12.56500000</td>\n",
       "      <td>12.52300000</td>\n",
       "      <td>12.53100000</td>\n",
       "      <td>9613.07000000</td>\n",
       "      <td>2023-02-28 14:14:59.999</td>\n",
       "      <td>120582.39802000</td>\n",
       "      <td>502</td>\n",
       "      <td>4836.60000000</td>\n",
       "      <td>60685.04056000</td>\n",
       "      <td>0</td>\n",
       "    </tr>\n",
       "    <tr>\n",
       "      <th>2</th>\n",
       "      <td>2023-02-28 14:15:00</td>\n",
       "      <td>12.53000000</td>\n",
       "      <td>12.57000000</td>\n",
       "      <td>12.51500000</td>\n",
       "      <td>12.52600000</td>\n",
       "      <td>19520.37000000</td>\n",
       "      <td>2023-02-28 14:29:59.999</td>\n",
       "      <td>244898.89824000</td>\n",
       "      <td>634</td>\n",
       "      <td>7996.59000000</td>\n",
       "      <td>100398.82443000</td>\n",
       "      <td>0</td>\n",
       "    </tr>\n",
       "    <tr>\n",
       "      <th>3</th>\n",
       "      <td>2023-02-28 14:30:00</td>\n",
       "      <td>12.52400000</td>\n",
       "      <td>12.58200000</td>\n",
       "      <td>12.48700000</td>\n",
       "      <td>12.55900000</td>\n",
       "      <td>17431.32000000</td>\n",
       "      <td>2023-02-28 14:44:59.999</td>\n",
       "      <td>218459.46514000</td>\n",
       "      <td>1003</td>\n",
       "      <td>8532.98000000</td>\n",
       "      <td>106967.43547000</td>\n",
       "      <td>0</td>\n",
       "    </tr>\n",
       "    <tr>\n",
       "      <th>4</th>\n",
       "      <td>2023-02-28 14:45:00</td>\n",
       "      <td>12.56100000</td>\n",
       "      <td>12.59600000</td>\n",
       "      <td>12.49000000</td>\n",
       "      <td>12.49300000</td>\n",
       "      <td>14308.51000000</td>\n",
       "      <td>2023-02-28 14:59:59.999</td>\n",
       "      <td>179475.49829000</td>\n",
       "      <td>888</td>\n",
       "      <td>5992.94000000</td>\n",
       "      <td>75195.16997000</td>\n",
       "      <td>0</td>\n",
       "    </tr>\n",
       "    <tr>\n",
       "      <th>...</th>\n",
       "      <td>...</td>\n",
       "      <td>...</td>\n",
       "      <td>...</td>\n",
       "      <td>...</td>\n",
       "      <td>...</td>\n",
       "      <td>...</td>\n",
       "      <td>...</td>\n",
       "      <td>...</td>\n",
       "      <td>...</td>\n",
       "      <td>...</td>\n",
       "      <td>...</td>\n",
       "      <td>...</td>\n",
       "    </tr>\n",
       "    <tr>\n",
       "      <th>495</th>\n",
       "      <td>2023-03-05 17:30:00</td>\n",
       "      <td>12.18500000</td>\n",
       "      <td>12.21700000</td>\n",
       "      <td>12.18400000</td>\n",
       "      <td>12.21100000</td>\n",
       "      <td>9770.52000000</td>\n",
       "      <td>2023-03-05 17:44:59.999</td>\n",
       "      <td>119194.94321000</td>\n",
       "      <td>475</td>\n",
       "      <td>5859.51000000</td>\n",
       "      <td>71474.78193000</td>\n",
       "      <td>0</td>\n",
       "    </tr>\n",
       "    <tr>\n",
       "      <th>496</th>\n",
       "      <td>2023-03-05 17:45:00</td>\n",
       "      <td>12.21300000</td>\n",
       "      <td>12.23300000</td>\n",
       "      <td>12.18300000</td>\n",
       "      <td>12.21600000</td>\n",
       "      <td>8506.85000000</td>\n",
       "      <td>2023-03-05 17:59:59.999</td>\n",
       "      <td>103907.73495000</td>\n",
       "      <td>543</td>\n",
       "      <td>6079.09000000</td>\n",
       "      <td>74251.42440000</td>\n",
       "      <td>0</td>\n",
       "    </tr>\n",
       "    <tr>\n",
       "      <th>497</th>\n",
       "      <td>2023-03-05 18:00:00</td>\n",
       "      <td>12.21000000</td>\n",
       "      <td>12.23000000</td>\n",
       "      <td>12.17600000</td>\n",
       "      <td>12.18000000</td>\n",
       "      <td>9589.18000000</td>\n",
       "      <td>2023-03-05 18:14:59.999</td>\n",
       "      <td>117080.97341000</td>\n",
       "      <td>487</td>\n",
       "      <td>5352.86000000</td>\n",
       "      <td>65370.40368000</td>\n",
       "      <td>0</td>\n",
       "    </tr>\n",
       "    <tr>\n",
       "      <th>498</th>\n",
       "      <td>2023-03-05 18:15:00</td>\n",
       "      <td>12.18200000</td>\n",
       "      <td>12.21100000</td>\n",
       "      <td>12.17700000</td>\n",
       "      <td>12.19700000</td>\n",
       "      <td>8373.60000000</td>\n",
       "      <td>2023-03-05 18:29:59.999</td>\n",
       "      <td>102130.70341000</td>\n",
       "      <td>309</td>\n",
       "      <td>6605.73000000</td>\n",
       "      <td>80573.70732000</td>\n",
       "      <td>0</td>\n",
       "    </tr>\n",
       "    <tr>\n",
       "      <th>499</th>\n",
       "      <td>2023-03-05 18:30:00</td>\n",
       "      <td>12.19600000</td>\n",
       "      <td>12.21100000</td>\n",
       "      <td>12.19600000</td>\n",
       "      <td>12.20200000</td>\n",
       "      <td>4166.76000000</td>\n",
       "      <td>2023-03-05 18:44:59.999</td>\n",
       "      <td>50858.79098000</td>\n",
       "      <td>83</td>\n",
       "      <td>3365.55000000</td>\n",
       "      <td>41080.06494000</td>\n",
       "      <td>0</td>\n",
       "    </tr>\n",
       "  </tbody>\n",
       "</table>\n",
       "<p>500 rows × 12 columns</p>\n",
       "</div>"
      ],
      "text/plain": [
       "              open_time         open         high          low        close  \\\n",
       "0   2023-02-28 13:45:00  12.52100000  12.56400000  12.51200000  12.52800000   \n",
       "1   2023-02-28 14:00:00  12.53100000  12.56500000  12.52300000  12.53100000   \n",
       "2   2023-02-28 14:15:00  12.53000000  12.57000000  12.51500000  12.52600000   \n",
       "3   2023-02-28 14:30:00  12.52400000  12.58200000  12.48700000  12.55900000   \n",
       "4   2023-02-28 14:45:00  12.56100000  12.59600000  12.49000000  12.49300000   \n",
       "..                  ...          ...          ...          ...          ...   \n",
       "495 2023-03-05 17:30:00  12.18500000  12.21700000  12.18400000  12.21100000   \n",
       "496 2023-03-05 17:45:00  12.21300000  12.23300000  12.18300000  12.21600000   \n",
       "497 2023-03-05 18:00:00  12.21000000  12.23000000  12.17600000  12.18000000   \n",
       "498 2023-03-05 18:15:00  12.18200000  12.21100000  12.17700000  12.19700000   \n",
       "499 2023-03-05 18:30:00  12.19600000  12.21100000  12.19600000  12.20200000   \n",
       "\n",
       "             volume              close_time              qav  num_trades  \\\n",
       "0     9095.31000000 2023-02-28 13:59:59.999  114032.81541000         518   \n",
       "1     9613.07000000 2023-02-28 14:14:59.999  120582.39802000         502   \n",
       "2    19520.37000000 2023-02-28 14:29:59.999  244898.89824000         634   \n",
       "3    17431.32000000 2023-02-28 14:44:59.999  218459.46514000        1003   \n",
       "4    14308.51000000 2023-02-28 14:59:59.999  179475.49829000         888   \n",
       "..              ...                     ...              ...         ...   \n",
       "495   9770.52000000 2023-03-05 17:44:59.999  119194.94321000         475   \n",
       "496   8506.85000000 2023-03-05 17:59:59.999  103907.73495000         543   \n",
       "497   9589.18000000 2023-03-05 18:14:59.999  117080.97341000         487   \n",
       "498   8373.60000000 2023-03-05 18:29:59.999  102130.70341000         309   \n",
       "499   4166.76000000 2023-03-05 18:44:59.999   50858.79098000          83   \n",
       "\n",
       "    taker_base_vol  taker_quote_vol ignore  \n",
       "0    3327.50000000   41727.16662000      0  \n",
       "1    4836.60000000   60685.04056000      0  \n",
       "2    7996.59000000  100398.82443000      0  \n",
       "3    8532.98000000  106967.43547000      0  \n",
       "4    5992.94000000   75195.16997000      0  \n",
       "..             ...              ...    ...  \n",
       "495  5859.51000000   71474.78193000      0  \n",
       "496  6079.09000000   74251.42440000      0  \n",
       "497  5352.86000000   65370.40368000      0  \n",
       "498  6605.73000000   80573.70732000      0  \n",
       "499  3365.55000000   41080.06494000      0  \n",
       "\n",
       "[500 rows x 12 columns]"
      ]
     },
     "execution_count": 7,
     "metadata": {},
     "output_type": "execute_result"
    },
    {
     "data": {
      "application/javascript": [
       "\n",
       "            setTimeout(function() {\n",
       "                var nbb_cell_id = 7;\n",
       "                var nbb_unformatted_code = \"data = pd.DataFrame(klines, columns=short_col_names)\\ndata[\\\"open_time\\\"] = pd.to_datetime(data[\\\"open_time\\\"], unit=\\\"ms\\\")\\ndata[\\\"close_time\\\"] = pd.to_datetime(data[\\\"close_time\\\"], unit=\\\"ms\\\")\\ndata\";\n",
       "                var nbb_formatted_code = \"data = pd.DataFrame(klines, columns=short_col_names)\\ndata[\\\"open_time\\\"] = pd.to_datetime(data[\\\"open_time\\\"], unit=\\\"ms\\\")\\ndata[\\\"close_time\\\"] = pd.to_datetime(data[\\\"close_time\\\"], unit=\\\"ms\\\")\\ndata\";\n",
       "                var nbb_cells = Jupyter.notebook.get_cells();\n",
       "                for (var i = 0; i < nbb_cells.length; ++i) {\n",
       "                    if (nbb_cells[i].input_prompt_number == nbb_cell_id) {\n",
       "                        if (nbb_cells[i].get_text() == nbb_unformatted_code) {\n",
       "                             nbb_cells[i].set_text(nbb_formatted_code);\n",
       "                        }\n",
       "                        break;\n",
       "                    }\n",
       "                }\n",
       "            }, 500);\n",
       "            "
      ],
      "text/plain": [
       "<IPython.core.display.Javascript object>"
      ]
     },
     "metadata": {},
     "output_type": "display_data"
    }
   ],
   "source": [
    "data = pd.DataFrame(klines, columns=short_col_names)\n",
    "data[\"open_time\"] = pd.to_datetime(data[\"open_time\"], unit=\"ms\")\n",
    "data[\"close_time\"] = pd.to_datetime(data[\"close_time\"], unit=\"ms\")\n",
    "data"
   ]
  },
  {
   "cell_type": "code",
   "execution_count": 8,
   "id": "latest-gospel",
   "metadata": {},
   "outputs": [
    {
     "data": {
      "application/javascript": [
       "\n",
       "            setTimeout(function() {\n",
       "                var nbb_cell_id = 8;\n",
       "                var nbb_unformatted_code = \"CONST50 = 50  # 50 MA bollinger band\\n\\nRSI_Period: int = 6  # input(6, title='RSI Length')\\nSF: int = 5  # input(5, title='RSI Smoothing')\\nQQE: float = 3.0  # input(3, title='Fast QQE Factor')\\nThreshHold: int = 3  # input(3, title=\\\"Thresh-hold\\\")\\n\\nsrc: pd.Series = data[\\\"close\\\"]  # input(close, title=\\\"RSI Source\\\")\\n\\nRSI_Period2: int = 6  # input(6, title='RSI Length')\\nSF2: int = 5  # input(5, title='RSI Smoothing')\\nQQE2: float = 1.61  # input(1.61, title='Fast QQE2 Factor')\\nThreshHold2: int = 3  # input(3, title=\\\"Thresh-hold\\\")\\n\\nsrc2: pd.Series = data[\\\"close\\\"]  # input(close, title=\\\"RSI Source\\\")\";\n",
       "                var nbb_formatted_code = \"CONST50 = 50  # 50 MA bollinger band\\n\\nRSI_Period: int = 6  # input(6, title='RSI Length')\\nSF: int = 5  # input(5, title='RSI Smoothing')\\nQQE: float = 3.0  # input(3, title='Fast QQE Factor')\\nThreshHold: int = 3  # input(3, title=\\\"Thresh-hold\\\")\\n\\nsrc: pd.Series = data[\\\"close\\\"]  # input(close, title=\\\"RSI Source\\\")\\n\\nRSI_Period2: int = 6  # input(6, title='RSI Length')\\nSF2: int = 5  # input(5, title='RSI Smoothing')\\nQQE2: float = 1.61  # input(1.61, title='Fast QQE2 Factor')\\nThreshHold2: int = 3  # input(3, title=\\\"Thresh-hold\\\")\\n\\nsrc2: pd.Series = data[\\\"close\\\"]  # input(close, title=\\\"RSI Source\\\")\";\n",
       "                var nbb_cells = Jupyter.notebook.get_cells();\n",
       "                for (var i = 0; i < nbb_cells.length; ++i) {\n",
       "                    if (nbb_cells[i].input_prompt_number == nbb_cell_id) {\n",
       "                        if (nbb_cells[i].get_text() == nbb_unformatted_code) {\n",
       "                             nbb_cells[i].set_text(nbb_formatted_code);\n",
       "                        }\n",
       "                        break;\n",
       "                    }\n",
       "                }\n",
       "            }, 500);\n",
       "            "
      ],
      "text/plain": [
       "<IPython.core.display.Javascript object>"
      ]
     },
     "metadata": {},
     "output_type": "display_data"
    }
   ],
   "source": [
    "CONST50 = 50  # 50 MA bollinger band\n",
    "\n",
    "RSI_Period: int = 6  # input(6, title='RSI Length')\n",
    "SF: int = 5  # input(5, title='RSI Smoothing')\n",
    "QQE: float = 3.0  # input(3, title='Fast QQE Factor')\n",
    "ThreshHold: int = 3  # input(3, title=\"Thresh-hold\")\n",
    "\n",
    "src: pd.Series = data[\"close\"]  # input(close, title=\"RSI Source\")\n",
    "\n",
    "RSI_Period2: int = 6  # input(6, title='RSI Length')\n",
    "SF2: int = 5  # input(5, title='RSI Smoothing')\n",
    "QQE2: float = 1.61  # input(1.61, title='Fast QQE2 Factor')\n",
    "ThreshHold2: int = 3  # input(3, title=\"Thresh-hold\")\n",
    "\n",
    "src2: pd.Series = data[\"close\"]  # input(close, title=\"RSI Source\")"
   ]
  },
  {
   "cell_type": "code",
   "execution_count": 9,
   "id": "stuffed-aluminum",
   "metadata": {},
   "outputs": [
    {
     "data": {
      "application/javascript": [
       "\n",
       "            setTimeout(function() {\n",
       "                var nbb_cell_id = 9;\n",
       "                var nbb_unformatted_code = \"Wilders_Period: int = RSI_Period * 2 - 1\\nRsi = tl.RSI(src, RSI_Period)\\nRsiMa = tl.EMA(Rsi, SF)\\nAtrRsi = np.abs(np.roll(RsiMa.copy(), 1) - RsiMa)\\nMaAtrRsi = tl.EMA(AtrRsi, Wilders_Period)\\ndar = tl.EMA(MaAtrRsi, Wilders_Period) * QQE\\n\\nlongband: pd.Series = np.zeros_like(src, dtype=float)\\nshortband: pd.Series = np.zeros_like(src, dtype=float)\\ntrend: pd.Series = np.zeros_like(src, dtype=int)\";\n",
       "                var nbb_formatted_code = \"Wilders_Period: int = RSI_Period * 2 - 1\\nRsi = tl.RSI(src, RSI_Period)\\nRsiMa = tl.EMA(Rsi, SF)\\nAtrRsi = np.abs(np.roll(RsiMa.copy(), 1) - RsiMa)\\nMaAtrRsi = tl.EMA(AtrRsi, Wilders_Period)\\ndar = tl.EMA(MaAtrRsi, Wilders_Period) * QQE\\n\\nlongband: pd.Series = np.zeros_like(src, dtype=float)\\nshortband: pd.Series = np.zeros_like(src, dtype=float)\\ntrend: pd.Series = np.zeros_like(src, dtype=int)\";\n",
       "                var nbb_cells = Jupyter.notebook.get_cells();\n",
       "                for (var i = 0; i < nbb_cells.length; ++i) {\n",
       "                    if (nbb_cells[i].input_prompt_number == nbb_cell_id) {\n",
       "                        if (nbb_cells[i].get_text() == nbb_unformatted_code) {\n",
       "                             nbb_cells[i].set_text(nbb_formatted_code);\n",
       "                        }\n",
       "                        break;\n",
       "                    }\n",
       "                }\n",
       "            }, 500);\n",
       "            "
      ],
      "text/plain": [
       "<IPython.core.display.Javascript object>"
      ]
     },
     "metadata": {},
     "output_type": "display_data"
    }
   ],
   "source": [
    "Wilders_Period: int = RSI_Period * 2 - 1\n",
    "Rsi = tl.RSI(src, RSI_Period)\n",
    "RsiMa = tl.EMA(Rsi, SF)\n",
    "AtrRsi = np.abs(np.roll(RsiMa.copy(), 1) - RsiMa)\n",
    "MaAtrRsi = tl.EMA(AtrRsi, Wilders_Period)\n",
    "dar = tl.EMA(MaAtrRsi, Wilders_Period) * QQE\n",
    "\n",
    "longband: pd.Series = np.zeros_like(src, dtype=float)\n",
    "shortband: pd.Series = np.zeros_like(src, dtype=float)\n",
    "trend: pd.Series = np.zeros_like(src, dtype=int)"
   ]
  },
  {
   "cell_type": "code",
   "execution_count": 10,
   "id": "special-specification",
   "metadata": {},
   "outputs": [
    {
     "data": {
      "application/javascript": [
       "\n",
       "            setTimeout(function() {\n",
       "                var nbb_cell_id = 10;\n",
       "                var nbb_unformatted_code = \"DeltaFastAtrRsi = dar\\nRSIndex = RsiMa\\nnewshortband = RSIndex + DeltaFastAtrRsi\\nnewlongband = RSIndex - DeltaFastAtrRsi\\n# RSIndex.tail(20)\";\n",
       "                var nbb_formatted_code = \"DeltaFastAtrRsi = dar\\nRSIndex = RsiMa\\nnewshortband = RSIndex + DeltaFastAtrRsi\\nnewlongband = RSIndex - DeltaFastAtrRsi\\n# RSIndex.tail(20)\";\n",
       "                var nbb_cells = Jupyter.notebook.get_cells();\n",
       "                for (var i = 0; i < nbb_cells.length; ++i) {\n",
       "                    if (nbb_cells[i].input_prompt_number == nbb_cell_id) {\n",
       "                        if (nbb_cells[i].get_text() == nbb_unformatted_code) {\n",
       "                             nbb_cells[i].set_text(nbb_formatted_code);\n",
       "                        }\n",
       "                        break;\n",
       "                    }\n",
       "                }\n",
       "            }, 500);\n",
       "            "
      ],
      "text/plain": [
       "<IPython.core.display.Javascript object>"
      ]
     },
     "metadata": {},
     "output_type": "display_data"
    }
   ],
   "source": [
    "DeltaFastAtrRsi = dar\n",
    "RSIndex = RsiMa\n",
    "newshortband = RSIndex + DeltaFastAtrRsi\n",
    "newlongband = RSIndex - DeltaFastAtrRsi\n",
    "# RSIndex.tail(20)"
   ]
  },
  {
   "cell_type": "code",
   "execution_count": 11,
   "id": "active-printer",
   "metadata": {},
   "outputs": [
    {
     "data": {
      "application/javascript": [
       "\n",
       "            setTimeout(function() {\n",
       "                var nbb_cell_id = 11;\n",
       "                var nbb_unformatted_code = \"def cross(x: pd.Series, y: pd.Series) -> pd.Series:\\n    \\\"\\\"\\\"\\n    Returns a boolean Series indicating where two pandas Series have crossed.\\n    \\\"\\\"\\\"\\n    # Ensure the inputs are pandas Series\\n    x = pd.Series(x)\\n    y = pd.Series(y)\\n\\n    # Compare the values at corresponding indices\\n    cross_above = (x.shift(1) < y.shift(1)) & (x >= y)\\n    cross_below = (x.shift(1) > y.shift(1)) & (x <= y)\\n\\n    # Combine the above and below crosses into a single boolean Series\\n    crosses = cross_above | cross_below\\n\\n    return crosses\";\n",
       "                var nbb_formatted_code = \"def cross(x: pd.Series, y: pd.Series) -> pd.Series:\\n    \\\"\\\"\\\"\\n    Returns a boolean Series indicating where two pandas Series have crossed.\\n    \\\"\\\"\\\"\\n    # Ensure the inputs are pandas Series\\n    x = pd.Series(x)\\n    y = pd.Series(y)\\n\\n    # Compare the values at corresponding indices\\n    cross_above = (x.shift(1) < y.shift(1)) & (x >= y)\\n    cross_below = (x.shift(1) > y.shift(1)) & (x <= y)\\n\\n    # Combine the above and below crosses into a single boolean Series\\n    crosses = cross_above | cross_below\\n\\n    return crosses\";\n",
       "                var nbb_cells = Jupyter.notebook.get_cells();\n",
       "                for (var i = 0; i < nbb_cells.length; ++i) {\n",
       "                    if (nbb_cells[i].input_prompt_number == nbb_cell_id) {\n",
       "                        if (nbb_cells[i].get_text() == nbb_unformatted_code) {\n",
       "                             nbb_cells[i].set_text(nbb_formatted_code);\n",
       "                        }\n",
       "                        break;\n",
       "                    }\n",
       "                }\n",
       "            }, 500);\n",
       "            "
      ],
      "text/plain": [
       "<IPython.core.display.Javascript object>"
      ]
     },
     "metadata": {},
     "output_type": "display_data"
    }
   ],
   "source": [
    "def cross(x: pd.Series, y: pd.Series) -> pd.Series:\n",
    "    \"\"\"\n",
    "    Returns a boolean Series indicating where two pandas Series have crossed.\n",
    "    \"\"\"\n",
    "    # Ensure the inputs are pandas Series\n",
    "    x = pd.Series(x)\n",
    "    y = pd.Series(y)\n",
    "\n",
    "    # Compare the values at corresponding indices\n",
    "    cross_above = (x.shift(1) < y.shift(1)) & (x >= y)\n",
    "    cross_below = (x.shift(1) > y.shift(1)) & (x <= y)\n",
    "\n",
    "    # Combine the above and below crosses into a single boolean Series\n",
    "    crosses = cross_above | cross_below\n",
    "\n",
    "    return crosses"
   ]
  },
  {
   "cell_type": "code",
   "execution_count": 12,
   "id": "floral-consultancy",
   "metadata": {},
   "outputs": [
    {
     "data": {
      "text/plain": [
       "0    0.811116\n",
       "1    0.331249\n",
       "2    0.851821\n",
       "3    0.502573\n",
       "4    0.054672\n",
       "5    0.481973\n",
       "6    0.732971\n",
       "7    0.850724\n",
       "8    0.473984\n",
       "9    0.334363\n",
       "dtype: float64"
      ]
     },
     "execution_count": 12,
     "metadata": {},
     "output_type": "execute_result"
    },
    {
     "data": {
      "application/javascript": [
       "\n",
       "            setTimeout(function() {\n",
       "                var nbb_cell_id = 12;\n",
       "                var nbb_unformatted_code = \"x = pd.Series(np.random.rand(10))\\nx\";\n",
       "                var nbb_formatted_code = \"x = pd.Series(np.random.rand(10))\\nx\";\n",
       "                var nbb_cells = Jupyter.notebook.get_cells();\n",
       "                for (var i = 0; i < nbb_cells.length; ++i) {\n",
       "                    if (nbb_cells[i].input_prompt_number == nbb_cell_id) {\n",
       "                        if (nbb_cells[i].get_text() == nbb_unformatted_code) {\n",
       "                             nbb_cells[i].set_text(nbb_formatted_code);\n",
       "                        }\n",
       "                        break;\n",
       "                    }\n",
       "                }\n",
       "            }, 500);\n",
       "            "
      ],
      "text/plain": [
       "<IPython.core.display.Javascript object>"
      ]
     },
     "metadata": {},
     "output_type": "display_data"
    }
   ],
   "source": [
    "x = pd.Series(np.random.rand(10))\n",
    "x"
   ]
  },
  {
   "cell_type": "code",
   "execution_count": 13,
   "id": "tamil-running",
   "metadata": {},
   "outputs": [
    {
     "data": {
      "text/plain": [
       "0    1.000000\n",
       "1    0.811116\n",
       "2    0.331249\n",
       "3    0.851821\n",
       "4    0.502573\n",
       "5    0.054672\n",
       "6    0.481973\n",
       "7    0.732971\n",
       "8    0.850724\n",
       "9    0.473984\n",
       "dtype: float64"
      ]
     },
     "execution_count": 13,
     "metadata": {},
     "output_type": "execute_result"
    },
    {
     "data": {
      "application/javascript": [
       "\n",
       "            setTimeout(function() {\n",
       "                var nbb_cell_id = 13;\n",
       "                var nbb_unformatted_code = \"pd.Series(np.nan_to_num(x.shift(1), nan=1))\";\n",
       "                var nbb_formatted_code = \"pd.Series(np.nan_to_num(x.shift(1), nan=1))\";\n",
       "                var nbb_cells = Jupyter.notebook.get_cells();\n",
       "                for (var i = 0; i < nbb_cells.length; ++i) {\n",
       "                    if (nbb_cells[i].input_prompt_number == nbb_cell_id) {\n",
       "                        if (nbb_cells[i].get_text() == nbb_unformatted_code) {\n",
       "                             nbb_cells[i].set_text(nbb_formatted_code);\n",
       "                        }\n",
       "                        break;\n",
       "                    }\n",
       "                }\n",
       "            }, 500);\n",
       "            "
      ],
      "text/plain": [
       "<IPython.core.display.Javascript object>"
      ]
     },
     "metadata": {},
     "output_type": "display_data"
    }
   ],
   "source": [
    "pd.Series(np.nan_to_num(x.shift(1), nan=1))"
   ]
  },
  {
   "cell_type": "code",
   "execution_count": 14,
   "id": "continued-transformation",
   "metadata": {},
   "outputs": [
    {
     "data": {
      "text/plain": [
       "0    0.008331\n",
       "1    0.759297\n",
       "2    0.391972\n",
       "3    0.957218\n",
       "4    0.215026\n",
       "5    0.532437\n",
       "6    0.529552\n",
       "7    0.170471\n",
       "8    0.493564\n",
       "9    0.393354\n",
       "dtype: float64"
      ]
     },
     "execution_count": 14,
     "metadata": {},
     "output_type": "execute_result"
    },
    {
     "data": {
      "application/javascript": [
       "\n",
       "            setTimeout(function() {\n",
       "                var nbb_cell_id = 14;\n",
       "                var nbb_unformatted_code = \"y = pd.Series(np.random.rand(10))\\ny\";\n",
       "                var nbb_formatted_code = \"y = pd.Series(np.random.rand(10))\\ny\";\n",
       "                var nbb_cells = Jupyter.notebook.get_cells();\n",
       "                for (var i = 0; i < nbb_cells.length; ++i) {\n",
       "                    if (nbb_cells[i].input_prompt_number == nbb_cell_id) {\n",
       "                        if (nbb_cells[i].get_text() == nbb_unformatted_code) {\n",
       "                             nbb_cells[i].set_text(nbb_formatted_code);\n",
       "                        }\n",
       "                        break;\n",
       "                    }\n",
       "                }\n",
       "            }, 500);\n",
       "            "
      ],
      "text/plain": [
       "<IPython.core.display.Javascript object>"
      ]
     },
     "metadata": {},
     "output_type": "display_data"
    }
   ],
   "source": [
    "y = pd.Series(np.random.rand(10))\n",
    "y"
   ]
  },
  {
   "cell_type": "code",
   "execution_count": 15,
   "id": "shared-floor",
   "metadata": {},
   "outputs": [
    {
     "data": {
      "text/plain": [
       "0    False\n",
       "1     True\n",
       "2     True\n",
       "3     True\n",
       "4    False\n",
       "5    False\n",
       "6     True\n",
       "7    False\n",
       "8     True\n",
       "9    False\n",
       "dtype: bool"
      ]
     },
     "execution_count": 15,
     "metadata": {},
     "output_type": "execute_result"
    },
    {
     "data": {
      "application/javascript": [
       "\n",
       "            setTimeout(function() {\n",
       "                var nbb_cell_id = 15;\n",
       "                var nbb_unformatted_code = \"crosses = cross(x, y)\\ncrosses\";\n",
       "                var nbb_formatted_code = \"crosses = cross(x, y)\\ncrosses\";\n",
       "                var nbb_cells = Jupyter.notebook.get_cells();\n",
       "                for (var i = 0; i < nbb_cells.length; ++i) {\n",
       "                    if (nbb_cells[i].input_prompt_number == nbb_cell_id) {\n",
       "                        if (nbb_cells[i].get_text() == nbb_unformatted_code) {\n",
       "                             nbb_cells[i].set_text(nbb_formatted_code);\n",
       "                        }\n",
       "                        break;\n",
       "                    }\n",
       "                }\n",
       "            }, 500);\n",
       "            "
      ],
      "text/plain": [
       "<IPython.core.display.Javascript object>"
      ]
     },
     "metadata": {},
     "output_type": "display_data"
    }
   ],
   "source": [
    "crosses = cross(x, y)\n",
    "crosses"
   ]
  },
  {
   "cell_type": "code",
   "execution_count": 16,
   "id": "divine-harbor",
   "metadata": {},
   "outputs": [
    {
     "data": {
      "text/plain": [
       "array([ 0.        ,         nan,         nan,         nan,         nan,\n",
       "               nan,         nan,         nan,         nan,         nan,\n",
       "               nan,         nan,         nan,         nan,         nan,\n",
       "               nan,         nan,         nan,         nan,         nan,\n",
       "               nan,         nan,         nan,         nan,         nan,\n",
       "               nan,         nan,         nan,         nan,         nan,\n",
       "               nan, 30.51291915, 30.51291915, 39.7552971 , 39.7552971 ,\n",
       "       53.14041585, 53.14041585, 53.14041585, 53.14041585, 53.14041585,\n",
       "       53.14041585, 53.14041585, 53.14041585, 53.14041585, 52.66345417,\n",
       "       52.66345417, 64.23728313, 64.23728313, 75.0416648 , 75.0416648 ,\n",
       "       75.0416648 , 75.0416648 , 75.0416648 , 75.0416648 , 86.15992724,\n",
       "       86.15992724, 86.15992724, 86.15992724, 96.01685063, 96.01685063,\n",
       "       96.01685063, 96.01685063, 94.48436751, 90.62312824, 88.92631549,\n",
       "       88.31847271, 88.06890285, 88.06890285, 86.59270794, 86.35662168,\n",
       "       80.69613251, 76.88782976, 70.81485482, 70.5648486 , 70.03386034,\n",
       "       70.03386034, 70.03386034, 79.8461228 , 79.8461228 , 79.8461228 ,\n",
       "       79.8461228 , 79.8461228 , 79.8461228 , 88.78138274, 88.78138274,\n",
       "       88.78138274, 96.16689943, 95.31788359, 94.96020531, 86.98838253,\n",
       "       83.55583926, 80.62831067, 77.45538206, 73.59648696, 68.50687472,\n",
       "       68.50687472, 68.50687472, 68.50687472, 78.26718226, 78.26718226,\n",
       "       78.26163916, 73.63651901, 71.10424739, 66.98741435, 61.37080005,\n",
       "       51.41239256, 49.12584759, 49.12584759, 49.12584759, 49.12584759,\n",
       "       49.12584759, 62.37183638, 57.4986254 , 53.48173175, 48.66010966,\n",
       "       43.99813118, 43.18341116, 40.86331882, 38.22750752, 34.76565647,\n",
       "       29.84788618, 29.20012794, 27.9195997 , 27.9195997 , 27.9195997 ,\n",
       "       38.97307552, 38.97307552, 56.73730571, 56.73730571, 69.17678428,\n",
       "       65.74689523, 65.74689523, 65.74689523, 65.74689523, 65.74689523,\n",
       "       65.74689523, 79.61142329, 79.61142329, 79.61142329, 79.61142329,\n",
       "       79.61142329, 79.61142329, 74.06671314, 64.34291504, 58.57689047,\n",
       "       54.19463   , 51.06311714, 45.1164166 , 42.35133808, 41.28961742,\n",
       "       41.28961742, 41.28961742, 41.28961742, 41.28961742, 41.28961742,\n",
       "       41.28961742, 52.36521074, 47.60676165, 47.60676165, 45.68067658,\n",
       "       41.22190028, 36.91304166, 33.45482268, 33.40389586, 32.26724072,\n",
       "       32.26724072, 32.26724072, 32.26724072, 32.26724072, 32.26724072,\n",
       "       32.26724072, 44.1983149 , 44.1983149 , 44.1983149 , 57.12296633,\n",
       "       57.12296633, 52.35658028, 48.15795428, 43.93979674, 42.42503294,\n",
       "       42.41920473, 39.2634666 , 38.0462284 , 38.0462284 , 38.0462284 ,\n",
       "       36.56203489, 31.67382679, 27.57236615, 27.57236615, 27.57236615,\n",
       "       37.27138568, 37.27138568, 37.27138568, 37.27138568, 37.27138568,\n",
       "       37.27138568, 37.27138568, 53.93126991, 53.93126991, 70.18074416,\n",
       "       70.18074416, 70.18074416, 70.18074416, 68.08971916, 65.15274305,\n",
       "       63.36345577, 63.36345577, 62.99807993, 62.90229988, 62.90229988,\n",
       "       62.90229988, 62.90229988, 78.8250738 , 77.4339136 , 77.4339136 ,\n",
       "       77.4339136 , 77.4339136 , 77.4339136 , 77.4339136 , 77.4339136 ,\n",
       "       75.01005988, 72.45608626, 67.81066694, 63.50595008, 58.56299854,\n",
       "       58.56299854, 58.56299854, 58.56299854, 58.56299854, 70.40854751,\n",
       "       67.08181399, 65.49855346, 64.92829668, 58.58301199, 52.71210909,\n",
       "       47.39694106, 43.55413115, 39.00415962, 31.58200845, 26.24582633,\n",
       "       22.69487654, 22.69487654, 22.69487654, 22.69487654, 22.69487654,\n",
       "       36.18280782, 36.18280782, 36.18280782, 49.08300447, 49.08300447,\n",
       "       49.08300447, 61.28895003, 61.28895003, 61.28895003, 61.28895003,\n",
       "       61.28895003, 61.28895003, 61.28895003, 61.28895003, 61.28895003,\n",
       "       61.28895003, 61.28895003, 61.28895003, 71.07867429, 71.07867429,\n",
       "       69.05188922, 69.05188922, 69.05188922, 77.00442468, 77.00442468,\n",
       "       77.00442468, 77.00442468, 77.00442468, 75.43985379, 71.41951136,\n",
       "       70.52681804, 65.23219823, 61.23297189, 60.9442031 , 54.70766059,\n",
       "       49.08704519, 48.98072521, 44.28322413, 41.38735308, 38.54759208,\n",
       "       35.20456902, 35.20456902, 35.20456902, 52.17991849, 52.17991849,\n",
       "       52.17991849, 66.01520034, 65.28022618, 65.28022618, 65.28022618,\n",
       "       64.1047928 , 59.14664026, 54.92004943, 54.92004943, 54.92004943,\n",
       "       54.92004943, 65.5788831 , 65.5788831 , 65.5788831 , 65.5788831 ,\n",
       "       65.5788831 , 65.5788831 , 63.47504209, 59.35151946, 59.35151946,\n",
       "       59.35151946, 59.30007517, 59.30007517, 59.30007517, 72.5398512 ,\n",
       "       66.04492721, 60.32554404, 53.25851652, 50.09983073, 48.40088402,\n",
       "       44.17870457, 41.27582875, 41.27582875, 41.27582875, 41.27582875,\n",
       "       59.48769757, 59.48769757, 59.48769757, 74.50058622, 74.50058622,\n",
       "       74.50058622, 74.50058622, 74.50058622, 74.50058622, 74.50058622,\n",
       "       74.50058622, 68.40932136, 65.60616989, 65.60616989, 62.47178037,\n",
       "       59.26453687, 54.95544883, 51.71396717, 51.71396717, 51.05609969,\n",
       "       51.05609969, 49.84763953, 45.40272667, 45.40272667, 45.40272667,\n",
       "       45.40272667, 45.40272667, 45.40272667, 56.84063859, 56.84063859,\n",
       "       71.15048994, 71.15048994, 71.15048994, 71.15048994, 69.09929411,\n",
       "       66.39840348, 59.59486569, 59.59486569, 59.19901201, 57.49188616,\n",
       "       57.49188616, 57.49188616, 56.68197786, 55.57676253, 55.57676253,\n",
       "       54.6199289 , 49.82795613, 46.53419082, 46.53419082, 46.53419082,\n",
       "       46.53419082, 56.12630968, 56.12630968, 56.12630968, 56.12630968,\n",
       "       56.12630968, 56.12630968, 66.06355466, 64.91259426, 61.01160266,\n",
       "       58.20374855, 56.50929873, 50.19637064, 46.12214407, 46.12214407,\n",
       "       46.12214407, 42.81393531, 37.38821012, 37.38821012, 37.38821012,\n",
       "       37.38821012, 37.38821012, 48.03865578, 48.03865578, 48.03865578,\n",
       "       48.03865578, 45.08506612, 45.08506612, 45.08506612, 45.08506612,\n",
       "       45.08506612, 45.08506612, 41.48779285, 35.95851442, 31.54187232,\n",
       "       31.54187232, 31.54187232, 31.54187232, 31.54187232, 40.73671249,\n",
       "       38.7300391 , 38.7300391 , 38.7300391 , 48.48091298, 48.48091298,\n",
       "       59.80426607, 59.80426607, 59.80426607, 59.80426607, 71.8603597 ,\n",
       "       71.8603597 , 71.8603597 , 83.04268927, 83.04268927, 83.04268927,\n",
       "       93.89695584, 93.89695584, 93.89695584, 93.89695584, 93.89695584,\n",
       "       93.01466876, 90.19964046, 90.19964046, 90.19964046, 90.19964046,\n",
       "       86.48333139, 83.73733885, 80.29513418, 78.86380832, 75.22948326,\n",
       "       70.18895831, 66.65796413, 65.40049449, 62.08733488, 62.08733488,\n",
       "       58.21210398, 56.17098084, 50.63115985, 46.47532046, 46.47532046,\n",
       "       46.47532046, 46.47532046, 46.47532046, 46.47532046, 44.97686032,\n",
       "       39.92005566, 39.92005566, 39.92005566, 39.92005566, 39.92005566,\n",
       "       39.92005566, 55.82777656, 55.82777656, 70.41889888, 70.41889888,\n",
       "       70.41889888, 66.22217726, 62.70739346, 62.09921054, 59.8913931 ,\n",
       "       59.8913931 , 59.8913931 , 59.8913931 , 72.2320624 , 71.35593146,\n",
       "       69.24362606, 66.96647946, 66.96647946, 66.96647946, 66.96647946,\n",
       "       77.47147078, 76.83229836, 71.29030707, 66.99359435, 65.38028171,\n",
       "       65.38028171, 65.38028171, 65.38028171, 65.38028171, 65.38028171,\n",
       "       76.06698468, 76.06698468, 72.53304082, 70.53338519, 69.98350137])"
      ]
     },
     "execution_count": 16,
     "metadata": {},
     "output_type": "execute_result"
    },
    {
     "data": {
      "application/javascript": [
       "\n",
       "            setTimeout(function() {\n",
       "                var nbb_cell_id = 16;\n",
       "                var nbb_unformatted_code = \"for i in range(1, len(src)):\\n    if RSIndex[i - 1] > longband[i - 1] and RSIndex[i] > longband[i - 1]:\\n        longband[i] = max(longband[i - 1], newlongband[i])\\n    else:\\n        longband[i] = newlongband[i]\\n\\n    if RSIndex[i - 1] < shortband[i - 1] and RSIndex[i] < shortband[i - 1]:\\n        shortband[i] = min(shortband[i - 1], newshortband[i])\\n    else:\\n        shortband[i] = newshortband[i]\\n\\n# long_cond = (RSIndex[:-1] > longband[:-1]) & (RSIndex[1:] > longband[:-1])\\n# longband[long_cond] = np.maximum(longband[long_cond], newlongband[long_cond])\\n# longband[~long_cond] = newlongband[~long_cond]\\n\\n# short_cond = (RSIndex[:-1] < shortband[:-1]) & (RSIndex[1:] < shortband[:-1])\\n# shortband[short_cond] = np.minimum(shortband[short_cond], newshortband[short_cond])\\n# shortband[~short_cond] = newshortband[~short_cond]\\n\\nshortband\";\n",
       "                var nbb_formatted_code = \"for i in range(1, len(src)):\\n    if RSIndex[i - 1] > longband[i - 1] and RSIndex[i] > longband[i - 1]:\\n        longband[i] = max(longband[i - 1], newlongband[i])\\n    else:\\n        longband[i] = newlongband[i]\\n\\n    if RSIndex[i - 1] < shortband[i - 1] and RSIndex[i] < shortband[i - 1]:\\n        shortband[i] = min(shortband[i - 1], newshortband[i])\\n    else:\\n        shortband[i] = newshortband[i]\\n\\n# long_cond = (RSIndex[:-1] > longband[:-1]) & (RSIndex[1:] > longband[:-1])\\n# longband[long_cond] = np.maximum(longband[long_cond], newlongband[long_cond])\\n# longband[~long_cond] = newlongband[~long_cond]\\n\\n# short_cond = (RSIndex[:-1] < shortband[:-1]) & (RSIndex[1:] < shortband[:-1])\\n# shortband[short_cond] = np.minimum(shortband[short_cond], newshortband[short_cond])\\n# shortband[~short_cond] = newshortband[~short_cond]\\n\\nshortband\";\n",
       "                var nbb_cells = Jupyter.notebook.get_cells();\n",
       "                for (var i = 0; i < nbb_cells.length; ++i) {\n",
       "                    if (nbb_cells[i].input_prompt_number == nbb_cell_id) {\n",
       "                        if (nbb_cells[i].get_text() == nbb_unformatted_code) {\n",
       "                             nbb_cells[i].set_text(nbb_formatted_code);\n",
       "                        }\n",
       "                        break;\n",
       "                    }\n",
       "                }\n",
       "            }, 500);\n",
       "            "
      ],
      "text/plain": [
       "<IPython.core.display.Javascript object>"
      ]
     },
     "metadata": {},
     "output_type": "display_data"
    }
   ],
   "source": [
    "for i in range(1, len(src)):\n",
    "    if RSIndex[i - 1] > longband[i - 1] and RSIndex[i] > longband[i - 1]:\n",
    "        longband[i] = max(longband[i - 1], newlongband[i])\n",
    "    else:\n",
    "        longband[i] = newlongband[i]\n",
    "\n",
    "    if RSIndex[i - 1] < shortband[i - 1] and RSIndex[i] < shortband[i - 1]:\n",
    "        shortband[i] = min(shortband[i - 1], newshortband[i])\n",
    "    else:\n",
    "        shortband[i] = newshortband[i]\n",
    "\n",
    "# long_cond = (RSIndex[:-1] > longband[:-1]) & (RSIndex[1:] > longband[:-1])\n",
    "# longband[long_cond] = np.maximum(longband[long_cond], newlongband[long_cond])\n",
    "# longband[~long_cond] = newlongband[~long_cond]\n",
    "\n",
    "# short_cond = (RSIndex[:-1] < shortband[:-1]) & (RSIndex[1:] < shortband[:-1])\n",
    "# shortband[short_cond] = np.minimum(shortband[short_cond], newshortband[short_cond])\n",
    "# shortband[~short_cond] = newshortband[~short_cond]\n",
    "\n",
    "shortband"
   ]
  },
  {
   "cell_type": "code",
   "execution_count": 17,
   "id": "electoral-hostel",
   "metadata": {},
   "outputs": [
    {
     "data": {
      "text/plain": [
       "array([ 0,  0,  0,  0,  0,  0,  0,  0,  0,  0,  0,  0,  0,  0,  0,  0,  0,\n",
       "        0,  0,  0,  0,  0,  0,  0,  0,  0,  0,  0,  0,  0,  0,  0,  0,  1,\n",
       "        1,  1,  1,  1,  1,  1,  1,  1,  1,  1,  1,  1,  1,  1,  1,  1,  1,\n",
       "        1,  1,  1,  1,  1,  1,  1,  1,  1,  1,  1,  1, -1, -1, -1, -1, -1,\n",
       "       -1, -1, -1, -1, -1, -1, -1, -1, -1,  1,  1,  1,  1,  1,  1,  1,  1,\n",
       "        1,  1,  1,  1, -1, -1, -1, -1, -1, -1, -1, -1, -1,  1,  1,  1,  1,\n",
       "       -1, -1, -1, -1, -1, -1, -1, -1, -1,  1,  1,  1, -1, -1, -1, -1, -1,\n",
       "       -1, -1, -1, -1, -1, -1,  1,  1,  1,  1,  1,  1,  1,  1,  1,  1,  1,\n",
       "        1,  1,  1,  1,  1,  1, -1, -1, -1, -1, -1, -1, -1, -1, -1, -1, -1,\n",
       "       -1, -1, -1,  1,  1,  1,  1, -1, -1, -1, -1, -1, -1, -1, -1, -1, -1,\n",
       "       -1,  1,  1,  1,  1,  1,  1, -1, -1, -1, -1, -1, -1, -1, -1, -1, -1,\n",
       "       -1, -1, -1,  1,  1,  1,  1,  1,  1,  1,  1,  1,  1,  1,  1,  1,  1,\n",
       "       -1, -1, -1, -1, -1, -1, -1, -1,  1,  1,  1,  1,  1,  1,  1,  1,  1,\n",
       "       -1, -1, -1, -1, -1, -1, -1, -1,  1,  1,  1,  1, -1, -1, -1, -1, -1,\n",
       "       -1, -1, -1, -1, -1, -1, -1,  1,  1,  1,  1,  1,  1,  1,  1,  1,  1,\n",
       "        1,  1,  1,  1,  1,  1,  1,  1,  1,  1,  1,  1,  1,  1,  1,  1,  1,\n",
       "        1, -1, -1, -1, -1, -1, -1, -1, -1, -1, -1, -1, -1, -1, -1, -1,  1,\n",
       "        1,  1,  1,  1,  1,  1,  1,  1, -1, -1, -1, -1,  1,  1,  1,  1,  1,\n",
       "        1, -1, -1, -1, -1, -1, -1, -1,  1,  1, -1, -1, -1, -1, -1, -1, -1,\n",
       "       -1, -1,  1,  1,  1,  1,  1,  1,  1,  1,  1,  1,  1, -1, -1, -1, -1,\n",
       "       -1, -1, -1, -1, -1, -1, -1, -1, -1, -1, -1, -1, -1,  1,  1,  1,  1,\n",
       "        1,  1,  1, -1, -1, -1, -1, -1, -1, -1, -1, -1, -1, -1, -1, -1, -1,\n",
       "       -1, -1,  1,  1,  1,  1,  1,  1,  1,  1,  1,  1, -1, -1, -1, -1, -1,\n",
       "       -1, -1, -1, -1, -1, -1,  1,  1,  1,  1,  1,  1,  1,  1,  1,  1, -1,\n",
       "       -1, -1, -1, -1, -1, -1,  1,  1,  1,  1,  1,  1,  1,  1,  1,  1,  1,\n",
       "        1,  1,  1,  1,  1,  1,  1,  1,  1,  1,  1, -1, -1, -1, -1, -1, -1,\n",
       "       -1, -1, -1, -1, -1, -1, -1, -1, -1, -1, -1, -1, -1, -1, -1, -1, -1,\n",
       "       -1, -1, -1, -1, -1, -1, -1,  1,  1,  1,  1,  1, -1, -1, -1, -1, -1,\n",
       "       -1, -1,  1,  1,  1,  1,  1,  1,  1,  1,  1,  1, -1, -1, -1, -1, -1,\n",
       "       -1, -1,  1,  1, -1, -1, -1])"
      ]
     },
     "execution_count": 17,
     "metadata": {},
     "output_type": "execute_result"
    },
    {
     "data": {
      "application/javascript": [
       "\n",
       "            setTimeout(function() {\n",
       "                var nbb_cell_id = 17;\n",
       "                var nbb_unformatted_code = \"cross_1 = cross(np.roll(longband.copy(), 1), RSIndex)\\ncross_2 = cross(RSIndex, np.roll(shortband.copy(), 1))\\n# trend_1 = np.nan_to_num(np.roll(trend.copy(), 1), nan=1)\\n\\nfor i in range(1, len(src)):\\n    trend[i] = (\\n        1\\n        if cross_2[i]\\n        else -1\\n        if cross_1[i]\\n        else 1\\n        if np.isnan(trend[i - 1])\\n        else trend[i - 1]\\n    )\\n# trend[:][cross_2] = 1\\n# trend[:][cross_1] = -1\\n# # trend[:][np.isnan(trend[:])] = 1\\n# trend[:][trend == 0] = 1\\n\\ntrend\";\n",
       "                var nbb_formatted_code = \"cross_1 = cross(np.roll(longband.copy(), 1), RSIndex)\\ncross_2 = cross(RSIndex, np.roll(shortband.copy(), 1))\\n# trend_1 = np.nan_to_num(np.roll(trend.copy(), 1), nan=1)\\n\\nfor i in range(1, len(src)):\\n    trend[i] = (\\n        1\\n        if cross_2[i]\\n        else -1\\n        if cross_1[i]\\n        else 1\\n        if np.isnan(trend[i - 1])\\n        else trend[i - 1]\\n    )\\n# trend[:][cross_2] = 1\\n# trend[:][cross_1] = -1\\n# # trend[:][np.isnan(trend[:])] = 1\\n# trend[:][trend == 0] = 1\\n\\ntrend\";\n",
       "                var nbb_cells = Jupyter.notebook.get_cells();\n",
       "                for (var i = 0; i < nbb_cells.length; ++i) {\n",
       "                    if (nbb_cells[i].input_prompt_number == nbb_cell_id) {\n",
       "                        if (nbb_cells[i].get_text() == nbb_unformatted_code) {\n",
       "                             nbb_cells[i].set_text(nbb_formatted_code);\n",
       "                        }\n",
       "                        break;\n",
       "                    }\n",
       "                }\n",
       "            }, 500);\n",
       "            "
      ],
      "text/plain": [
       "<IPython.core.display.Javascript object>"
      ]
     },
     "metadata": {},
     "output_type": "display_data"
    }
   ],
   "source": [
    "cross_1 = cross(np.roll(longband.copy(), 1), RSIndex)\n",
    "cross_2 = cross(RSIndex, np.roll(shortband.copy(), 1))\n",
    "# trend_1 = np.nan_to_num(np.roll(trend.copy(), 1), nan=1)\n",
    "\n",
    "for i in range(1, len(src)):\n",
    "    trend[i] = (\n",
    "        1\n",
    "        if cross_2[i]\n",
    "        else -1\n",
    "        if cross_1[i]\n",
    "        else 1\n",
    "        if np.isnan(trend[i - 1])\n",
    "        else trend[i - 1]\n",
    "    )\n",
    "# trend[:][cross_2] = 1\n",
    "# trend[:][cross_1] = -1\n",
    "# # trend[:][np.isnan(trend[:])] = 1\n",
    "# trend[:][trend == 0] = 1\n",
    "\n",
    "trend"
   ]
  },
  {
   "cell_type": "code",
   "execution_count": 18,
   "id": "restricted-assault",
   "metadata": {},
   "outputs": [
    {
     "data": {
      "text/plain": [
       "490   -1\n",
       "491   -1\n",
       "492   -1\n",
       "493   -1\n",
       "494   -1\n",
       "495    1\n",
       "496    1\n",
       "497   -1\n",
       "498   -1\n",
       "499   -1\n",
       "dtype: int64"
      ]
     },
     "execution_count": 18,
     "metadata": {},
     "output_type": "execute_result"
    },
    {
     "data": {
      "application/javascript": [
       "\n",
       "            setTimeout(function() {\n",
       "                var nbb_cell_id = 18;\n",
       "                var nbb_unformatted_code = \"pd.Series(trend).tail(10)\";\n",
       "                var nbb_formatted_code = \"pd.Series(trend).tail(10)\";\n",
       "                var nbb_cells = Jupyter.notebook.get_cells();\n",
       "                for (var i = 0; i < nbb_cells.length; ++i) {\n",
       "                    if (nbb_cells[i].input_prompt_number == nbb_cell_id) {\n",
       "                        if (nbb_cells[i].get_text() == nbb_unformatted_code) {\n",
       "                             nbb_cells[i].set_text(nbb_formatted_code);\n",
       "                        }\n",
       "                        break;\n",
       "                    }\n",
       "                }\n",
       "            }, 500);\n",
       "            "
      ],
      "text/plain": [
       "<IPython.core.display.Javascript object>"
      ]
     },
     "metadata": {},
     "output_type": "display_data"
    }
   ],
   "source": [
    "pd.Series(trend).tail(10)"
   ]
  },
  {
   "cell_type": "code",
   "execution_count": 19,
   "id": "broad-completion",
   "metadata": {},
   "outputs": [
    {
     "data": {
      "text/plain": [
       "490    65.380282\n",
       "491    65.380282\n",
       "492    65.380282\n",
       "493    65.380282\n",
       "494    65.380282\n",
       "495    60.550239\n",
       "496    65.099472\n",
       "497    72.533041\n",
       "498    70.533385\n",
       "499    69.983501\n",
       "dtype: float64"
      ]
     },
     "execution_count": 19,
     "metadata": {},
     "output_type": "execute_result"
    },
    {
     "data": {
      "application/javascript": [
       "\n",
       "            setTimeout(function() {\n",
       "                var nbb_cell_id = 19;\n",
       "                var nbb_unformatted_code = \"FastAtrRsiTL: pd.Series = np.zeros_like(src, dtype=float)\\n# for i in range(len(src)):\\n#     FastAtrRsiTL[i] = longband[i] if trend[i] == 1 else shortband[i]\\nFastAtrRsiTL = np.where(trend == 1, longband, shortband)\\nFastAtrRsiTL = np.nan_to_num(FastAtrRsiTL)\\npd.Series(FastAtrRsiTL).tail(10)\";\n",
       "                var nbb_formatted_code = \"FastAtrRsiTL: pd.Series = np.zeros_like(src, dtype=float)\\n# for i in range(len(src)):\\n#     FastAtrRsiTL[i] = longband[i] if trend[i] == 1 else shortband[i]\\nFastAtrRsiTL = np.where(trend == 1, longband, shortband)\\nFastAtrRsiTL = np.nan_to_num(FastAtrRsiTL)\\npd.Series(FastAtrRsiTL).tail(10)\";\n",
       "                var nbb_cells = Jupyter.notebook.get_cells();\n",
       "                for (var i = 0; i < nbb_cells.length; ++i) {\n",
       "                    if (nbb_cells[i].input_prompt_number == nbb_cell_id) {\n",
       "                        if (nbb_cells[i].get_text() == nbb_unformatted_code) {\n",
       "                             nbb_cells[i].set_text(nbb_formatted_code);\n",
       "                        }\n",
       "                        break;\n",
       "                    }\n",
       "                }\n",
       "            }, 500);\n",
       "            "
      ],
      "text/plain": [
       "<IPython.core.display.Javascript object>"
      ]
     },
     "metadata": {},
     "output_type": "display_data"
    }
   ],
   "source": [
    "FastAtrRsiTL: pd.Series = np.zeros_like(src, dtype=float)\n",
    "# for i in range(len(src)):\n",
    "#     FastAtrRsiTL[i] = longband[i] if trend[i] == 1 else shortband[i]\n",
    "FastAtrRsiTL = np.where(trend == 1, longband, shortband)\n",
    "FastAtrRsiTL = np.nan_to_num(FastAtrRsiTL)\n",
    "pd.Series(FastAtrRsiTL).tail(10)\n"
   ]
  },
  {
   "cell_type": "markdown",
   "id": "allied-talent",
   "metadata": {},
   "source": [
    "It is important to remove nans from the `FastAtrRsiTL` series using `np.nan_to_num()` (similar to TradingView `nz()`), otherwise talib.SMA will return an array of nans."
   ]
  },
  {
   "cell_type": "code",
   "execution_count": 20,
   "id": "recorded-delight",
   "metadata": {},
   "outputs": [
    {
     "data": {
      "application/javascript": [
       "\n",
       "            setTimeout(function() {\n",
       "                var nbb_cell_id = 20;\n",
       "                var nbb_unformatted_code = \"length: int = CONST50  # input(50, minval=1, title=\\\"Bollinger Length\\\")\\nmult: float = (\\n    0.35  # input(0.35, minval=0.001, maxval=5, step=0.1, title=\\\"BB Multiplier\\\")\\n)\\n\\nbasis = tl.SMA(FastAtrRsiTL - CONST50, timeperiod=length)\\ndev = mult * tl.STDDEV(FastAtrRsiTL - CONST50, length)\\n\\nupper = basis + dev\\nlower = basis - dev\\n\\n# color_bar = RsiMa - 50 > upper ? #00c3ff : RsiMa - 50 < lower ? #ff0062 : color.gray\";\n",
       "                var nbb_formatted_code = \"length: int = CONST50  # input(50, minval=1, title=\\\"Bollinger Length\\\")\\nmult: float = (\\n    0.35  # input(0.35, minval=0.001, maxval=5, step=0.1, title=\\\"BB Multiplier\\\")\\n)\\n\\nbasis = tl.SMA(FastAtrRsiTL - CONST50, timeperiod=length)\\ndev = mult * tl.STDDEV(FastAtrRsiTL - CONST50, length)\\n\\nupper = basis + dev\\nlower = basis - dev\\n\\n# color_bar = RsiMa - 50 > upper ? #00c3ff : RsiMa - 50 < lower ? #ff0062 : color.gray\";\n",
       "                var nbb_cells = Jupyter.notebook.get_cells();\n",
       "                for (var i = 0; i < nbb_cells.length; ++i) {\n",
       "                    if (nbb_cells[i].input_prompt_number == nbb_cell_id) {\n",
       "                        if (nbb_cells[i].get_text() == nbb_unformatted_code) {\n",
       "                             nbb_cells[i].set_text(nbb_formatted_code);\n",
       "                        }\n",
       "                        break;\n",
       "                    }\n",
       "                }\n",
       "            }, 500);\n",
       "            "
      ],
      "text/plain": [
       "<IPython.core.display.Javascript object>"
      ]
     },
     "metadata": {},
     "output_type": "display_data"
    }
   ],
   "source": [
    "length: int = CONST50  # input(50, minval=1, title=\"Bollinger Length\")\n",
    "mult: float = (\n",
    "    0.35  # input(0.35, minval=0.001, maxval=5, step=0.1, title=\"BB Multiplier\")\n",
    ")\n",
    "\n",
    "basis = tl.SMA(FastAtrRsiTL - CONST50, timeperiod=length)\n",
    "dev = mult * tl.STDDEV(FastAtrRsiTL - CONST50, length)\n",
    "\n",
    "upper = basis + dev\n",
    "lower = basis - dev\n",
    "\n",
    "# color_bar = RsiMa - 50 > upper ? #00c3ff : RsiMa - 50 < lower ? #ff0062 : color.gray"
   ]
  },
  {
   "cell_type": "code",
   "execution_count": 21,
   "id": "tropical-piano",
   "metadata": {},
   "outputs": [
    {
     "data": {
      "text/plain": [
       "490    3.866368\n",
       "491    3.639352\n",
       "492    3.458604\n",
       "493    3.290993\n",
       "494    3.175012\n",
       "495    3.093652\n",
       "496    3.079525\n",
       "497    3.160469\n",
       "498    3.235783\n",
       "499    3.302074\n",
       "dtype: float64"
      ]
     },
     "execution_count": 21,
     "metadata": {},
     "output_type": "execute_result"
    },
    {
     "data": {
      "application/javascript": [
       "\n",
       "            setTimeout(function() {\n",
       "                var nbb_cell_id = 21;\n",
       "                var nbb_unformatted_code = \"pd.Series(dev).tail(10)\";\n",
       "                var nbb_formatted_code = \"pd.Series(dev).tail(10)\";\n",
       "                var nbb_cells = Jupyter.notebook.get_cells();\n",
       "                for (var i = 0; i < nbb_cells.length; ++i) {\n",
       "                    if (nbb_cells[i].input_prompt_number == nbb_cell_id) {\n",
       "                        if (nbb_cells[i].get_text() == nbb_unformatted_code) {\n",
       "                             nbb_cells[i].set_text(nbb_formatted_code);\n",
       "                        }\n",
       "                        break;\n",
       "                    }\n",
       "                }\n",
       "            }, 500);\n",
       "            "
      ],
      "text/plain": [
       "<IPython.core.display.Javascript object>"
      ]
     },
     "metadata": {},
     "output_type": "display_data"
    }
   ],
   "source": [
    "pd.Series(dev).tail(10)"
   ]
  },
  {
   "cell_type": "code",
   "execution_count": 22,
   "id": "satisfactory-witness",
   "metadata": {},
   "outputs": [
    {
     "data": {
      "application/javascript": [
       "\n",
       "            setTimeout(function() {\n",
       "                var nbb_cell_id = 22;\n",
       "                var nbb_unformatted_code = \"QQEzlong: pd.Series = np.zeros_like(src, dtype=int)\\nQQEzshort: pd.Series = np.zeros_like(src, dtype=int)\\n\\nfor i in range(1, len(src)):\\n    QQEzlong[i] = QQEzlong[i - 1]\\n    QQEzshort[i] = QQEzshort[i - 1]\\n\\n    QQEzlong[i] = QQEzlong[i] + 1 if RSIndex[i] >= CONST50 else 0\\n    QQEzshort[i] = QQEzshort[i] + 1 if RSIndex[i] < CONST50 else 0\\n\\n# Zero = hline(0, color=color.white, linestyle=hline.style_dotted, linewidth=1)\";\n",
       "                var nbb_formatted_code = \"QQEzlong: pd.Series = np.zeros_like(src, dtype=int)\\nQQEzshort: pd.Series = np.zeros_like(src, dtype=int)\\n\\nfor i in range(1, len(src)):\\n    QQEzlong[i] = QQEzlong[i - 1]\\n    QQEzshort[i] = QQEzshort[i - 1]\\n\\n    QQEzlong[i] = QQEzlong[i] + 1 if RSIndex[i] >= CONST50 else 0\\n    QQEzshort[i] = QQEzshort[i] + 1 if RSIndex[i] < CONST50 else 0\\n\\n# Zero = hline(0, color=color.white, linestyle=hline.style_dotted, linewidth=1)\";\n",
       "                var nbb_cells = Jupyter.notebook.get_cells();\n",
       "                for (var i = 0; i < nbb_cells.length; ++i) {\n",
       "                    if (nbb_cells[i].input_prompt_number == nbb_cell_id) {\n",
       "                        if (nbb_cells[i].get_text() == nbb_unformatted_code) {\n",
       "                             nbb_cells[i].set_text(nbb_formatted_code);\n",
       "                        }\n",
       "                        break;\n",
       "                    }\n",
       "                }\n",
       "            }, 500);\n",
       "            "
      ],
      "text/plain": [
       "<IPython.core.display.Javascript object>"
      ]
     },
     "metadata": {},
     "output_type": "display_data"
    }
   ],
   "source": [
    "QQEzlong: pd.Series = np.zeros_like(src, dtype=int)\n",
    "QQEzshort: pd.Series = np.zeros_like(src, dtype=int)\n",
    "\n",
    "for i in range(1, len(src)):\n",
    "    QQEzlong[i] = QQEzlong[i - 1]\n",
    "    QQEzshort[i] = QQEzshort[i - 1]\n",
    "\n",
    "    QQEzlong[i] = QQEzlong[i] + 1 if RSIndex[i] >= CONST50 else 0\n",
    "    QQEzshort[i] = QQEzshort[i] + 1 if RSIndex[i] < CONST50 else 0\n",
    "\n",
    "# Zero = hline(0, color=color.white, linestyle=hline.style_dotted, linewidth=1)"
   ]
  },
  {
   "cell_type": "code",
   "execution_count": 23,
   "id": "marine-lloyd",
   "metadata": {},
   "outputs": [
    {
     "data": {
      "text/plain": [
       "490    0\n",
       "491    0\n",
       "492    0\n",
       "493    0\n",
       "494    0\n",
       "495    0\n",
       "496    0\n",
       "497    0\n",
       "498    0\n",
       "499    0\n",
       "dtype: int64"
      ]
     },
     "execution_count": 23,
     "metadata": {},
     "output_type": "execute_result"
    },
    {
     "data": {
      "application/javascript": [
       "\n",
       "            setTimeout(function() {\n",
       "                var nbb_cell_id = 23;\n",
       "                var nbb_unformatted_code = \"pd.Series(QQEzshort).tail(10)\";\n",
       "                var nbb_formatted_code = \"pd.Series(QQEzshort).tail(10)\";\n",
       "                var nbb_cells = Jupyter.notebook.get_cells();\n",
       "                for (var i = 0; i < nbb_cells.length; ++i) {\n",
       "                    if (nbb_cells[i].input_prompt_number == nbb_cell_id) {\n",
       "                        if (nbb_cells[i].get_text() == nbb_unformatted_code) {\n",
       "                             nbb_cells[i].set_text(nbb_formatted_code);\n",
       "                        }\n",
       "                        break;\n",
       "                    }\n",
       "                }\n",
       "            }, 500);\n",
       "            "
      ],
      "text/plain": [
       "<IPython.core.display.Javascript object>"
      ]
     },
     "metadata": {},
     "output_type": "display_data"
    }
   ],
   "source": [
    "pd.Series(QQEzshort).tail(10)"
   ]
  },
  {
   "cell_type": "code",
   "execution_count": 24,
   "id": "parallel-electric",
   "metadata": {},
   "outputs": [
    {
     "data": {
      "application/javascript": [
       "\n",
       "            setTimeout(function() {\n",
       "                var nbb_cell_id = 24;\n",
       "                var nbb_unformatted_code = \"def qqe_hist(src: pd.Series, RSI_Period: int, SF: int, QQE: float) -> tuple:\\n    Wilders_Period: int = RSI_Period * 2 - 1\\n    Rsi = tl.RSI(src, RSI_Period)\\n    RsiMa = tl.EMA(Rsi, SF)\\n    AtrRsi = np.abs(np.roll(RsiMa.copy(), 1) - RsiMa)\\n    MaAtrRsi = tl.EMA(AtrRsi, Wilders_Period)\\n    dar = tl.EMA(MaAtrRsi, Wilders_Period) * QQE\\n\\n    longband: pd.Series = np.zeros_like(src, dtype=float)\\n    shortband: pd.Series = np.zeros_like(src, dtype=float)\\n    trend: pd.Series = np.zeros_like(src, dtype=int)\\n    FastAtrRsiTL: pd.Series = np.zeros_like(src, dtype=float)\\n\\n    DeltaFastAtrRsi = dar\\n    RSIndex = RsiMa\\n    newshortband = RSIndex + DeltaFastAtrRsi\\n    newlongband = RSIndex - DeltaFastAtrRsi\\n\\n    for i in range(1, len(src)):\\n        if RSIndex[i - 1] > longband[i - 1] and RSIndex[i] > longband[i - 1]:\\n            longband[i] = max(longband[i - 1], newlongband[i])\\n        else:\\n            longband[i] = newlongband[i]\\n\\n        if RSIndex[i - 1] < shortband[i - 1] and RSIndex[i] < shortband[i - 1]:\\n            shortband[i] = min(shortband[i - 1], newshortband[i])\\n        else:\\n            shortband[i] = newshortband[i]\\n\\n    cross_1 = cross(np.roll(longband.copy(), 1), RSIndex)\\n    cross_2 = cross(RSIndex, np.roll(shortband.copy(), 1))\\n\\n    for i in range(1, len(src)):\\n        trend[i] = (\\n            1\\n            if cross_2[i]\\n            else -1\\n            if cross_1[i]\\n            else 1\\n            if np.isnan(trend[i - 1])\\n            else trend[i - 1]\\n        )\\n\\n    FastAtrRsiTL = np.where(trend == 1, longband, shortband)\\n\\n    FastAtrRsiTL = np.nan_to_num(FastAtrRsiTL)\\n\\n    return FastAtrRsiTL, RsiMa\";\n",
       "                var nbb_formatted_code = \"def qqe_hist(src: pd.Series, RSI_Period: int, SF: int, QQE: float) -> tuple:\\n    Wilders_Period: int = RSI_Period * 2 - 1\\n    Rsi = tl.RSI(src, RSI_Period)\\n    RsiMa = tl.EMA(Rsi, SF)\\n    AtrRsi = np.abs(np.roll(RsiMa.copy(), 1) - RsiMa)\\n    MaAtrRsi = tl.EMA(AtrRsi, Wilders_Period)\\n    dar = tl.EMA(MaAtrRsi, Wilders_Period) * QQE\\n\\n    longband: pd.Series = np.zeros_like(src, dtype=float)\\n    shortband: pd.Series = np.zeros_like(src, dtype=float)\\n    trend: pd.Series = np.zeros_like(src, dtype=int)\\n    FastAtrRsiTL: pd.Series = np.zeros_like(src, dtype=float)\\n\\n    DeltaFastAtrRsi = dar\\n    RSIndex = RsiMa\\n    newshortband = RSIndex + DeltaFastAtrRsi\\n    newlongband = RSIndex - DeltaFastAtrRsi\\n\\n    for i in range(1, len(src)):\\n        if RSIndex[i - 1] > longband[i - 1] and RSIndex[i] > longband[i - 1]:\\n            longband[i] = max(longband[i - 1], newlongband[i])\\n        else:\\n            longband[i] = newlongband[i]\\n\\n        if RSIndex[i - 1] < shortband[i - 1] and RSIndex[i] < shortband[i - 1]:\\n            shortband[i] = min(shortband[i - 1], newshortband[i])\\n        else:\\n            shortband[i] = newshortband[i]\\n\\n    cross_1 = cross(np.roll(longband.copy(), 1), RSIndex)\\n    cross_2 = cross(RSIndex, np.roll(shortband.copy(), 1))\\n\\n    for i in range(1, len(src)):\\n        trend[i] = (\\n            1\\n            if cross_2[i]\\n            else -1\\n            if cross_1[i]\\n            else 1\\n            if np.isnan(trend[i - 1])\\n            else trend[i - 1]\\n        )\\n\\n    FastAtrRsiTL = np.where(trend == 1, longband, shortband)\\n\\n    FastAtrRsiTL = np.nan_to_num(FastAtrRsiTL)\\n\\n    return FastAtrRsiTL, RsiMa\";\n",
       "                var nbb_cells = Jupyter.notebook.get_cells();\n",
       "                for (var i = 0; i < nbb_cells.length; ++i) {\n",
       "                    if (nbb_cells[i].input_prompt_number == nbb_cell_id) {\n",
       "                        if (nbb_cells[i].get_text() == nbb_unformatted_code) {\n",
       "                             nbb_cells[i].set_text(nbb_formatted_code);\n",
       "                        }\n",
       "                        break;\n",
       "                    }\n",
       "                }\n",
       "            }, 500);\n",
       "            "
      ],
      "text/plain": [
       "<IPython.core.display.Javascript object>"
      ]
     },
     "metadata": {},
     "output_type": "display_data"
    }
   ],
   "source": [
    "def qqe_hist(src: pd.Series, RSI_Period: int, SF: int, QQE: float) -> tuple:\n",
    "    Wilders_Period: int = RSI_Period * 2 - 1\n",
    "    Rsi = tl.RSI(src, RSI_Period)\n",
    "    RsiMa = tl.EMA(Rsi, SF)\n",
    "    AtrRsi = np.abs(np.roll(RsiMa.copy(), 1) - RsiMa)\n",
    "    MaAtrRsi = tl.EMA(AtrRsi, Wilders_Period)\n",
    "    dar = tl.EMA(MaAtrRsi, Wilders_Period) * QQE\n",
    "\n",
    "    longband: pd.Series = np.zeros_like(src, dtype=float)\n",
    "    shortband: pd.Series = np.zeros_like(src, dtype=float)\n",
    "    trend: pd.Series = np.zeros_like(src, dtype=int)\n",
    "    FastAtrRsiTL: pd.Series = np.zeros_like(src, dtype=float)\n",
    "\n",
    "    DeltaFastAtrRsi = dar\n",
    "    RSIndex = RsiMa\n",
    "    newshortband = RSIndex + DeltaFastAtrRsi\n",
    "    newlongband = RSIndex - DeltaFastAtrRsi\n",
    "\n",
    "    for i in range(1, len(src)):\n",
    "        if RSIndex[i - 1] > longband[i - 1] and RSIndex[i] > longband[i - 1]:\n",
    "            longband[i] = max(longband[i - 1], newlongband[i])\n",
    "        else:\n",
    "            longband[i] = newlongband[i]\n",
    "\n",
    "        if RSIndex[i - 1] < shortband[i - 1] and RSIndex[i] < shortband[i - 1]:\n",
    "            shortband[i] = min(shortband[i - 1], newshortband[i])\n",
    "        else:\n",
    "            shortband[i] = newshortband[i]\n",
    "\n",
    "    cross_1 = cross(np.roll(longband.copy(), 1), RSIndex)\n",
    "    cross_2 = cross(RSIndex, np.roll(shortband.copy(), 1))\n",
    "\n",
    "    for i in range(1, len(src)):\n",
    "        trend[i] = (\n",
    "            1\n",
    "            if cross_2[i]\n",
    "            else -1\n",
    "            if cross_1[i]\n",
    "            else 1\n",
    "            if np.isnan(trend[i - 1])\n",
    "            else trend[i - 1]\n",
    "        )\n",
    "\n",
    "    FastAtrRsiTL = np.where(trend == 1, longband, shortband)\n",
    "\n",
    "    FastAtrRsiTL = np.nan_to_num(FastAtrRsiTL)\n",
    "\n",
    "    return FastAtrRsiTL, RsiMa"
   ]
  },
  {
   "cell_type": "code",
   "execution_count": 25,
   "id": "ready-conspiracy",
   "metadata": {},
   "outputs": [
    {
     "data": {
      "application/javascript": [
       "\n",
       "            setTimeout(function() {\n",
       "                var nbb_cell_id = 25;\n",
       "                var nbb_unformatted_code = \"FastAtrRsi2TL, RsiMa2 = qqe_hist(src2, RSI_Period2, SF2, QQE2)\";\n",
       "                var nbb_formatted_code = \"FastAtrRsi2TL, RsiMa2 = qqe_hist(src2, RSI_Period2, SF2, QQE2)\";\n",
       "                var nbb_cells = Jupyter.notebook.get_cells();\n",
       "                for (var i = 0; i < nbb_cells.length; ++i) {\n",
       "                    if (nbb_cells[i].input_prompt_number == nbb_cell_id) {\n",
       "                        if (nbb_cells[i].get_text() == nbb_unformatted_code) {\n",
       "                             nbb_cells[i].set_text(nbb_formatted_code);\n",
       "                        }\n",
       "                        break;\n",
       "                    }\n",
       "                }\n",
       "            }, 500);\n",
       "            "
      ],
      "text/plain": [
       "<IPython.core.display.Javascript object>"
      ]
     },
     "metadata": {},
     "output_type": "display_data"
    }
   ],
   "source": [
    "FastAtrRsi2TL, RsiMa2 = qqe_hist(src2, RSI_Period2, SF2, QQE2)"
   ]
  },
  {
   "cell_type": "code",
   "execution_count": 26,
   "id": "electric-guarantee",
   "metadata": {},
   "outputs": [
    {
     "data": {
      "text/html": [
       "<div>\n",
       "<style scoped>\n",
       "    .dataframe tbody tr th:only-of-type {\n",
       "        vertical-align: middle;\n",
       "    }\n",
       "\n",
       "    .dataframe tbody tr th {\n",
       "        vertical-align: top;\n",
       "    }\n",
       "\n",
       "    .dataframe thead th {\n",
       "        text-align: right;\n",
       "    }\n",
       "</style>\n",
       "<table border=\"1\" class=\"dataframe\">\n",
       "  <thead>\n",
       "    <tr style=\"text-align: right;\">\n",
       "      <th></th>\n",
       "      <th>FastAtrRsiTL</th>\n",
       "      <th>FastAtrRsi2TL</th>\n",
       "      <th>RsiMa</th>\n",
       "      <th>RsiMa2</th>\n",
       "    </tr>\n",
       "  </thead>\n",
       "  <tbody>\n",
       "    <tr>\n",
       "      <th>480</th>\n",
       "      <td>50.682696</td>\n",
       "      <td>55.674966</td>\n",
       "      <td>59.211256</td>\n",
       "      <td>59.211256</td>\n",
       "    </tr>\n",
       "    <tr>\n",
       "      <th>481</th>\n",
       "      <td>50.682696</td>\n",
       "      <td>55.674966</td>\n",
       "      <td>57.326872</td>\n",
       "      <td>57.326872</td>\n",
       "    </tr>\n",
       "    <tr>\n",
       "      <th>482</th>\n",
       "      <td>50.682696</td>\n",
       "      <td>55.674966</td>\n",
       "      <td>59.506360</td>\n",
       "      <td>59.506360</td>\n",
       "    </tr>\n",
       "    <tr>\n",
       "      <th>483</th>\n",
       "      <td>50.682696</td>\n",
       "      <td>55.674966</td>\n",
       "      <td>58.457653</td>\n",
       "      <td>58.457653</td>\n",
       "    </tr>\n",
       "    <tr>\n",
       "      <th>484</th>\n",
       "      <td>54.669943</td>\n",
       "      <td>58.717561</td>\n",
       "      <td>63.405809</td>\n",
       "      <td>63.405809</td>\n",
       "    </tr>\n",
       "    <tr>\n",
       "      <th>485</th>\n",
       "      <td>59.788287</td>\n",
       "      <td>63.884892</td>\n",
       "      <td>68.629879</td>\n",
       "      <td>68.629879</td>\n",
       "    </tr>\n",
       "    <tr>\n",
       "      <th>486</th>\n",
       "      <td>59.788287</td>\n",
       "      <td>63.884892</td>\n",
       "      <td>68.120432</td>\n",
       "      <td>68.120432</td>\n",
       "    </tr>\n",
       "    <tr>\n",
       "      <th>487</th>\n",
       "      <td>59.788287</td>\n",
       "      <td>67.188227</td>\n",
       "      <td>62.436897</td>\n",
       "      <td>62.436897</td>\n",
       "    </tr>\n",
       "    <tr>\n",
       "      <th>488</th>\n",
       "      <td>66.993594</td>\n",
       "      <td>62.785153</td>\n",
       "      <td>57.910628</td>\n",
       "      <td>57.910628</td>\n",
       "    </tr>\n",
       "    <tr>\n",
       "      <th>489</th>\n",
       "      <td>65.380282</td>\n",
       "      <td>61.150838</td>\n",
       "      <td>56.251986</td>\n",
       "      <td>56.251986</td>\n",
       "    </tr>\n",
       "    <tr>\n",
       "      <th>490</th>\n",
       "      <td>65.380282</td>\n",
       "      <td>61.150838</td>\n",
       "      <td>57.450649</td>\n",
       "      <td>57.450649</td>\n",
       "    </tr>\n",
       "    <tr>\n",
       "      <th>491</th>\n",
       "      <td>65.380282</td>\n",
       "      <td>61.150838</td>\n",
       "      <td>59.222084</td>\n",
       "      <td>59.222084</td>\n",
       "    </tr>\n",
       "    <tr>\n",
       "      <th>492</th>\n",
       "      <td>65.380282</td>\n",
       "      <td>61.150838</td>\n",
       "      <td>59.529177</td>\n",
       "      <td>59.529177</td>\n",
       "    </tr>\n",
       "    <tr>\n",
       "      <th>493</th>\n",
       "      <td>65.380282</td>\n",
       "      <td>61.150838</td>\n",
       "      <td>60.662908</td>\n",
       "      <td>60.662908</td>\n",
       "    </tr>\n",
       "    <tr>\n",
       "      <th>494</th>\n",
       "      <td>65.380282</td>\n",
       "      <td>57.934414</td>\n",
       "      <td>62.073343</td>\n",
       "      <td>62.073343</td>\n",
       "    </tr>\n",
       "    <tr>\n",
       "      <th>495</th>\n",
       "      <td>60.550239</td>\n",
       "      <td>64.144952</td>\n",
       "      <td>68.308612</td>\n",
       "      <td>68.308612</td>\n",
       "    </tr>\n",
       "    <tr>\n",
       "      <th>496</th>\n",
       "      <td>65.099472</td>\n",
       "      <td>68.793048</td>\n",
       "      <td>73.071219</td>\n",
       "      <td>73.071219</td>\n",
       "    </tr>\n",
       "    <tr>\n",
       "      <th>497</th>\n",
       "      <td>72.533041</td>\n",
       "      <td>59.217123</td>\n",
       "      <td>63.867585</td>\n",
       "      <td>63.867585</td>\n",
       "    </tr>\n",
       "    <tr>\n",
       "      <th>498</th>\n",
       "      <td>70.533385</td>\n",
       "      <td>66.312330</td>\n",
       "      <td>61.423195</td>\n",
       "      <td>61.423195</td>\n",
       "    </tr>\n",
       "    <tr>\n",
       "      <th>499</th>\n",
       "      <td>69.983501</td>\n",
       "      <td>65.711089</td>\n",
       "      <td>60.762468</td>\n",
       "      <td>60.762468</td>\n",
       "    </tr>\n",
       "  </tbody>\n",
       "</table>\n",
       "</div>"
      ],
      "text/plain": [
       "     FastAtrRsiTL  FastAtrRsi2TL      RsiMa     RsiMa2\n",
       "480     50.682696      55.674966  59.211256  59.211256\n",
       "481     50.682696      55.674966  57.326872  57.326872\n",
       "482     50.682696      55.674966  59.506360  59.506360\n",
       "483     50.682696      55.674966  58.457653  58.457653\n",
       "484     54.669943      58.717561  63.405809  63.405809\n",
       "485     59.788287      63.884892  68.629879  68.629879\n",
       "486     59.788287      63.884892  68.120432  68.120432\n",
       "487     59.788287      67.188227  62.436897  62.436897\n",
       "488     66.993594      62.785153  57.910628  57.910628\n",
       "489     65.380282      61.150838  56.251986  56.251986\n",
       "490     65.380282      61.150838  57.450649  57.450649\n",
       "491     65.380282      61.150838  59.222084  59.222084\n",
       "492     65.380282      61.150838  59.529177  59.529177\n",
       "493     65.380282      61.150838  60.662908  60.662908\n",
       "494     65.380282      57.934414  62.073343  62.073343\n",
       "495     60.550239      64.144952  68.308612  68.308612\n",
       "496     65.099472      68.793048  73.071219  73.071219\n",
       "497     72.533041      59.217123  63.867585  63.867585\n",
       "498     70.533385      66.312330  61.423195  61.423195\n",
       "499     69.983501      65.711089  60.762468  60.762468"
      ]
     },
     "execution_count": 26,
     "metadata": {},
     "output_type": "execute_result"
    },
    {
     "data": {
      "application/javascript": [
       "\n",
       "            setTimeout(function() {\n",
       "                var nbb_cell_id = 26;\n",
       "                var nbb_unformatted_code = \"res = pd.DataFrame(\\n    {\\n        \\\"FastAtrRsiTL\\\": FastAtrRsiTL,\\n        \\\"FastAtrRsi2TL\\\": FastAtrRsi2TL,\\n        \\\"RsiMa\\\": RsiMa,\\n        \\\"RsiMa2\\\": RsiMa2,\\n    }\\n)\\nres.tail(20)\";\n",
       "                var nbb_formatted_code = \"res = pd.DataFrame(\\n    {\\n        \\\"FastAtrRsiTL\\\": FastAtrRsiTL,\\n        \\\"FastAtrRsi2TL\\\": FastAtrRsi2TL,\\n        \\\"RsiMa\\\": RsiMa,\\n        \\\"RsiMa2\\\": RsiMa2,\\n    }\\n)\\nres.tail(20)\";\n",
       "                var nbb_cells = Jupyter.notebook.get_cells();\n",
       "                for (var i = 0; i < nbb_cells.length; ++i) {\n",
       "                    if (nbb_cells[i].input_prompt_number == nbb_cell_id) {\n",
       "                        if (nbb_cells[i].get_text() == nbb_unformatted_code) {\n",
       "                             nbb_cells[i].set_text(nbb_formatted_code);\n",
       "                        }\n",
       "                        break;\n",
       "                    }\n",
       "                }\n",
       "            }, 500);\n",
       "            "
      ],
      "text/plain": [
       "<IPython.core.display.Javascript object>"
      ]
     },
     "metadata": {},
     "output_type": "display_data"
    }
   ],
   "source": [
    "res = pd.DataFrame(\n",
    "    {\n",
    "        \"FastAtrRsiTL\": FastAtrRsiTL,\n",
    "        \"FastAtrRsi2TL\": FastAtrRsi2TL,\n",
    "        \"RsiMa\": RsiMa,\n",
    "        \"RsiMa2\": RsiMa2,\n",
    "    }\n",
    ")\n",
    "res.tail(20)"
   ]
  },
  {
   "cell_type": "code",
   "execution_count": 27,
   "id": "weird-refund",
   "metadata": {},
   "outputs": [
    {
     "data": {
      "application/javascript": [
       "\n",
       "            setTimeout(function() {\n",
       "                var nbb_cell_id = 27;\n",
       "                var nbb_unformatted_code = \"def bollinger_uplower(\\n    FastAtrRsiTL: np.ndarray, length: int, mult: float, CONST50: int\\n) -> tuple:\\n    basis = tl.SMA(FastAtrRsiTL - CONST50, timeperiod=length)\\n    dev = mult * tl.STDDEV(FastAtrRsiTL - CONST50, length)\\n\\n    upper = basis + dev\\n    lower = basis - dev\\n    return upper, lower\";\n",
       "                var nbb_formatted_code = \"def bollinger_uplower(\\n    FastAtrRsiTL: np.ndarray, length: int, mult: float, CONST50: int\\n) -> tuple:\\n    basis = tl.SMA(FastAtrRsiTL - CONST50, timeperiod=length)\\n    dev = mult * tl.STDDEV(FastAtrRsiTL - CONST50, length)\\n\\n    upper = basis + dev\\n    lower = basis - dev\\n    return upper, lower\";\n",
       "                var nbb_cells = Jupyter.notebook.get_cells();\n",
       "                for (var i = 0; i < nbb_cells.length; ++i) {\n",
       "                    if (nbb_cells[i].input_prompt_number == nbb_cell_id) {\n",
       "                        if (nbb_cells[i].get_text() == nbb_unformatted_code) {\n",
       "                             nbb_cells[i].set_text(nbb_formatted_code);\n",
       "                        }\n",
       "                        break;\n",
       "                    }\n",
       "                }\n",
       "            }, 500);\n",
       "            "
      ],
      "text/plain": [
       "<IPython.core.display.Javascript object>"
      ]
     },
     "metadata": {},
     "output_type": "display_data"
    }
   ],
   "source": [
    "def bollinger_uplower(\n",
    "    FastAtrRsiTL: np.ndarray, length: int, mult: float, CONST50: int\n",
    ") -> tuple:\n",
    "    basis = tl.SMA(FastAtrRsiTL - CONST50, timeperiod=length)\n",
    "    dev = mult * tl.STDDEV(FastAtrRsiTL - CONST50, length)\n",
    "\n",
    "    upper = basis + dev\n",
    "    lower = basis - dev\n",
    "    return upper, lower"
   ]
  },
  {
   "cell_type": "code",
   "execution_count": 28,
   "id": "essential-perspective",
   "metadata": {},
   "outputs": [
    {
     "data": {
      "application/javascript": [
       "\n",
       "            setTimeout(function() {\n",
       "                var nbb_cell_id = 28;\n",
       "                var nbb_unformatted_code = \"upper, lower = bollinger_uplower(FastAtrRsiTL, length, mult, CONST50)\";\n",
       "                var nbb_formatted_code = \"upper, lower = bollinger_uplower(FastAtrRsiTL, length, mult, CONST50)\";\n",
       "                var nbb_cells = Jupyter.notebook.get_cells();\n",
       "                for (var i = 0; i < nbb_cells.length; ++i) {\n",
       "                    if (nbb_cells[i].input_prompt_number == nbb_cell_id) {\n",
       "                        if (nbb_cells[i].get_text() == nbb_unformatted_code) {\n",
       "                             nbb_cells[i].set_text(nbb_formatted_code);\n",
       "                        }\n",
       "                        break;\n",
       "                    }\n",
       "                }\n",
       "            }, 500);\n",
       "            "
      ],
      "text/plain": [
       "<IPython.core.display.Javascript object>"
      ]
     },
     "metadata": {},
     "output_type": "display_data"
    }
   ],
   "source": [
    "upper, lower = bollinger_uplower(FastAtrRsiTL, length, mult, CONST50)"
   ]
  },
  {
   "cell_type": "code",
   "execution_count": 29,
   "id": "verified-youth",
   "metadata": {},
   "outputs": [
    {
     "data": {
      "application/javascript": [
       "\n",
       "            setTimeout(function() {\n",
       "                var nbb_cell_id = 29;\n",
       "                var nbb_unformatted_code = \"def zero_cross(src: pd.Series, RSIndex: np.ndarray, CONST50: int) -> tuple:\\n    QQEzlong: np.ndarray = np.zeros_like(src, dtype=int)\\n    QQEzshort: np.ndarray = np.zeros_like(src, dtype=int)\\n\\n    for i in range(1, len(src)):\\n        QQEzlong[i] = QQEzlong[i - 1]\\n        QQEzshort[i] = QQEzshort[i - 1]\\n\\n        QQEzlong[i] = QQEzlong[i] + 1 if RSIndex[i] >= CONST50 else 0\\n        QQEzshort[i] = QQEzshort[i] + 1 if RSIndex[i] < CONST50 else 0\\n    return QQEzlong, QQEzshort\";\n",
       "                var nbb_formatted_code = \"def zero_cross(src: pd.Series, RSIndex: np.ndarray, CONST50: int) -> tuple:\\n    QQEzlong: np.ndarray = np.zeros_like(src, dtype=int)\\n    QQEzshort: np.ndarray = np.zeros_like(src, dtype=int)\\n\\n    for i in range(1, len(src)):\\n        QQEzlong[i] = QQEzlong[i - 1]\\n        QQEzshort[i] = QQEzshort[i - 1]\\n\\n        QQEzlong[i] = QQEzlong[i] + 1 if RSIndex[i] >= CONST50 else 0\\n        QQEzshort[i] = QQEzshort[i] + 1 if RSIndex[i] < CONST50 else 0\\n    return QQEzlong, QQEzshort\";\n",
       "                var nbb_cells = Jupyter.notebook.get_cells();\n",
       "                for (var i = 0; i < nbb_cells.length; ++i) {\n",
       "                    if (nbb_cells[i].input_prompt_number == nbb_cell_id) {\n",
       "                        if (nbb_cells[i].get_text() == nbb_unformatted_code) {\n",
       "                             nbb_cells[i].set_text(nbb_formatted_code);\n",
       "                        }\n",
       "                        break;\n",
       "                    }\n",
       "                }\n",
       "            }, 500);\n",
       "            "
      ],
      "text/plain": [
       "<IPython.core.display.Javascript object>"
      ]
     },
     "metadata": {},
     "output_type": "display_data"
    }
   ],
   "source": [
    "def zero_cross(src: pd.Series, RSIndex: np.ndarray, CONST50: int) -> tuple:\n",
    "    QQEzlong: np.ndarray = np.zeros_like(src, dtype=int)\n",
    "    QQEzshort: np.ndarray = np.zeros_like(src, dtype=int)\n",
    "\n",
    "    for i in range(1, len(src)):\n",
    "        QQEzlong[i] = QQEzlong[i - 1]\n",
    "        QQEzshort[i] = QQEzshort[i - 1]\n",
    "\n",
    "        QQEzlong[i] = QQEzlong[i] + 1 if RSIndex[i] >= CONST50 else 0\n",
    "        QQEzshort[i] = QQEzshort[i] + 1 if RSIndex[i] < CONST50 else 0\n",
    "    return QQEzlong, QQEzshort"
   ]
  },
  {
   "cell_type": "code",
   "execution_count": 30,
   "id": "stuffed-lecture",
   "metadata": {},
   "outputs": [
    {
     "data": {
      "text/plain": [
       "490    False\n",
       "491    False\n",
       "492    False\n",
       "493    False\n",
       "494    False\n",
       "495    False\n",
       "496    False\n",
       "497    False\n",
       "498    False\n",
       "499    False\n",
       "dtype: bool"
      ]
     },
     "execution_count": 30,
     "metadata": {},
     "output_type": "execute_result"
    },
    {
     "data": {
      "application/javascript": [
       "\n",
       "            setTimeout(function() {\n",
       "                var nbb_cell_id = 30;\n",
       "                var nbb_unformatted_code = \"Greenbar1: np.ndarray = RsiMa2 - CONST50 > ThreshHold2\\nGreenbar2: np.ndarray = RsiMa - CONST50 > upper\\n\\nRedbar1: np.ndarray = RsiMa2 - CONST50 < 0 - ThreshHold2\\nRedbar2: np.ndarray = RsiMa - CONST50 < lower\\n\\npd.Series(Redbar2).tail(10)\";\n",
       "                var nbb_formatted_code = \"Greenbar1: np.ndarray = RsiMa2 - CONST50 > ThreshHold2\\nGreenbar2: np.ndarray = RsiMa - CONST50 > upper\\n\\nRedbar1: np.ndarray = RsiMa2 - CONST50 < 0 - ThreshHold2\\nRedbar2: np.ndarray = RsiMa - CONST50 < lower\\n\\npd.Series(Redbar2).tail(10)\";\n",
       "                var nbb_cells = Jupyter.notebook.get_cells();\n",
       "                for (var i = 0; i < nbb_cells.length; ++i) {\n",
       "                    if (nbb_cells[i].input_prompt_number == nbb_cell_id) {\n",
       "                        if (nbb_cells[i].get_text() == nbb_unformatted_code) {\n",
       "                             nbb_cells[i].set_text(nbb_formatted_code);\n",
       "                        }\n",
       "                        break;\n",
       "                    }\n",
       "                }\n",
       "            }, 500);\n",
       "            "
      ],
      "text/plain": [
       "<IPython.core.display.Javascript object>"
      ]
     },
     "metadata": {},
     "output_type": "display_data"
    }
   ],
   "source": [
    "Greenbar1: np.ndarray = RsiMa2 - CONST50 > ThreshHold2\n",
    "Greenbar2: np.ndarray = RsiMa - CONST50 > upper\n",
    "\n",
    "Redbar1: np.ndarray = RsiMa2 - CONST50 < 0 - ThreshHold2\n",
    "Redbar2: np.ndarray = RsiMa - CONST50 < lower\n",
    "\n",
    "pd.Series(Redbar2).tail(10)"
   ]
  },
  {
   "cell_type": "code",
   "execution_count": 31,
   "id": "collaborative-sherman",
   "metadata": {},
   "outputs": [
    {
     "data": {
      "text/plain": [
       "490    False\n",
       "491    False\n",
       "492    False\n",
       "493    False\n",
       "494    False\n",
       "495    False\n",
       "496    False\n",
       "497    False\n",
       "498    False\n",
       "499    False\n",
       "dtype: bool"
      ]
     },
     "execution_count": 31,
     "metadata": {},
     "output_type": "execute_result"
    },
    {
     "data": {
      "application/javascript": [
       "\n",
       "            setTimeout(function() {\n",
       "                var nbb_cell_id = 31;\n",
       "                var nbb_unformatted_code = \"qqe_up_cond = Greenbar1 & Greenbar2\\nqqe_down_cond = Redbar1 & Redbar2\\n\\npd.Series(qqe_down_cond).tail(10)\";\n",
       "                var nbb_formatted_code = \"qqe_up_cond = Greenbar1 & Greenbar2\\nqqe_down_cond = Redbar1 & Redbar2\\n\\npd.Series(qqe_down_cond).tail(10)\";\n",
       "                var nbb_cells = Jupyter.notebook.get_cells();\n",
       "                for (var i = 0; i < nbb_cells.length; ++i) {\n",
       "                    if (nbb_cells[i].input_prompt_number == nbb_cell_id) {\n",
       "                        if (nbb_cells[i].get_text() == nbb_unformatted_code) {\n",
       "                             nbb_cells[i].set_text(nbb_formatted_code);\n",
       "                        }\n",
       "                        break;\n",
       "                    }\n",
       "                }\n",
       "            }, 500);\n",
       "            "
      ],
      "text/plain": [
       "<IPython.core.display.Javascript object>"
      ]
     },
     "metadata": {},
     "output_type": "display_data"
    }
   ],
   "source": [
    "qqe_up_cond = Greenbar1 & Greenbar2\n",
    "qqe_down_cond = Redbar1 & Redbar2\n",
    "\n",
    "pd.Series(qqe_down_cond).tail(10)"
   ]
  },
  {
   "cell_type": "code",
   "execution_count": 32,
   "id": "disturbed-acceptance",
   "metadata": {},
   "outputs": [
    {
     "data": {
      "text/plain": [
       "array([         nan,          nan,          nan,          nan,\n",
       "                nan,          nan,          nan,          nan,\n",
       "                nan,          nan,          nan,          nan,\n",
       "                nan,          nan,          nan,          nan,\n",
       "                nan,          nan,          nan,          nan,\n",
       "                nan,          nan,          nan,          nan,\n",
       "                nan,          nan,          nan,          nan,\n",
       "                nan,          nan,          nan,          nan,\n",
       "                nan,          nan,          nan,          nan,\n",
       "                nan,          nan,          nan,          nan,\n",
       "                nan,          nan,          nan,          nan,\n",
       "                nan,          nan,          nan,          nan,\n",
       "                nan,          nan,          nan,          nan,\n",
       "                nan,          nan,          nan,          nan,\n",
       "                nan,          nan,          nan,          nan,\n",
       "                nan,          nan,          nan,          nan,\n",
       "                nan,          nan,          nan,          nan,\n",
       "                nan,          nan,          nan,          nan,\n",
       "                nan,          nan,          nan,          nan,\n",
       "                nan,          nan,          nan,          nan,\n",
       "                nan,          nan,          nan,          nan,\n",
       "                nan,          nan,          nan,          nan,\n",
       "                nan,          nan,          nan,          nan,\n",
       "                nan,          nan,          nan,          nan,\n",
       "                nan,          nan,          nan,          nan,\n",
       "                nan,          nan,          nan,          nan,\n",
       "                nan,  -9.10028459, -11.91721814, -10.44678865,\n",
       "        -8.0710242 ,  -6.07358143,          nan,          nan,\n",
       "        -3.52503899,  -7.62516603, -12.61160034, -17.48068582,\n",
       "       -18.1785276 , -20.27669212, -22.64641941, -25.89189246,\n",
       "       -30.76985402, -31.12459154, -31.98667576, -29.03545507,\n",
       "       -27.89017949, -20.32278143, -12.85534676,  -3.78171905,\n",
       "                nan,          nan,          nan,          nan,\n",
       "                nan,          nan,          nan,          nan,\n",
       "                nan,          nan,          nan,          nan,\n",
       "                nan,          nan,          nan,          nan,\n",
       "                nan,  -8.4987355 , -11.89934822, -18.19771946,\n",
       "       -21.07712728, -21.91505791, -20.04660647, -16.95120551,\n",
       "       -18.21689431, -19.71446323, -16.48653171, -10.09235627,\n",
       "                nan, -13.08270943, -11.20270039, -14.70965376,\n",
       "       -19.16613724, -23.55018428, -27.06268026, -26.87480302,\n",
       "       -27.62240257, -25.01046231, -24.8526117 , -25.11708162,\n",
       "       -24.38586093, -24.27205079, -20.27653371, -13.06054949,\n",
       "                nan,          nan,          nan,          nan,\n",
       "                nan, -10.94621788, -15.60318466, -17.29890426,\n",
       "       -17.17094973, -20.22161184, -21.18247839, -19.58335809,\n",
       "       -19.50345896, -21.53620491, -26.33635576, -30.50123362,\n",
       "       -27.78071206, -27.09390288, -20.91159238,          nan,\n",
       "       -15.58271213, -18.36240605, -21.0265206 , -21.71169151,\n",
       "                nan,          nan,          nan,          nan,\n",
       "                nan,          nan,          nan,          nan,\n",
       "                nan,          nan,          nan,          nan,\n",
       "                nan,          nan,          nan,          nan,\n",
       "                nan,          nan,          nan,          nan,\n",
       "                nan,          nan,          nan,          nan,\n",
       "                nan,          nan,          nan,          nan,\n",
       "                nan,          nan,          nan,          nan,\n",
       "                nan,          nan,          nan,          nan,\n",
       "                nan,          nan,  -6.49293059, -12.20328241,\n",
       "       -16.40390448, -21.33682094, -29.41045989, -35.3921957 ,\n",
       "       -39.40234761, -37.19961873, -34.02548563, -32.58793046,\n",
       "       -27.74405652, -25.65074663, -20.48365883, -16.93367537,\n",
       "       -12.63765264,  -8.15060581,          nan,          nan,\n",
       "                nan,          nan,          nan,          nan,\n",
       "                nan,          nan,          nan,          nan,\n",
       "                nan,          nan,          nan,          nan,\n",
       "                nan,          nan,          nan,          nan,\n",
       "                nan,          nan,          nan,          nan,\n",
       "                nan,          nan,          nan,          nan,\n",
       "                nan,          nan,          nan,          nan,\n",
       "       -10.14641906, -10.36135765, -15.2850977 , -18.32567377,\n",
       "       -21.23888572, -24.6449047 , -17.62626971, -17.22253947,\n",
       "                nan,          nan,          nan,          nan,\n",
       "                nan,          nan,          nan,          nan,\n",
       "                nan,  -6.02067465,          nan,  -3.69462746,\n",
       "                nan,          nan,          nan,          nan,\n",
       "                nan,          nan,          nan,          nan,\n",
       "                nan,          nan,          nan,          nan,\n",
       "                nan,          nan,          nan,          nan,\n",
       "                nan,  -7.99564649, -11.65048514, -13.52368475,\n",
       "       -17.9003579 , -20.81814001, -19.80576309, -19.3555426 ,\n",
       "       -10.70235224,          nan,          nan,          nan,\n",
       "                nan,          nan,          nan,          nan,\n",
       "                nan,          nan,          nan,          nan,\n",
       "                nan,          nan,          nan,          nan,\n",
       "                nan,  -6.35576688,  -9.44992728,  -8.28189693,\n",
       "        -9.36261517,  -7.12085735,  -9.83941883, -14.14457976,\n",
       "       -11.39641625,  -8.6272498 ,  -8.07911824, -10.09572952,\n",
       "        -9.8007659 ,          nan,          nan,          nan,\n",
       "                nan,          nan,          nan,          nan,\n",
       "                nan,          nan,          nan,          nan,\n",
       "        -3.23998085,          nan,          nan,  -3.63985601,\n",
       "        -4.54258416,          nan,  -5.00456407,  -9.75709847,\n",
       "       -13.02996324, -11.61435025,  -7.25705456,  -6.55785109,\n",
       "                nan,          nan,          nan,          nan,\n",
       "                nan,          nan,          nan,          nan,\n",
       "                nan,          nan,          nan,  -8.18285921,\n",
       "       -12.52292052, -10.61449022, -11.17320098, -15.87587263,\n",
       "       -21.581382  , -19.60285318, -18.05751722, -18.64967238,\n",
       "       -13.22366893, -10.79304487,  -8.26360921,  -9.06949433,\n",
       "       -10.16205831, -13.01158583,  -9.34436307, -10.05385903,\n",
       "        -7.88689359, -12.44872713, -11.44129006, -16.23816308,\n",
       "       -22.12636082, -26.97142818, -22.86183351, -24.14257144,\n",
       "       -20.49327294, -20.76874781, -18.21088059, -20.0314052 ,\n",
       "       -18.79507985, -16.76295907,          nan,          nan,\n",
       "                nan,          nan,          nan,          nan,\n",
       "                nan,          nan,          nan,          nan,\n",
       "                nan,          nan,          nan,          nan,\n",
       "                nan,          nan,          nan,          nan,\n",
       "                nan,          nan,          nan,          nan,\n",
       "                nan,          nan,          nan,          nan,\n",
       "                nan,          nan,          nan,          nan,\n",
       "                nan,          nan,          nan,          nan,\n",
       "        -8.53647495, -12.90756263, -11.86849129, -11.00513873,\n",
       "        -9.83874271,  -8.18595762,  -9.35736452, -13.03125247,\n",
       "       -18.17600665, -14.19482681, -11.81876592, -10.55471801,\n",
       "       -11.21934491, -10.52954361,          nan,          nan,\n",
       "                nan,          nan,          nan,          nan,\n",
       "                nan,          nan,          nan,          nan,\n",
       "                nan,          nan,          nan,          nan,\n",
       "                nan,          nan,          nan,          nan,\n",
       "                nan,          nan,          nan,          nan,\n",
       "                nan,          nan,          nan,          nan,\n",
       "                nan,          nan,          nan,          nan,\n",
       "                nan,          nan,          nan,          nan])"
      ]
     },
     "execution_count": 32,
     "metadata": {},
     "output_type": "execute_result"
    },
    {
     "data": {
      "application/javascript": [
       "\n",
       "            setTimeout(function() {\n",
       "                var nbb_cell_id = 32;\n",
       "                var nbb_unformatted_code = \"qqe_up = np.full_like(RsiMa2, fill_value=np.nan)\\nqqe_down = np.full_like(RsiMa2, fill_value=np.nan)\\n# len(RsiMa2 - 50)\\nqqe_up = np.where(qqe_up_cond, RsiMa2 - 50, np.nan)\\nqqe_down = np.where(qqe_down_cond, RsiMa2 - 50, np.nan)\\n\\nqqe_down\";\n",
       "                var nbb_formatted_code = \"qqe_up = np.full_like(RsiMa2, fill_value=np.nan)\\nqqe_down = np.full_like(RsiMa2, fill_value=np.nan)\\n# len(RsiMa2 - 50)\\nqqe_up = np.where(qqe_up_cond, RsiMa2 - 50, np.nan)\\nqqe_down = np.where(qqe_down_cond, RsiMa2 - 50, np.nan)\\n\\nqqe_down\";\n",
       "                var nbb_cells = Jupyter.notebook.get_cells();\n",
       "                for (var i = 0; i < nbb_cells.length; ++i) {\n",
       "                    if (nbb_cells[i].input_prompt_number == nbb_cell_id) {\n",
       "                        if (nbb_cells[i].get_text() == nbb_unformatted_code) {\n",
       "                             nbb_cells[i].set_text(nbb_formatted_code);\n",
       "                        }\n",
       "                        break;\n",
       "                    }\n",
       "                }\n",
       "            }, 500);\n",
       "            "
      ],
      "text/plain": [
       "<IPython.core.display.Javascript object>"
      ]
     },
     "metadata": {},
     "output_type": "display_data"
    }
   ],
   "source": [
    "qqe_up = np.full_like(RsiMa2, fill_value=np.nan)\n",
    "qqe_down = np.full_like(RsiMa2, fill_value=np.nan)\n",
    "# len(RsiMa2 - 50)\n",
    "qqe_up = np.where(qqe_up_cond, RsiMa2 - 50, np.nan)\n",
    "qqe_down = np.where(qqe_down_cond, RsiMa2 - 50, np.nan)\n",
    "\n",
    "qqe_down"
   ]
  },
  {
   "cell_type": "code",
   "execution_count": 33,
   "id": "touched-campbell",
   "metadata": {},
   "outputs": [
    {
     "data": {
      "application/javascript": [
       "\n",
       "            setTimeout(function() {\n",
       "                var nbb_cell_id = 33;\n",
       "                var nbb_unformatted_code = \"def qqe_up_down(RsiMa, RsiMa2, upper, lower, ThreshHold2, CONST50) -> tuple:\\n    Greenbar1: np.ndarray = RsiMa2 - CONST50 > ThreshHold2\\n    Greenbar2: np.ndarray = RsiMa - CONST50 > upper\\n\\n    Redbar1: np.ndarray = RsiMa2 - CONST50 < 0 - ThreshHold2\\n    Redbar2: np.ndarray = RsiMa - CONST50 < lower\\n\\n    qqe_up_cond = Greenbar1 & Greenbar2\\n    qqe_down_cond = Redbar1 & Redbar2\\n\\n    qqe_up = np.full_like(RsiMa2, fill_value=np.nan)\\n    qqe_down = np.full_like(RsiMa2, fill_value=np.nan)\\n\\n    qqe_up = np.where(qqe_up_cond, RsiMa2 - 50, np.nan)\\n    qqe_down = np.where(qqe_down_cond, RsiMa2 - 50, np.nan)\\n\\n    return qqe_up, qqe_down\";\n",
       "                var nbb_formatted_code = \"def qqe_up_down(RsiMa, RsiMa2, upper, lower, ThreshHold2, CONST50) -> tuple:\\n    Greenbar1: np.ndarray = RsiMa2 - CONST50 > ThreshHold2\\n    Greenbar2: np.ndarray = RsiMa - CONST50 > upper\\n\\n    Redbar1: np.ndarray = RsiMa2 - CONST50 < 0 - ThreshHold2\\n    Redbar2: np.ndarray = RsiMa - CONST50 < lower\\n\\n    qqe_up_cond = Greenbar1 & Greenbar2\\n    qqe_down_cond = Redbar1 & Redbar2\\n\\n    qqe_up = np.full_like(RsiMa2, fill_value=np.nan)\\n    qqe_down = np.full_like(RsiMa2, fill_value=np.nan)\\n\\n    qqe_up = np.where(qqe_up_cond, RsiMa2 - 50, np.nan)\\n    qqe_down = np.where(qqe_down_cond, RsiMa2 - 50, np.nan)\\n\\n    return qqe_up, qqe_down\";\n",
       "                var nbb_cells = Jupyter.notebook.get_cells();\n",
       "                for (var i = 0; i < nbb_cells.length; ++i) {\n",
       "                    if (nbb_cells[i].input_prompt_number == nbb_cell_id) {\n",
       "                        if (nbb_cells[i].get_text() == nbb_unformatted_code) {\n",
       "                             nbb_cells[i].set_text(nbb_formatted_code);\n",
       "                        }\n",
       "                        break;\n",
       "                    }\n",
       "                }\n",
       "            }, 500);\n",
       "            "
      ],
      "text/plain": [
       "<IPython.core.display.Javascript object>"
      ]
     },
     "metadata": {},
     "output_type": "display_data"
    }
   ],
   "source": [
    "def qqe_up_down(RsiMa, RsiMa2, upper, lower, ThreshHold2, CONST50) -> tuple:\n",
    "    Greenbar1: np.ndarray = RsiMa2 - CONST50 > ThreshHold2\n",
    "    Greenbar2: np.ndarray = RsiMa - CONST50 > upper\n",
    "\n",
    "    Redbar1: np.ndarray = RsiMa2 - CONST50 < 0 - ThreshHold2\n",
    "    Redbar2: np.ndarray = RsiMa - CONST50 < lower\n",
    "\n",
    "    qqe_up_cond = Greenbar1 & Greenbar2\n",
    "    qqe_down_cond = Redbar1 & Redbar2\n",
    "\n",
    "    qqe_up = np.full_like(RsiMa2, fill_value=np.nan)\n",
    "    qqe_down = np.full_like(RsiMa2, fill_value=np.nan)\n",
    "\n",
    "    qqe_up = np.where(qqe_up_cond, RsiMa2 - 50, np.nan)\n",
    "    qqe_down = np.where(qqe_down_cond, RsiMa2 - 50, np.nan)\n",
    "\n",
    "    return qqe_up, qqe_down"
   ]
  },
  {
   "cell_type": "code",
   "execution_count": 34,
   "id": "comparable-rover",
   "metadata": {},
   "outputs": [
    {
     "data": {
      "application/javascript": [
       "\n",
       "            setTimeout(function() {\n",
       "                var nbb_cell_id = 34;\n",
       "                var nbb_unformatted_code = \"qqe_up2, qqe_down2 = qqe_up_down(RsiMa, RsiMa2, upper, lower, ThreshHold2, CONST50)\";\n",
       "                var nbb_formatted_code = \"qqe_up2, qqe_down2 = qqe_up_down(RsiMa, RsiMa2, upper, lower, ThreshHold2, CONST50)\";\n",
       "                var nbb_cells = Jupyter.notebook.get_cells();\n",
       "                for (var i = 0; i < nbb_cells.length; ++i) {\n",
       "                    if (nbb_cells[i].input_prompt_number == nbb_cell_id) {\n",
       "                        if (nbb_cells[i].get_text() == nbb_unformatted_code) {\n",
       "                             nbb_cells[i].set_text(nbb_formatted_code);\n",
       "                        }\n",
       "                        break;\n",
       "                    }\n",
       "                }\n",
       "            }, 500);\n",
       "            "
      ],
      "text/plain": [
       "<IPython.core.display.Javascript object>"
      ]
     },
     "metadata": {},
     "output_type": "display_data"
    }
   ],
   "source": [
    "qqe_up2, qqe_down2 = qqe_up_down(RsiMa, RsiMa2, upper, lower, ThreshHold2, CONST50)"
   ]
  },
  {
   "cell_type": "code",
   "execution_count": 35,
   "id": "signed-kansas",
   "metadata": {},
   "outputs": [
    {
     "data": {
      "text/html": [
       "<div>\n",
       "<style scoped>\n",
       "    .dataframe tbody tr th:only-of-type {\n",
       "        vertical-align: middle;\n",
       "    }\n",
       "\n",
       "    .dataframe tbody tr th {\n",
       "        vertical-align: top;\n",
       "    }\n",
       "\n",
       "    .dataframe thead th {\n",
       "        text-align: right;\n",
       "    }\n",
       "</style>\n",
       "<table border=\"1\" class=\"dataframe\">\n",
       "  <thead>\n",
       "    <tr style=\"text-align: right;\">\n",
       "      <th></th>\n",
       "      <th>qqe_up</th>\n",
       "      <th>qqe_up2</th>\n",
       "      <th>qqe_down</th>\n",
       "      <th>qqe_down2</th>\n",
       "    </tr>\n",
       "  </thead>\n",
       "  <tbody>\n",
       "    <tr>\n",
       "      <th>480</th>\n",
       "      <td>NaN</td>\n",
       "      <td>NaN</td>\n",
       "      <td>NaN</td>\n",
       "      <td>NaN</td>\n",
       "    </tr>\n",
       "    <tr>\n",
       "      <th>481</th>\n",
       "      <td>NaN</td>\n",
       "      <td>NaN</td>\n",
       "      <td>NaN</td>\n",
       "      <td>NaN</td>\n",
       "    </tr>\n",
       "    <tr>\n",
       "      <th>482</th>\n",
       "      <td>NaN</td>\n",
       "      <td>NaN</td>\n",
       "      <td>NaN</td>\n",
       "      <td>NaN</td>\n",
       "    </tr>\n",
       "    <tr>\n",
       "      <th>483</th>\n",
       "      <td>NaN</td>\n",
       "      <td>NaN</td>\n",
       "      <td>NaN</td>\n",
       "      <td>NaN</td>\n",
       "    </tr>\n",
       "    <tr>\n",
       "      <th>484</th>\n",
       "      <td>NaN</td>\n",
       "      <td>NaN</td>\n",
       "      <td>NaN</td>\n",
       "      <td>NaN</td>\n",
       "    </tr>\n",
       "    <tr>\n",
       "      <th>485</th>\n",
       "      <td>18.629879</td>\n",
       "      <td>18.629879</td>\n",
       "      <td>NaN</td>\n",
       "      <td>NaN</td>\n",
       "    </tr>\n",
       "    <tr>\n",
       "      <th>486</th>\n",
       "      <td>18.120432</td>\n",
       "      <td>18.120432</td>\n",
       "      <td>NaN</td>\n",
       "      <td>NaN</td>\n",
       "    </tr>\n",
       "    <tr>\n",
       "      <th>487</th>\n",
       "      <td>12.436897</td>\n",
       "      <td>12.436897</td>\n",
       "      <td>NaN</td>\n",
       "      <td>NaN</td>\n",
       "    </tr>\n",
       "    <tr>\n",
       "      <th>488</th>\n",
       "      <td>NaN</td>\n",
       "      <td>NaN</td>\n",
       "      <td>NaN</td>\n",
       "      <td>NaN</td>\n",
       "    </tr>\n",
       "    <tr>\n",
       "      <th>489</th>\n",
       "      <td>NaN</td>\n",
       "      <td>NaN</td>\n",
       "      <td>NaN</td>\n",
       "      <td>NaN</td>\n",
       "    </tr>\n",
       "    <tr>\n",
       "      <th>490</th>\n",
       "      <td>NaN</td>\n",
       "      <td>NaN</td>\n",
       "      <td>NaN</td>\n",
       "      <td>NaN</td>\n",
       "    </tr>\n",
       "    <tr>\n",
       "      <th>491</th>\n",
       "      <td>9.222084</td>\n",
       "      <td>9.222084</td>\n",
       "      <td>NaN</td>\n",
       "      <td>NaN</td>\n",
       "    </tr>\n",
       "    <tr>\n",
       "      <th>492</th>\n",
       "      <td>9.529177</td>\n",
       "      <td>9.529177</td>\n",
       "      <td>NaN</td>\n",
       "      <td>NaN</td>\n",
       "    </tr>\n",
       "    <tr>\n",
       "      <th>493</th>\n",
       "      <td>10.662908</td>\n",
       "      <td>10.662908</td>\n",
       "      <td>NaN</td>\n",
       "      <td>NaN</td>\n",
       "    </tr>\n",
       "    <tr>\n",
       "      <th>494</th>\n",
       "      <td>12.073343</td>\n",
       "      <td>12.073343</td>\n",
       "      <td>NaN</td>\n",
       "      <td>NaN</td>\n",
       "    </tr>\n",
       "    <tr>\n",
       "      <th>495</th>\n",
       "      <td>18.308612</td>\n",
       "      <td>18.308612</td>\n",
       "      <td>NaN</td>\n",
       "      <td>NaN</td>\n",
       "    </tr>\n",
       "    <tr>\n",
       "      <th>496</th>\n",
       "      <td>23.071219</td>\n",
       "      <td>23.071219</td>\n",
       "      <td>NaN</td>\n",
       "      <td>NaN</td>\n",
       "    </tr>\n",
       "    <tr>\n",
       "      <th>497</th>\n",
       "      <td>13.867585</td>\n",
       "      <td>13.867585</td>\n",
       "      <td>NaN</td>\n",
       "      <td>NaN</td>\n",
       "    </tr>\n",
       "    <tr>\n",
       "      <th>498</th>\n",
       "      <td>11.423195</td>\n",
       "      <td>11.423195</td>\n",
       "      <td>NaN</td>\n",
       "      <td>NaN</td>\n",
       "    </tr>\n",
       "    <tr>\n",
       "      <th>499</th>\n",
       "      <td>10.762468</td>\n",
       "      <td>10.762468</td>\n",
       "      <td>NaN</td>\n",
       "      <td>NaN</td>\n",
       "    </tr>\n",
       "  </tbody>\n",
       "</table>\n",
       "</div>"
      ],
      "text/plain": [
       "        qqe_up    qqe_up2  qqe_down  qqe_down2\n",
       "480        NaN        NaN       NaN        NaN\n",
       "481        NaN        NaN       NaN        NaN\n",
       "482        NaN        NaN       NaN        NaN\n",
       "483        NaN        NaN       NaN        NaN\n",
       "484        NaN        NaN       NaN        NaN\n",
       "485  18.629879  18.629879       NaN        NaN\n",
       "486  18.120432  18.120432       NaN        NaN\n",
       "487  12.436897  12.436897       NaN        NaN\n",
       "488        NaN        NaN       NaN        NaN\n",
       "489        NaN        NaN       NaN        NaN\n",
       "490        NaN        NaN       NaN        NaN\n",
       "491   9.222084   9.222084       NaN        NaN\n",
       "492   9.529177   9.529177       NaN        NaN\n",
       "493  10.662908  10.662908       NaN        NaN\n",
       "494  12.073343  12.073343       NaN        NaN\n",
       "495  18.308612  18.308612       NaN        NaN\n",
       "496  23.071219  23.071219       NaN        NaN\n",
       "497  13.867585  13.867585       NaN        NaN\n",
       "498  11.423195  11.423195       NaN        NaN\n",
       "499  10.762468  10.762468       NaN        NaN"
      ]
     },
     "execution_count": 35,
     "metadata": {},
     "output_type": "execute_result"
    },
    {
     "data": {
      "application/javascript": [
       "\n",
       "            setTimeout(function() {\n",
       "                var nbb_cell_id = 35;\n",
       "                var nbb_unformatted_code = \"res2 = pd.DataFrame(\\n    {\\n        \\\"qqe_up\\\": qqe_up,\\n        \\\"qqe_up2\\\": qqe_up2,\\n        \\\"qqe_down\\\": qqe_down,\\n        \\\"qqe_down2\\\": qqe_down2,\\n    }\\n)\\nres2.tail(20)\";\n",
       "                var nbb_formatted_code = \"res2 = pd.DataFrame(\\n    {\\n        \\\"qqe_up\\\": qqe_up,\\n        \\\"qqe_up2\\\": qqe_up2,\\n        \\\"qqe_down\\\": qqe_down,\\n        \\\"qqe_down2\\\": qqe_down2,\\n    }\\n)\\nres2.tail(20)\";\n",
       "                var nbb_cells = Jupyter.notebook.get_cells();\n",
       "                for (var i = 0; i < nbb_cells.length; ++i) {\n",
       "                    if (nbb_cells[i].input_prompt_number == nbb_cell_id) {\n",
       "                        if (nbb_cells[i].get_text() == nbb_unformatted_code) {\n",
       "                             nbb_cells[i].set_text(nbb_formatted_code);\n",
       "                        }\n",
       "                        break;\n",
       "                    }\n",
       "                }\n",
       "            }, 500);\n",
       "            "
      ],
      "text/plain": [
       "<IPython.core.display.Javascript object>"
      ]
     },
     "metadata": {},
     "output_type": "display_data"
    }
   ],
   "source": [
    "res2 = pd.DataFrame(\n",
    "    {\n",
    "        \"qqe_up\": qqe_up,\n",
    "        \"qqe_up2\": qqe_up2,\n",
    "        \"qqe_down\": qqe_down,\n",
    "        \"qqe_down2\": qqe_down2,\n",
    "    }\n",
    ")\n",
    "res2.tail(20)"
   ]
  },
  {
   "cell_type": "code",
   "execution_count": 36,
   "id": "taken-above",
   "metadata": {},
   "outputs": [
    {
     "data": {
      "application/javascript": [
       "\n",
       "            setTimeout(function() {\n",
       "                var nbb_cell_id = 36;\n",
       "                var nbb_unformatted_code = \"qqe_line = FastAtrRsi2TL - CONST50\\nhisto2 = RsiMa2 - CONST50\";\n",
       "                var nbb_formatted_code = \"qqe_line = FastAtrRsi2TL - CONST50\\nhisto2 = RsiMa2 - CONST50\";\n",
       "                var nbb_cells = Jupyter.notebook.get_cells();\n",
       "                for (var i = 0; i < nbb_cells.length; ++i) {\n",
       "                    if (nbb_cells[i].input_prompt_number == nbb_cell_id) {\n",
       "                        if (nbb_cells[i].get_text() == nbb_unformatted_code) {\n",
       "                             nbb_cells[i].set_text(nbb_formatted_code);\n",
       "                        }\n",
       "                        break;\n",
       "                    }\n",
       "                }\n",
       "            }, 500);\n",
       "            "
      ],
      "text/plain": [
       "<IPython.core.display.Javascript object>"
      ]
     },
     "metadata": {},
     "output_type": "display_data"
    }
   ],
   "source": [
    "qqe_line = FastAtrRsi2TL - CONST50\n",
    "histo2 = RsiMa2 - CONST50"
   ]
  },
  {
   "cell_type": "code",
   "execution_count": 37,
   "id": "accessory-roulette",
   "metadata": {},
   "outputs": [
    {
     "data": {
      "text/html": [
       "<div>\n",
       "<style scoped>\n",
       "    .dataframe tbody tr th:only-of-type {\n",
       "        vertical-align: middle;\n",
       "    }\n",
       "\n",
       "    .dataframe tbody tr th {\n",
       "        vertical-align: top;\n",
       "    }\n",
       "\n",
       "    .dataframe thead th {\n",
       "        text-align: right;\n",
       "    }\n",
       "</style>\n",
       "<table border=\"1\" class=\"dataframe\">\n",
       "  <thead>\n",
       "    <tr style=\"text-align: right;\">\n",
       "      <th></th>\n",
       "      <th>qqe_line</th>\n",
       "      <th>histo2</th>\n",
       "      <th>qqe_up</th>\n",
       "      <th>qqe_down</th>\n",
       "    </tr>\n",
       "  </thead>\n",
       "  <tbody>\n",
       "    <tr>\n",
       "      <th>480</th>\n",
       "      <td>5.674966</td>\n",
       "      <td>9.211256</td>\n",
       "      <td>NaN</td>\n",
       "      <td>NaN</td>\n",
       "    </tr>\n",
       "    <tr>\n",
       "      <th>481</th>\n",
       "      <td>5.674966</td>\n",
       "      <td>7.326872</td>\n",
       "      <td>NaN</td>\n",
       "      <td>NaN</td>\n",
       "    </tr>\n",
       "    <tr>\n",
       "      <th>482</th>\n",
       "      <td>5.674966</td>\n",
       "      <td>9.506360</td>\n",
       "      <td>NaN</td>\n",
       "      <td>NaN</td>\n",
       "    </tr>\n",
       "    <tr>\n",
       "      <th>483</th>\n",
       "      <td>5.674966</td>\n",
       "      <td>8.457653</td>\n",
       "      <td>NaN</td>\n",
       "      <td>NaN</td>\n",
       "    </tr>\n",
       "    <tr>\n",
       "      <th>484</th>\n",
       "      <td>8.717561</td>\n",
       "      <td>13.405809</td>\n",
       "      <td>NaN</td>\n",
       "      <td>NaN</td>\n",
       "    </tr>\n",
       "    <tr>\n",
       "      <th>485</th>\n",
       "      <td>13.884892</td>\n",
       "      <td>18.629879</td>\n",
       "      <td>18.629879</td>\n",
       "      <td>NaN</td>\n",
       "    </tr>\n",
       "    <tr>\n",
       "      <th>486</th>\n",
       "      <td>13.884892</td>\n",
       "      <td>18.120432</td>\n",
       "      <td>18.120432</td>\n",
       "      <td>NaN</td>\n",
       "    </tr>\n",
       "    <tr>\n",
       "      <th>487</th>\n",
       "      <td>17.188227</td>\n",
       "      <td>12.436897</td>\n",
       "      <td>12.436897</td>\n",
       "      <td>NaN</td>\n",
       "    </tr>\n",
       "    <tr>\n",
       "      <th>488</th>\n",
       "      <td>12.785153</td>\n",
       "      <td>7.910628</td>\n",
       "      <td>NaN</td>\n",
       "      <td>NaN</td>\n",
       "    </tr>\n",
       "    <tr>\n",
       "      <th>489</th>\n",
       "      <td>11.150838</td>\n",
       "      <td>6.251986</td>\n",
       "      <td>NaN</td>\n",
       "      <td>NaN</td>\n",
       "    </tr>\n",
       "    <tr>\n",
       "      <th>490</th>\n",
       "      <td>11.150838</td>\n",
       "      <td>7.450649</td>\n",
       "      <td>NaN</td>\n",
       "      <td>NaN</td>\n",
       "    </tr>\n",
       "    <tr>\n",
       "      <th>491</th>\n",
       "      <td>11.150838</td>\n",
       "      <td>9.222084</td>\n",
       "      <td>9.222084</td>\n",
       "      <td>NaN</td>\n",
       "    </tr>\n",
       "    <tr>\n",
       "      <th>492</th>\n",
       "      <td>11.150838</td>\n",
       "      <td>9.529177</td>\n",
       "      <td>9.529177</td>\n",
       "      <td>NaN</td>\n",
       "    </tr>\n",
       "    <tr>\n",
       "      <th>493</th>\n",
       "      <td>11.150838</td>\n",
       "      <td>10.662908</td>\n",
       "      <td>10.662908</td>\n",
       "      <td>NaN</td>\n",
       "    </tr>\n",
       "    <tr>\n",
       "      <th>494</th>\n",
       "      <td>7.934414</td>\n",
       "      <td>12.073343</td>\n",
       "      <td>12.073343</td>\n",
       "      <td>NaN</td>\n",
       "    </tr>\n",
       "    <tr>\n",
       "      <th>495</th>\n",
       "      <td>14.144952</td>\n",
       "      <td>18.308612</td>\n",
       "      <td>18.308612</td>\n",
       "      <td>NaN</td>\n",
       "    </tr>\n",
       "    <tr>\n",
       "      <th>496</th>\n",
       "      <td>18.793048</td>\n",
       "      <td>23.071219</td>\n",
       "      <td>23.071219</td>\n",
       "      <td>NaN</td>\n",
       "    </tr>\n",
       "    <tr>\n",
       "      <th>497</th>\n",
       "      <td>9.217123</td>\n",
       "      <td>13.867585</td>\n",
       "      <td>13.867585</td>\n",
       "      <td>NaN</td>\n",
       "    </tr>\n",
       "    <tr>\n",
       "      <th>498</th>\n",
       "      <td>16.312330</td>\n",
       "      <td>11.423195</td>\n",
       "      <td>11.423195</td>\n",
       "      <td>NaN</td>\n",
       "    </tr>\n",
       "    <tr>\n",
       "      <th>499</th>\n",
       "      <td>15.711089</td>\n",
       "      <td>10.762468</td>\n",
       "      <td>10.762468</td>\n",
       "      <td>NaN</td>\n",
       "    </tr>\n",
       "  </tbody>\n",
       "</table>\n",
       "</div>"
      ],
      "text/plain": [
       "      qqe_line     histo2     qqe_up  qqe_down\n",
       "480   5.674966   9.211256        NaN       NaN\n",
       "481   5.674966   7.326872        NaN       NaN\n",
       "482   5.674966   9.506360        NaN       NaN\n",
       "483   5.674966   8.457653        NaN       NaN\n",
       "484   8.717561  13.405809        NaN       NaN\n",
       "485  13.884892  18.629879  18.629879       NaN\n",
       "486  13.884892  18.120432  18.120432       NaN\n",
       "487  17.188227  12.436897  12.436897       NaN\n",
       "488  12.785153   7.910628        NaN       NaN\n",
       "489  11.150838   6.251986        NaN       NaN\n",
       "490  11.150838   7.450649        NaN       NaN\n",
       "491  11.150838   9.222084   9.222084       NaN\n",
       "492  11.150838   9.529177   9.529177       NaN\n",
       "493  11.150838  10.662908  10.662908       NaN\n",
       "494   7.934414  12.073343  12.073343       NaN\n",
       "495  14.144952  18.308612  18.308612       NaN\n",
       "496  18.793048  23.071219  23.071219       NaN\n",
       "497   9.217123  13.867585  13.867585       NaN\n",
       "498  16.312330  11.423195  11.423195       NaN\n",
       "499  15.711089  10.762468  10.762468       NaN"
      ]
     },
     "execution_count": 37,
     "metadata": {},
     "output_type": "execute_result"
    },
    {
     "data": {
      "application/javascript": [
       "\n",
       "            setTimeout(function() {\n",
       "                var nbb_cell_id = 37;\n",
       "                var nbb_unformatted_code = \"res2 = pd.DataFrame(\\n    {\\n        \\\"qqe_line\\\": qqe_line,\\n        \\\"histo2\\\": histo2,\\n        \\\"qqe_up\\\": qqe_up,\\n        \\\"qqe_down\\\": qqe_down,\\n    }\\n)\\nres2.tail(20)\";\n",
       "                var nbb_formatted_code = \"res2 = pd.DataFrame(\\n    {\\n        \\\"qqe_line\\\": qqe_line,\\n        \\\"histo2\\\": histo2,\\n        \\\"qqe_up\\\": qqe_up,\\n        \\\"qqe_down\\\": qqe_down,\\n    }\\n)\\nres2.tail(20)\";\n",
       "                var nbb_cells = Jupyter.notebook.get_cells();\n",
       "                for (var i = 0; i < nbb_cells.length; ++i) {\n",
       "                    if (nbb_cells[i].input_prompt_number == nbb_cell_id) {\n",
       "                        if (nbb_cells[i].get_text() == nbb_unformatted_code) {\n",
       "                             nbb_cells[i].set_text(nbb_formatted_code);\n",
       "                        }\n",
       "                        break;\n",
       "                    }\n",
       "                }\n",
       "            }, 500);\n",
       "            "
      ],
      "text/plain": [
       "<IPython.core.display.Javascript object>"
      ]
     },
     "metadata": {},
     "output_type": "display_data"
    }
   ],
   "source": [
    "res2 = pd.DataFrame(\n",
    "    {\n",
    "        \"qqe_line\": qqe_line,\n",
    "        \"histo2\": histo2,\n",
    "        \"qqe_up\": qqe_up,\n",
    "        \"qqe_down\": qqe_down,\n",
    "    }\n",
    ")\n",
    "res2.tail(20)"
   ]
  },
  {
   "cell_type": "code",
   "execution_count": null,
   "id": "exact-fellow",
   "metadata": {},
   "outputs": [],
   "source": []
  }
 ],
 "metadata": {
  "kernelspec": {
   "display_name": "venv",
   "language": "python",
   "name": "venv"
  },
  "language_info": {
   "codemirror_mode": {
    "name": "ipython",
    "version": 3
   },
   "file_extension": ".py",
   "mimetype": "text/x-python",
   "name": "python",
   "nbconvert_exporter": "python",
   "pygments_lexer": "ipython3",
   "version": "3.6.13"
  }
 },
 "nbformat": 4,
 "nbformat_minor": 5
}
