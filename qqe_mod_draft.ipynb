{
 "cells": [
  {
   "cell_type": "markdown",
   "id": "environmental-transcript",
   "metadata": {},
   "source": [
    "## QQE MOD by Mihkel00"
   ]
  },
  {
   "cell_type": "markdown",
   "id": "swiss-money",
   "metadata": {},
   "source": [
    "<https://ru.tradingview.com/script/TpUW4muw-QQE-MOD/>"
   ]
  },
  {
   "cell_type": "markdown",
   "id": "tamil-astronomy",
   "metadata": {},
   "source": [
    ">Developed by [@edyatl](https://github.com/edyatl) March 2023 <edyatl@yandex.ru>"
   ]
  },
  {
   "cell_type": "code",
   "execution_count": 1,
   "id": "downtown-advance",
   "metadata": {},
   "outputs": [
    {
     "data": {
      "application/javascript": [
       "\n",
       "            setTimeout(function() {\n",
       "                var nbb_cell_id = 1;\n",
       "                var nbb_unformatted_code = \"# Load Jupyter extension for auto correction coding style based on Black Lib\\n%load_ext nb_black\";\n",
       "                var nbb_formatted_code = \"# Load Jupyter extension for auto correction coding style based on Black Lib\\n%load_ext nb_black\";\n",
       "                var nbb_cells = Jupyter.notebook.get_cells();\n",
       "                for (var i = 0; i < nbb_cells.length; ++i) {\n",
       "                    if (nbb_cells[i].input_prompt_number == nbb_cell_id) {\n",
       "                        if (nbb_cells[i].get_text() == nbb_unformatted_code) {\n",
       "                             nbb_cells[i].set_text(nbb_formatted_code);\n",
       "                        }\n",
       "                        break;\n",
       "                    }\n",
       "                }\n",
       "            }, 500);\n",
       "            "
      ],
      "text/plain": [
       "<IPython.core.display.Javascript object>"
      ]
     },
     "metadata": {},
     "output_type": "display_data"
    }
   ],
   "source": [
    "# Load Jupyter extension for auto correction coding style based on Black Lib\n",
    "%load_ext nb_black"
   ]
  },
  {
   "cell_type": "markdown",
   "id": "innovative-leeds",
   "metadata": {},
   "source": [
    "### Original Indicator code\n",
    "\n",
    "```python\n",
    "//@version=4\n",
    "//By Glaz, Modified\n",
    "//\n",
    "study(\"QQE MOD\")\n",
    "RSI_Period = input(6, title='RSI Length')\n",
    "SF = input(5, title='RSI Smoothing')\n",
    "QQE = input(3, title='Fast QQE Factor')\n",
    "ThreshHold = input(3, title=\"Thresh-hold\")\n",
    "//\n",
    "\n",
    "src = input(close, title=\"RSI Source\")\n",
    "//\n",
    "\n",
    "//\n",
    "Wilders_Period = RSI_Period * 2 - 1\n",
    "\n",
    "\n",
    "Rsi = rsi(src, RSI_Period)\n",
    "RsiMa = ema(Rsi, SF)\n",
    "AtrRsi = abs(RsiMa[1] - RsiMa)\n",
    "MaAtrRsi = ema(AtrRsi, Wilders_Period)\n",
    "dar = ema(MaAtrRsi, Wilders_Period) * QQE\n",
    "\n",
    "longband = 0.0\n",
    "shortband = 0.0\n",
    "trend = 0\n",
    "\n",
    "DeltaFastAtrRsi = dar\n",
    "RSIndex = RsiMa\n",
    "newshortband = RSIndex + DeltaFastAtrRsi\n",
    "newlongband = RSIndex - DeltaFastAtrRsi\n",
    "longband := RSIndex[1] > longband[1] and RSIndex > longband[1] ? \n",
    "   max(longband[1], newlongband) : newlongband\n",
    "shortband := RSIndex[1] < shortband[1] and RSIndex < shortband[1] ? \n",
    "   min(shortband[1], newshortband) : newshortband\n",
    "cross_1 = cross(longband[1], RSIndex)\n",
    "trend := cross(RSIndex, shortband[1]) ? 1 : cross_1 ? -1 : nz(trend[1], 1)\n",
    "FastAtrRsiTL = trend == 1 ? longband : shortband\n",
    "////////////////////\n",
    "\n",
    "\n",
    "length = input(50, minval=1, title=\"Bollinger Length\")\n",
    "mult = input(0.35, minval=0.001, maxval=5, step=0.1, title=\"BB Multiplier\")\n",
    "basis = sma(FastAtrRsiTL - 50, length)\n",
    "dev = mult * stdev(FastAtrRsiTL - 50, length)\n",
    "upper = basis + dev\n",
    "lower = basis - dev\n",
    "color_bar = RsiMa - 50 > upper ? #00c3ff : RsiMa - 50 < lower ? #ff0062 : color.gray\n",
    "\n",
    "\n",
    "//\n",
    "// Zero cross\n",
    "QQEzlong = 0\n",
    "QQEzlong := nz(QQEzlong[1])\n",
    "QQEzshort = 0\n",
    "QQEzshort := nz(QQEzshort[1])\n",
    "QQEzlong := RSIndex >= 50 ? QQEzlong + 1 : 0\n",
    "QQEzshort := RSIndex < 50 ? QQEzshort + 1 : 0\n",
    "//  \n",
    "\n",
    "Zero = hline(0, color=color.white, linestyle=hline.style_dotted, linewidth=1)\n",
    "\n",
    "////////////////////////////////////////////////////////////////\n",
    "\n",
    "RSI_Period2 = input(6, title='RSI Length')\n",
    "SF2 = input(5, title='RSI Smoothing')\n",
    "QQE2 = input(1.61, title='Fast QQE2 Factor')\n",
    "ThreshHold2 = input(3, title=\"Thresh-hold\")\n",
    "\n",
    "src2 = input(close, title=\"RSI Source\")\n",
    "//\n",
    "\n",
    "//\n",
    "Wilders_Period2 = RSI_Period2 * 2 - 1\n",
    "\n",
    "\n",
    "Rsi2 = rsi(src2, RSI_Period2)\n",
    "RsiMa2 = ema(Rsi2, SF2)\n",
    "AtrRsi2 = abs(RsiMa2[1] - RsiMa2)\n",
    "MaAtrRsi2 = ema(AtrRsi2, Wilders_Period2)\n",
    "dar2 = ema(MaAtrRsi2, Wilders_Period2) * QQE2\n",
    "longband2 = 0.0\n",
    "shortband2 = 0.0\n",
    "trend2 = 0\n",
    "\n",
    "DeltaFastAtrRsi2 = dar2\n",
    "RSIndex2 = RsiMa2\n",
    "newshortband2 = RSIndex2 + DeltaFastAtrRsi2\n",
    "newlongband2 = RSIndex2 - DeltaFastAtrRsi2\n",
    "longband2 := RSIndex2[1] > longband2[1] and RSIndex2 > longband2[1] ? \n",
    "   max(longband2[1], newlongband2) : newlongband2\n",
    "shortband2 := RSIndex2[1] < shortband2[1] and RSIndex2 < shortband2[1] ? \n",
    "   min(shortband2[1], newshortband2) : newshortband2\n",
    "cross_2 = cross(longband2[1], RSIndex2)\n",
    "trend2 := cross(RSIndex2, shortband2[1]) ? 1 : cross_2 ? -1 : nz(trend2[1], 1)\n",
    "FastAtrRsi2TL = trend2 == 1 ? longband2 : shortband2\n",
    "\n",
    "\n",
    "//\n",
    "// Zero cross\n",
    "QQE2zlong = 0\n",
    "QQE2zlong := nz(QQE2zlong[1])\n",
    "QQE2zshort = 0\n",
    "QQE2zshort := nz(QQE2zshort[1])\n",
    "QQE2zlong := RSIndex2 >= 50 ? QQE2zlong + 1 : 0\n",
    "QQE2zshort := RSIndex2 < 50 ? QQE2zshort + 1 : 0\n",
    "//  \n",
    "\n",
    "hcolor2 = RsiMa2 - 50 > ThreshHold2 ? color.silver :\n",
    "   RsiMa2 - 50 < 0 - ThreshHold2 ? color.silver : na\n",
    "plot(FastAtrRsi2TL - 50, title='QQE Line', color=color.white, transp=0, linewidth=2)\n",
    "plot(RsiMa2 - 50, color=hcolor2, transp=50, title='Histo2', style=plot.style_columns)\n",
    "\n",
    "Greenbar1 = RsiMa2 - 50 > ThreshHold2\n",
    "Greenbar2 = RsiMa - 50 > upper\n",
    "\n",
    "Redbar1 = RsiMa2 - 50 < 0 - ThreshHold2\n",
    "Redbar2 = RsiMa - 50 < lower\n",
    "plot(Greenbar1 and Greenbar2 == 1 ? RsiMa2 - 50 : na, title=\"QQE Up\", style=plot.style_columns, color=#00c3ff, transp=0)\n",
    "plot(Redbar1 and Redbar2 == 1 ? RsiMa2 - 50 : na, title=\"QQE Down\", style=plot.style_columns, color=#ff0062, transp=0)\n",
    "```"
   ]
  },
  {
   "cell_type": "code",
   "execution_count": 2,
   "id": "unavailable-moderator",
   "metadata": {},
   "outputs": [
    {
     "data": {
      "application/javascript": [
       "\n",
       "            setTimeout(function() {\n",
       "                var nbb_cell_id = 2;\n",
       "                var nbb_unformatted_code = \"# Standard imports\\nimport pandas as pd\\nimport numpy as np\\nimport matplotlib.pyplot as plt\\nimport seaborn as sns\\nimport talib as tl\\n\\nimport os\\nfrom os import environ as env\\nfrom dotenv import load_dotenv\\nfrom binance import Client, ThreadedWebsocketManager, ThreadedDepthCacheManager\\n\\n# Nicest style for plots\\nsns.set(style=\\\"ticks\\\")\";\n",
       "                var nbb_formatted_code = \"# Standard imports\\nimport pandas as pd\\nimport numpy as np\\nimport matplotlib.pyplot as plt\\nimport seaborn as sns\\nimport talib as tl\\n\\nimport os\\nfrom os import environ as env\\nfrom dotenv import load_dotenv\\nfrom binance import Client, ThreadedWebsocketManager, ThreadedDepthCacheManager\\n\\n# Nicest style for plots\\nsns.set(style=\\\"ticks\\\")\";\n",
       "                var nbb_cells = Jupyter.notebook.get_cells();\n",
       "                for (var i = 0; i < nbb_cells.length; ++i) {\n",
       "                    if (nbb_cells[i].input_prompt_number == nbb_cell_id) {\n",
       "                        if (nbb_cells[i].get_text() == nbb_unformatted_code) {\n",
       "                             nbb_cells[i].set_text(nbb_formatted_code);\n",
       "                        }\n",
       "                        break;\n",
       "                    }\n",
       "                }\n",
       "            }, 500);\n",
       "            "
      ],
      "text/plain": [
       "<IPython.core.display.Javascript object>"
      ]
     },
     "metadata": {},
     "output_type": "display_data"
    }
   ],
   "source": [
    "# Standard imports\n",
    "import pandas as pd\n",
    "import numpy as np\n",
    "import matplotlib.pyplot as plt\n",
    "import seaborn as sns\n",
    "import talib as tl\n",
    "\n",
    "import os\n",
    "from os import environ as env\n",
    "from dotenv import load_dotenv\n",
    "from binance import Client, ThreadedWebsocketManager, ThreadedDepthCacheManager\n",
    "\n",
    "# Nicest style for plots\n",
    "sns.set(style=\"ticks\")"
   ]
  },
  {
   "cell_type": "code",
   "execution_count": 3,
   "id": "virgin-blowing",
   "metadata": {},
   "outputs": [
    {
     "data": {
      "application/javascript": [
       "\n",
       "            setTimeout(function() {\n",
       "                var nbb_cell_id = 3;\n",
       "                var nbb_unformatted_code = \"# Install a pip package in the current Jupyter kernel\\n# import sys\\n\\n# !{sys.executable} -m pip install -U python-dotenv\";\n",
       "                var nbb_formatted_code = \"# Install a pip package in the current Jupyter kernel\\n# import sys\\n\\n# !{sys.executable} -m pip install -U python-dotenv\";\n",
       "                var nbb_cells = Jupyter.notebook.get_cells();\n",
       "                for (var i = 0; i < nbb_cells.length; ++i) {\n",
       "                    if (nbb_cells[i].input_prompt_number == nbb_cell_id) {\n",
       "                        if (nbb_cells[i].get_text() == nbb_unformatted_code) {\n",
       "                             nbb_cells[i].set_text(nbb_formatted_code);\n",
       "                        }\n",
       "                        break;\n",
       "                    }\n",
       "                }\n",
       "            }, 500);\n",
       "            "
      ],
      "text/plain": [
       "<IPython.core.display.Javascript object>"
      ]
     },
     "metadata": {},
     "output_type": "display_data"
    }
   ],
   "source": [
    "# Install a pip package in the current Jupyter kernel\n",
    "# import sys\n",
    "\n",
    "# !{sys.executable} -m pip install -U python-dotenv"
   ]
  },
  {
   "cell_type": "code",
   "execution_count": 4,
   "id": "artistic-natural",
   "metadata": {},
   "outputs": [
    {
     "data": {
      "application/javascript": [
       "\n",
       "            setTimeout(function() {\n",
       "                var nbb_cell_id = 4;\n",
       "                var nbb_unformatted_code = \"project_dotenv = os.path.join(os.path.abspath(\\\"\\\"), \\\".env\\\")\\nif os.path.exists(project_dotenv):\\n    load_dotenv(project_dotenv)\";\n",
       "                var nbb_formatted_code = \"project_dotenv = os.path.join(os.path.abspath(\\\"\\\"), \\\".env\\\")\\nif os.path.exists(project_dotenv):\\n    load_dotenv(project_dotenv)\";\n",
       "                var nbb_cells = Jupyter.notebook.get_cells();\n",
       "                for (var i = 0; i < nbb_cells.length; ++i) {\n",
       "                    if (nbb_cells[i].input_prompt_number == nbb_cell_id) {\n",
       "                        if (nbb_cells[i].get_text() == nbb_unformatted_code) {\n",
       "                             nbb_cells[i].set_text(nbb_formatted_code);\n",
       "                        }\n",
       "                        break;\n",
       "                    }\n",
       "                }\n",
       "            }, 500);\n",
       "            "
      ],
      "text/plain": [
       "<IPython.core.display.Javascript object>"
      ]
     },
     "metadata": {},
     "output_type": "display_data"
    }
   ],
   "source": [
    "project_dotenv = os.path.join(os.path.abspath(\"\"), \".env\")\n",
    "if os.path.exists(project_dotenv):\n",
    "    load_dotenv(project_dotenv)"
   ]
  },
  {
   "cell_type": "code",
   "execution_count": 5,
   "id": "skilled-prayer",
   "metadata": {},
   "outputs": [
    {
     "data": {
      "application/javascript": [
       "\n",
       "            setTimeout(function() {\n",
       "                var nbb_cell_id = 5;\n",
       "                var nbb_unformatted_code = \"api_key, api_secret = env.get(\\\"ENV_API_KEY\\\"), env.get(\\\"ENV_SECRET_KEY\\\")\\nclient = Client(api_key, api_secret)\";\n",
       "                var nbb_formatted_code = \"api_key, api_secret = env.get(\\\"ENV_API_KEY\\\"), env.get(\\\"ENV_SECRET_KEY\\\")\\nclient = Client(api_key, api_secret)\";\n",
       "                var nbb_cells = Jupyter.notebook.get_cells();\n",
       "                for (var i = 0; i < nbb_cells.length; ++i) {\n",
       "                    if (nbb_cells[i].input_prompt_number == nbb_cell_id) {\n",
       "                        if (nbb_cells[i].get_text() == nbb_unformatted_code) {\n",
       "                             nbb_cells[i].set_text(nbb_formatted_code);\n",
       "                        }\n",
       "                        break;\n",
       "                    }\n",
       "                }\n",
       "            }, 500);\n",
       "            "
      ],
      "text/plain": [
       "<IPython.core.display.Javascript object>"
      ]
     },
     "metadata": {},
     "output_type": "display_data"
    }
   ],
   "source": [
    "api_key, api_secret = env.get(\"ENV_API_KEY\"), env.get(\"ENV_SECRET_KEY\")\n",
    "client = Client(api_key, api_secret)"
   ]
  },
  {
   "cell_type": "code",
   "execution_count": 6,
   "id": "neutral-translator",
   "metadata": {},
   "outputs": [
    {
     "data": {
      "application/javascript": [
       "\n",
       "            setTimeout(function() {\n",
       "                var nbb_cell_id = 6;\n",
       "                var nbb_unformatted_code = \"klines = client.get_klines(symbol=\\\"ATOMUSDT\\\", interval=Client.KLINE_INTERVAL_15MINUTE)\\n\\nshort_col_names = [\\n    \\\"open_time\\\",\\n    \\\"open\\\",\\n    \\\"high\\\",\\n    \\\"low\\\",\\n    \\\"close\\\",\\n    \\\"volume\\\",\\n    \\\"close_time\\\",\\n    \\\"qav\\\",\\n    \\\"num_trades\\\",\\n    \\\"taker_base_vol\\\",\\n    \\\"taker_quote_vol\\\",\\n    \\\"ignore\\\",\\n]\";\n",
       "                var nbb_formatted_code = \"klines = client.get_klines(symbol=\\\"ATOMUSDT\\\", interval=Client.KLINE_INTERVAL_15MINUTE)\\n\\nshort_col_names = [\\n    \\\"open_time\\\",\\n    \\\"open\\\",\\n    \\\"high\\\",\\n    \\\"low\\\",\\n    \\\"close\\\",\\n    \\\"volume\\\",\\n    \\\"close_time\\\",\\n    \\\"qav\\\",\\n    \\\"num_trades\\\",\\n    \\\"taker_base_vol\\\",\\n    \\\"taker_quote_vol\\\",\\n    \\\"ignore\\\",\\n]\";\n",
       "                var nbb_cells = Jupyter.notebook.get_cells();\n",
       "                for (var i = 0; i < nbb_cells.length; ++i) {\n",
       "                    if (nbb_cells[i].input_prompt_number == nbb_cell_id) {\n",
       "                        if (nbb_cells[i].get_text() == nbb_unformatted_code) {\n",
       "                             nbb_cells[i].set_text(nbb_formatted_code);\n",
       "                        }\n",
       "                        break;\n",
       "                    }\n",
       "                }\n",
       "            }, 500);\n",
       "            "
      ],
      "text/plain": [
       "<IPython.core.display.Javascript object>"
      ]
     },
     "metadata": {},
     "output_type": "display_data"
    }
   ],
   "source": [
    "klines = client.get_klines(symbol=\"ATOMUSDT\", interval=Client.KLINE_INTERVAL_15MINUTE)\n",
    "\n",
    "short_col_names = [\n",
    "    \"open_time\",\n",
    "    \"open\",\n",
    "    \"high\",\n",
    "    \"low\",\n",
    "    \"close\",\n",
    "    \"volume\",\n",
    "    \"close_time\",\n",
    "    \"qav\",\n",
    "    \"num_trades\",\n",
    "    \"taker_base_vol\",\n",
    "    \"taker_quote_vol\",\n",
    "    \"ignore\",\n",
    "]"
   ]
  },
  {
   "cell_type": "code",
   "execution_count": 7,
   "id": "varying-adobe",
   "metadata": {},
   "outputs": [
    {
     "data": {
      "text/html": [
       "<div>\n",
       "<style scoped>\n",
       "    .dataframe tbody tr th:only-of-type {\n",
       "        vertical-align: middle;\n",
       "    }\n",
       "\n",
       "    .dataframe tbody tr th {\n",
       "        vertical-align: top;\n",
       "    }\n",
       "\n",
       "    .dataframe thead th {\n",
       "        text-align: right;\n",
       "    }\n",
       "</style>\n",
       "<table border=\"1\" class=\"dataframe\">\n",
       "  <thead>\n",
       "    <tr style=\"text-align: right;\">\n",
       "      <th></th>\n",
       "      <th>open_time</th>\n",
       "      <th>open</th>\n",
       "      <th>high</th>\n",
       "      <th>low</th>\n",
       "      <th>close</th>\n",
       "      <th>volume</th>\n",
       "      <th>close_time</th>\n",
       "      <th>qav</th>\n",
       "      <th>num_trades</th>\n",
       "      <th>taker_base_vol</th>\n",
       "      <th>taker_quote_vol</th>\n",
       "      <th>ignore</th>\n",
       "    </tr>\n",
       "  </thead>\n",
       "  <tbody>\n",
       "    <tr>\n",
       "      <th>0</th>\n",
       "      <td>2023-02-28 09:45:00</td>\n",
       "      <td>12.47000000</td>\n",
       "      <td>12.47000000</td>\n",
       "      <td>12.43000000</td>\n",
       "      <td>12.44900000</td>\n",
       "      <td>9004.64000000</td>\n",
       "      <td>2023-02-28 09:59:59.999</td>\n",
       "      <td>112171.02253000</td>\n",
       "      <td>503</td>\n",
       "      <td>4422.94000000</td>\n",
       "      <td>55102.55527000</td>\n",
       "      <td>0</td>\n",
       "    </tr>\n",
       "    <tr>\n",
       "      <th>1</th>\n",
       "      <td>2023-02-28 10:00:00</td>\n",
       "      <td>12.44900000</td>\n",
       "      <td>12.45400000</td>\n",
       "      <td>12.40900000</td>\n",
       "      <td>12.44200000</td>\n",
       "      <td>10504.52000000</td>\n",
       "      <td>2023-02-28 10:14:59.999</td>\n",
       "      <td>130632.35017000</td>\n",
       "      <td>541</td>\n",
       "      <td>4150.42000000</td>\n",
       "      <td>51605.11013000</td>\n",
       "      <td>0</td>\n",
       "    </tr>\n",
       "    <tr>\n",
       "      <th>2</th>\n",
       "      <td>2023-02-28 10:15:00</td>\n",
       "      <td>12.44300000</td>\n",
       "      <td>12.46700000</td>\n",
       "      <td>12.43200000</td>\n",
       "      <td>12.46000000</td>\n",
       "      <td>8520.59000000</td>\n",
       "      <td>2023-02-28 10:29:59.999</td>\n",
       "      <td>106044.76434000</td>\n",
       "      <td>433</td>\n",
       "      <td>5214.64000000</td>\n",
       "      <td>64898.22485000</td>\n",
       "      <td>0</td>\n",
       "    </tr>\n",
       "    <tr>\n",
       "      <th>3</th>\n",
       "      <td>2023-02-28 10:30:00</td>\n",
       "      <td>12.46000000</td>\n",
       "      <td>12.50000000</td>\n",
       "      <td>12.44400000</td>\n",
       "      <td>12.50000000</td>\n",
       "      <td>12404.21000000</td>\n",
       "      <td>2023-02-28 10:44:59.999</td>\n",
       "      <td>154930.27156000</td>\n",
       "      <td>567</td>\n",
       "      <td>9101.63000000</td>\n",
       "      <td>113702.12608000</td>\n",
       "      <td>0</td>\n",
       "    </tr>\n",
       "    <tr>\n",
       "      <th>4</th>\n",
       "      <td>2023-02-28 10:45:00</td>\n",
       "      <td>12.50000000</td>\n",
       "      <td>12.52600000</td>\n",
       "      <td>12.49400000</td>\n",
       "      <td>12.50300000</td>\n",
       "      <td>25840.56000000</td>\n",
       "      <td>2023-02-28 10:59:59.999</td>\n",
       "      <td>323115.60967000</td>\n",
       "      <td>957</td>\n",
       "      <td>18525.06000000</td>\n",
       "      <td>231617.75758000</td>\n",
       "      <td>0</td>\n",
       "    </tr>\n",
       "    <tr>\n",
       "      <th>...</th>\n",
       "      <td>...</td>\n",
       "      <td>...</td>\n",
       "      <td>...</td>\n",
       "      <td>...</td>\n",
       "      <td>...</td>\n",
       "      <td>...</td>\n",
       "      <td>...</td>\n",
       "      <td>...</td>\n",
       "      <td>...</td>\n",
       "      <td>...</td>\n",
       "      <td>...</td>\n",
       "      <td>...</td>\n",
       "    </tr>\n",
       "    <tr>\n",
       "      <th>495</th>\n",
       "      <td>2023-03-05 13:30:00</td>\n",
       "      <td>12.15900000</td>\n",
       "      <td>12.17500000</td>\n",
       "      <td>12.14500000</td>\n",
       "      <td>12.15400000</td>\n",
       "      <td>6151.68000000</td>\n",
       "      <td>2023-03-05 13:44:59.999</td>\n",
       "      <td>74822.38207000</td>\n",
       "      <td>312</td>\n",
       "      <td>2609.89000000</td>\n",
       "      <td>31741.59064000</td>\n",
       "      <td>0</td>\n",
       "    </tr>\n",
       "    <tr>\n",
       "      <th>496</th>\n",
       "      <td>2023-03-05 13:45:00</td>\n",
       "      <td>12.15000000</td>\n",
       "      <td>12.16600000</td>\n",
       "      <td>12.13700000</td>\n",
       "      <td>12.15000000</td>\n",
       "      <td>6174.17000000</td>\n",
       "      <td>2023-03-05 13:59:59.999</td>\n",
       "      <td>75019.79143000</td>\n",
       "      <td>354</td>\n",
       "      <td>3815.07000000</td>\n",
       "      <td>46354.50684000</td>\n",
       "      <td>0</td>\n",
       "    </tr>\n",
       "    <tr>\n",
       "      <th>497</th>\n",
       "      <td>2023-03-05 14:00:00</td>\n",
       "      <td>12.14500000</td>\n",
       "      <td>12.16500000</td>\n",
       "      <td>12.12800000</td>\n",
       "      <td>12.14800000</td>\n",
       "      <td>6338.12000000</td>\n",
       "      <td>2023-03-05 14:14:59.999</td>\n",
       "      <td>76983.66251000</td>\n",
       "      <td>362</td>\n",
       "      <td>4237.87000000</td>\n",
       "      <td>51470.90165000</td>\n",
       "      <td>0</td>\n",
       "    </tr>\n",
       "    <tr>\n",
       "      <th>498</th>\n",
       "      <td>2023-03-05 14:15:00</td>\n",
       "      <td>12.14600000</td>\n",
       "      <td>12.17000000</td>\n",
       "      <td>12.14600000</td>\n",
       "      <td>12.16000000</td>\n",
       "      <td>7619.94000000</td>\n",
       "      <td>2023-03-05 14:29:59.999</td>\n",
       "      <td>92629.60859000</td>\n",
       "      <td>263</td>\n",
       "      <td>2468.71000000</td>\n",
       "      <td>30014.28053000</td>\n",
       "      <td>0</td>\n",
       "    </tr>\n",
       "    <tr>\n",
       "      <th>499</th>\n",
       "      <td>2023-03-05 14:30:00</td>\n",
       "      <td>12.15900000</td>\n",
       "      <td>12.15900000</td>\n",
       "      <td>12.15100000</td>\n",
       "      <td>12.15200000</td>\n",
       "      <td>715.51000000</td>\n",
       "      <td>2023-03-05 14:44:59.999</td>\n",
       "      <td>8698.43555000</td>\n",
       "      <td>24</td>\n",
       "      <td>2.30000000</td>\n",
       "      <td>27.95420000</td>\n",
       "      <td>0</td>\n",
       "    </tr>\n",
       "  </tbody>\n",
       "</table>\n",
       "<p>500 rows × 12 columns</p>\n",
       "</div>"
      ],
      "text/plain": [
       "              open_time         open         high          low        close  \\\n",
       "0   2023-02-28 09:45:00  12.47000000  12.47000000  12.43000000  12.44900000   \n",
       "1   2023-02-28 10:00:00  12.44900000  12.45400000  12.40900000  12.44200000   \n",
       "2   2023-02-28 10:15:00  12.44300000  12.46700000  12.43200000  12.46000000   \n",
       "3   2023-02-28 10:30:00  12.46000000  12.50000000  12.44400000  12.50000000   \n",
       "4   2023-02-28 10:45:00  12.50000000  12.52600000  12.49400000  12.50300000   \n",
       "..                  ...          ...          ...          ...          ...   \n",
       "495 2023-03-05 13:30:00  12.15900000  12.17500000  12.14500000  12.15400000   \n",
       "496 2023-03-05 13:45:00  12.15000000  12.16600000  12.13700000  12.15000000   \n",
       "497 2023-03-05 14:00:00  12.14500000  12.16500000  12.12800000  12.14800000   \n",
       "498 2023-03-05 14:15:00  12.14600000  12.17000000  12.14600000  12.16000000   \n",
       "499 2023-03-05 14:30:00  12.15900000  12.15900000  12.15100000  12.15200000   \n",
       "\n",
       "             volume              close_time              qav  num_trades  \\\n",
       "0     9004.64000000 2023-02-28 09:59:59.999  112171.02253000         503   \n",
       "1    10504.52000000 2023-02-28 10:14:59.999  130632.35017000         541   \n",
       "2     8520.59000000 2023-02-28 10:29:59.999  106044.76434000         433   \n",
       "3    12404.21000000 2023-02-28 10:44:59.999  154930.27156000         567   \n",
       "4    25840.56000000 2023-02-28 10:59:59.999  323115.60967000         957   \n",
       "..              ...                     ...              ...         ...   \n",
       "495   6151.68000000 2023-03-05 13:44:59.999   74822.38207000         312   \n",
       "496   6174.17000000 2023-03-05 13:59:59.999   75019.79143000         354   \n",
       "497   6338.12000000 2023-03-05 14:14:59.999   76983.66251000         362   \n",
       "498   7619.94000000 2023-03-05 14:29:59.999   92629.60859000         263   \n",
       "499    715.51000000 2023-03-05 14:44:59.999    8698.43555000          24   \n",
       "\n",
       "     taker_base_vol  taker_quote_vol ignore  \n",
       "0     4422.94000000   55102.55527000      0  \n",
       "1     4150.42000000   51605.11013000      0  \n",
       "2     5214.64000000   64898.22485000      0  \n",
       "3     9101.63000000  113702.12608000      0  \n",
       "4    18525.06000000  231617.75758000      0  \n",
       "..              ...              ...    ...  \n",
       "495   2609.89000000   31741.59064000      0  \n",
       "496   3815.07000000   46354.50684000      0  \n",
       "497   4237.87000000   51470.90165000      0  \n",
       "498   2468.71000000   30014.28053000      0  \n",
       "499      2.30000000      27.95420000      0  \n",
       "\n",
       "[500 rows x 12 columns]"
      ]
     },
     "execution_count": 7,
     "metadata": {},
     "output_type": "execute_result"
    },
    {
     "data": {
      "application/javascript": [
       "\n",
       "            setTimeout(function() {\n",
       "                var nbb_cell_id = 7;\n",
       "                var nbb_unformatted_code = \"data = pd.DataFrame(klines, columns=short_col_names)\\ndata[\\\"open_time\\\"] = pd.to_datetime(data[\\\"open_time\\\"], unit=\\\"ms\\\")\\ndata[\\\"close_time\\\"] = pd.to_datetime(data[\\\"close_time\\\"], unit=\\\"ms\\\")\\ndata\";\n",
       "                var nbb_formatted_code = \"data = pd.DataFrame(klines, columns=short_col_names)\\ndata[\\\"open_time\\\"] = pd.to_datetime(data[\\\"open_time\\\"], unit=\\\"ms\\\")\\ndata[\\\"close_time\\\"] = pd.to_datetime(data[\\\"close_time\\\"], unit=\\\"ms\\\")\\ndata\";\n",
       "                var nbb_cells = Jupyter.notebook.get_cells();\n",
       "                for (var i = 0; i < nbb_cells.length; ++i) {\n",
       "                    if (nbb_cells[i].input_prompt_number == nbb_cell_id) {\n",
       "                        if (nbb_cells[i].get_text() == nbb_unformatted_code) {\n",
       "                             nbb_cells[i].set_text(nbb_formatted_code);\n",
       "                        }\n",
       "                        break;\n",
       "                    }\n",
       "                }\n",
       "            }, 500);\n",
       "            "
      ],
      "text/plain": [
       "<IPython.core.display.Javascript object>"
      ]
     },
     "metadata": {},
     "output_type": "display_data"
    }
   ],
   "source": [
    "data = pd.DataFrame(klines, columns=short_col_names)\n",
    "data[\"open_time\"] = pd.to_datetime(data[\"open_time\"], unit=\"ms\")\n",
    "data[\"close_time\"] = pd.to_datetime(data[\"close_time\"], unit=\"ms\")\n",
    "data"
   ]
  },
  {
   "cell_type": "code",
   "execution_count": 8,
   "id": "latest-gospel",
   "metadata": {},
   "outputs": [
    {
     "data": {
      "application/javascript": [
       "\n",
       "            setTimeout(function() {\n",
       "                var nbb_cell_id = 8;\n",
       "                var nbb_unformatted_code = \"CONST50 = 50  # 50 MA bollinger band\\n\\nRSI_Period: int = 6  # input(6, title='RSI Length')\\nSF: int = 5  # input(5, title='RSI Smoothing')\\nQQE: float = 3.0  # input(3, title='Fast QQE Factor')\\nThreshHold: int = 3  # input(3, title=\\\"Thresh-hold\\\")\\n\\nsrc: pd.Series = data[\\\"close\\\"]  # input(close, title=\\\"RSI Source\\\")\\n\\nRSI_Period2: int = 6  # input(6, title='RSI Length')\\nSF2: int = 5  # input(5, title='RSI Smoothing')\\nQQE2: float = 1.61  # input(1.61, title='Fast QQE2 Factor')\\nThreshHold2: int = 3  # input(3, title=\\\"Thresh-hold\\\")\\n\\nsrc2: pd.Series = data[\\\"close\\\"]  # input(close, title=\\\"RSI Source\\\")\";\n",
       "                var nbb_formatted_code = \"CONST50 = 50  # 50 MA bollinger band\\n\\nRSI_Period: int = 6  # input(6, title='RSI Length')\\nSF: int = 5  # input(5, title='RSI Smoothing')\\nQQE: float = 3.0  # input(3, title='Fast QQE Factor')\\nThreshHold: int = 3  # input(3, title=\\\"Thresh-hold\\\")\\n\\nsrc: pd.Series = data[\\\"close\\\"]  # input(close, title=\\\"RSI Source\\\")\\n\\nRSI_Period2: int = 6  # input(6, title='RSI Length')\\nSF2: int = 5  # input(5, title='RSI Smoothing')\\nQQE2: float = 1.61  # input(1.61, title='Fast QQE2 Factor')\\nThreshHold2: int = 3  # input(3, title=\\\"Thresh-hold\\\")\\n\\nsrc2: pd.Series = data[\\\"close\\\"]  # input(close, title=\\\"RSI Source\\\")\";\n",
       "                var nbb_cells = Jupyter.notebook.get_cells();\n",
       "                for (var i = 0; i < nbb_cells.length; ++i) {\n",
       "                    if (nbb_cells[i].input_prompt_number == nbb_cell_id) {\n",
       "                        if (nbb_cells[i].get_text() == nbb_unformatted_code) {\n",
       "                             nbb_cells[i].set_text(nbb_formatted_code);\n",
       "                        }\n",
       "                        break;\n",
       "                    }\n",
       "                }\n",
       "            }, 500);\n",
       "            "
      ],
      "text/plain": [
       "<IPython.core.display.Javascript object>"
      ]
     },
     "metadata": {},
     "output_type": "display_data"
    }
   ],
   "source": [
    "CONST50 = 50  # 50 MA bollinger band\n",
    "\n",
    "RSI_Period: int = 6  # input(6, title='RSI Length')\n",
    "SF: int = 5  # input(5, title='RSI Smoothing')\n",
    "QQE: float = 3.0  # input(3, title='Fast QQE Factor')\n",
    "ThreshHold: int = 3  # input(3, title=\"Thresh-hold\")\n",
    "\n",
    "src: pd.Series = data[\"close\"]  # input(close, title=\"RSI Source\")\n",
    "\n",
    "RSI_Period2: int = 6  # input(6, title='RSI Length')\n",
    "SF2: int = 5  # input(5, title='RSI Smoothing')\n",
    "QQE2: float = 1.61  # input(1.61, title='Fast QQE2 Factor')\n",
    "ThreshHold2: int = 3  # input(3, title=\"Thresh-hold\")\n",
    "\n",
    "src2: pd.Series = data[\"close\"]  # input(close, title=\"RSI Source\")"
   ]
  },
  {
   "cell_type": "code",
   "execution_count": 9,
   "id": "stuffed-aluminum",
   "metadata": {},
   "outputs": [
    {
     "data": {
      "application/javascript": [
       "\n",
       "            setTimeout(function() {\n",
       "                var nbb_cell_id = 9;\n",
       "                var nbb_unformatted_code = \"Wilders_Period: int = RSI_Period * 2 - 1\\nRsi = tl.RSI(src, RSI_Period)\\nRsiMa = tl.EMA(Rsi, SF)\\nAtrRsi = np.abs(np.roll(RsiMa.copy(), 1) - RsiMa)\\nMaAtrRsi = tl.EMA(AtrRsi, Wilders_Period)\\ndar = tl.EMA(MaAtrRsi, Wilders_Period) * QQE\\n\\nlongband: pd.Series = np.zeros_like(src, dtype=float)\\nshortband: pd.Series = np.zeros_like(src, dtype=float)\\ntrend: pd.Series = np.zeros_like(src, dtype=int)\";\n",
       "                var nbb_formatted_code = \"Wilders_Period: int = RSI_Period * 2 - 1\\nRsi = tl.RSI(src, RSI_Period)\\nRsiMa = tl.EMA(Rsi, SF)\\nAtrRsi = np.abs(np.roll(RsiMa.copy(), 1) - RsiMa)\\nMaAtrRsi = tl.EMA(AtrRsi, Wilders_Period)\\ndar = tl.EMA(MaAtrRsi, Wilders_Period) * QQE\\n\\nlongband: pd.Series = np.zeros_like(src, dtype=float)\\nshortband: pd.Series = np.zeros_like(src, dtype=float)\\ntrend: pd.Series = np.zeros_like(src, dtype=int)\";\n",
       "                var nbb_cells = Jupyter.notebook.get_cells();\n",
       "                for (var i = 0; i < nbb_cells.length; ++i) {\n",
       "                    if (nbb_cells[i].input_prompt_number == nbb_cell_id) {\n",
       "                        if (nbb_cells[i].get_text() == nbb_unformatted_code) {\n",
       "                             nbb_cells[i].set_text(nbb_formatted_code);\n",
       "                        }\n",
       "                        break;\n",
       "                    }\n",
       "                }\n",
       "            }, 500);\n",
       "            "
      ],
      "text/plain": [
       "<IPython.core.display.Javascript object>"
      ]
     },
     "metadata": {},
     "output_type": "display_data"
    }
   ],
   "source": [
    "Wilders_Period: int = RSI_Period * 2 - 1\n",
    "Rsi = tl.RSI(src, RSI_Period)\n",
    "RsiMa = tl.EMA(Rsi, SF)\n",
    "AtrRsi = np.abs(np.roll(RsiMa.copy(), 1) - RsiMa)\n",
    "MaAtrRsi = tl.EMA(AtrRsi, Wilders_Period)\n",
    "dar = tl.EMA(MaAtrRsi, Wilders_Period) * QQE\n",
    "\n",
    "longband: pd.Series = np.zeros_like(src, dtype=float)\n",
    "shortband: pd.Series = np.zeros_like(src, dtype=float)\n",
    "trend: pd.Series = np.zeros_like(src, dtype=int)"
   ]
  },
  {
   "cell_type": "code",
   "execution_count": 10,
   "id": "special-specification",
   "metadata": {},
   "outputs": [
    {
     "data": {
      "application/javascript": [
       "\n",
       "            setTimeout(function() {\n",
       "                var nbb_cell_id = 10;\n",
       "                var nbb_unformatted_code = \"DeltaFastAtrRsi = dar\\nRSIndex = RsiMa\\nnewshortband = RSIndex + DeltaFastAtrRsi\\nnewlongband = RSIndex - DeltaFastAtrRsi\\n# RSIndex.tail(20)\";\n",
       "                var nbb_formatted_code = \"DeltaFastAtrRsi = dar\\nRSIndex = RsiMa\\nnewshortband = RSIndex + DeltaFastAtrRsi\\nnewlongband = RSIndex - DeltaFastAtrRsi\\n# RSIndex.tail(20)\";\n",
       "                var nbb_cells = Jupyter.notebook.get_cells();\n",
       "                for (var i = 0; i < nbb_cells.length; ++i) {\n",
       "                    if (nbb_cells[i].input_prompt_number == nbb_cell_id) {\n",
       "                        if (nbb_cells[i].get_text() == nbb_unformatted_code) {\n",
       "                             nbb_cells[i].set_text(nbb_formatted_code);\n",
       "                        }\n",
       "                        break;\n",
       "                    }\n",
       "                }\n",
       "            }, 500);\n",
       "            "
      ],
      "text/plain": [
       "<IPython.core.display.Javascript object>"
      ]
     },
     "metadata": {},
     "output_type": "display_data"
    }
   ],
   "source": [
    "DeltaFastAtrRsi = dar\n",
    "RSIndex = RsiMa\n",
    "newshortband = RSIndex + DeltaFastAtrRsi\n",
    "newlongband = RSIndex - DeltaFastAtrRsi\n",
    "# RSIndex.tail(20)"
   ]
  },
  {
   "cell_type": "code",
   "execution_count": 11,
   "id": "active-printer",
   "metadata": {},
   "outputs": [
    {
     "data": {
      "application/javascript": [
       "\n",
       "            setTimeout(function() {\n",
       "                var nbb_cell_id = 11;\n",
       "                var nbb_unformatted_code = \"def cross(x: pd.Series, y: pd.Series) -> pd.Series:\\n    \\\"\\\"\\\"\\n    Returns a boolean Series indicating where two pandas Series have crossed.\\n    \\\"\\\"\\\"\\n    # Ensure the inputs are pandas Series\\n    x = pd.Series(x)\\n    y = pd.Series(y)\\n\\n    # Compare the values at corresponding indices\\n    cross_above = (x.shift(1) < y.shift(1)) & (x >= y)\\n    cross_below = (x.shift(1) > y.shift(1)) & (x <= y)\\n\\n    # Combine the above and below crosses into a single boolean Series\\n    crosses = cross_above | cross_below\\n\\n    return crosses\";\n",
       "                var nbb_formatted_code = \"def cross(x: pd.Series, y: pd.Series) -> pd.Series:\\n    \\\"\\\"\\\"\\n    Returns a boolean Series indicating where two pandas Series have crossed.\\n    \\\"\\\"\\\"\\n    # Ensure the inputs are pandas Series\\n    x = pd.Series(x)\\n    y = pd.Series(y)\\n\\n    # Compare the values at corresponding indices\\n    cross_above = (x.shift(1) < y.shift(1)) & (x >= y)\\n    cross_below = (x.shift(1) > y.shift(1)) & (x <= y)\\n\\n    # Combine the above and below crosses into a single boolean Series\\n    crosses = cross_above | cross_below\\n\\n    return crosses\";\n",
       "                var nbb_cells = Jupyter.notebook.get_cells();\n",
       "                for (var i = 0; i < nbb_cells.length; ++i) {\n",
       "                    if (nbb_cells[i].input_prompt_number == nbb_cell_id) {\n",
       "                        if (nbb_cells[i].get_text() == nbb_unformatted_code) {\n",
       "                             nbb_cells[i].set_text(nbb_formatted_code);\n",
       "                        }\n",
       "                        break;\n",
       "                    }\n",
       "                }\n",
       "            }, 500);\n",
       "            "
      ],
      "text/plain": [
       "<IPython.core.display.Javascript object>"
      ]
     },
     "metadata": {},
     "output_type": "display_data"
    }
   ],
   "source": [
    "def cross(x: pd.Series, y: pd.Series) -> pd.Series:\n",
    "    \"\"\"\n",
    "    Returns a boolean Series indicating where two pandas Series have crossed.\n",
    "    \"\"\"\n",
    "    # Ensure the inputs are pandas Series\n",
    "    x = pd.Series(x)\n",
    "    y = pd.Series(y)\n",
    "\n",
    "    # Compare the values at corresponding indices\n",
    "    cross_above = (x.shift(1) < y.shift(1)) & (x >= y)\n",
    "    cross_below = (x.shift(1) > y.shift(1)) & (x <= y)\n",
    "\n",
    "    # Combine the above and below crosses into a single boolean Series\n",
    "    crosses = cross_above | cross_below\n",
    "\n",
    "    return crosses"
   ]
  },
  {
   "cell_type": "code",
   "execution_count": 12,
   "id": "floral-consultancy",
   "metadata": {},
   "outputs": [
    {
     "data": {
      "text/plain": [
       "0    0.963163\n",
       "1    0.445097\n",
       "2    0.164233\n",
       "3    0.608410\n",
       "4    0.024915\n",
       "5    0.645267\n",
       "6    0.860724\n",
       "7    0.566218\n",
       "8    0.516534\n",
       "9    0.187524\n",
       "dtype: float64"
      ]
     },
     "execution_count": 12,
     "metadata": {},
     "output_type": "execute_result"
    },
    {
     "data": {
      "application/javascript": [
       "\n",
       "            setTimeout(function() {\n",
       "                var nbb_cell_id = 12;\n",
       "                var nbb_unformatted_code = \"x = pd.Series(np.random.rand(10))\\nx\";\n",
       "                var nbb_formatted_code = \"x = pd.Series(np.random.rand(10))\\nx\";\n",
       "                var nbb_cells = Jupyter.notebook.get_cells();\n",
       "                for (var i = 0; i < nbb_cells.length; ++i) {\n",
       "                    if (nbb_cells[i].input_prompt_number == nbb_cell_id) {\n",
       "                        if (nbb_cells[i].get_text() == nbb_unformatted_code) {\n",
       "                             nbb_cells[i].set_text(nbb_formatted_code);\n",
       "                        }\n",
       "                        break;\n",
       "                    }\n",
       "                }\n",
       "            }, 500);\n",
       "            "
      ],
      "text/plain": [
       "<IPython.core.display.Javascript object>"
      ]
     },
     "metadata": {},
     "output_type": "display_data"
    }
   ],
   "source": [
    "x = pd.Series(np.random.rand(10))\n",
    "x"
   ]
  },
  {
   "cell_type": "code",
   "execution_count": 13,
   "id": "tamil-running",
   "metadata": {},
   "outputs": [
    {
     "data": {
      "text/plain": [
       "0    1.000000\n",
       "1    0.963163\n",
       "2    0.445097\n",
       "3    0.164233\n",
       "4    0.608410\n",
       "5    0.024915\n",
       "6    0.645267\n",
       "7    0.860724\n",
       "8    0.566218\n",
       "9    0.516534\n",
       "dtype: float64"
      ]
     },
     "execution_count": 13,
     "metadata": {},
     "output_type": "execute_result"
    },
    {
     "data": {
      "application/javascript": [
       "\n",
       "            setTimeout(function() {\n",
       "                var nbb_cell_id = 13;\n",
       "                var nbb_unformatted_code = \"pd.Series(np.nan_to_num(x.shift(1), nan=1))\";\n",
       "                var nbb_formatted_code = \"pd.Series(np.nan_to_num(x.shift(1), nan=1))\";\n",
       "                var nbb_cells = Jupyter.notebook.get_cells();\n",
       "                for (var i = 0; i < nbb_cells.length; ++i) {\n",
       "                    if (nbb_cells[i].input_prompt_number == nbb_cell_id) {\n",
       "                        if (nbb_cells[i].get_text() == nbb_unformatted_code) {\n",
       "                             nbb_cells[i].set_text(nbb_formatted_code);\n",
       "                        }\n",
       "                        break;\n",
       "                    }\n",
       "                }\n",
       "            }, 500);\n",
       "            "
      ],
      "text/plain": [
       "<IPython.core.display.Javascript object>"
      ]
     },
     "metadata": {},
     "output_type": "display_data"
    }
   ],
   "source": [
    "pd.Series(np.nan_to_num(x.shift(1), nan=1))"
   ]
  },
  {
   "cell_type": "code",
   "execution_count": 14,
   "id": "continued-transformation",
   "metadata": {},
   "outputs": [
    {
     "data": {
      "text/plain": [
       "0    0.688658\n",
       "1    0.881331\n",
       "2    0.939276\n",
       "3    0.043104\n",
       "4    0.027855\n",
       "5    0.527685\n",
       "6    0.516114\n",
       "7    0.963922\n",
       "8    0.445516\n",
       "9    0.787776\n",
       "dtype: float64"
      ]
     },
     "execution_count": 14,
     "metadata": {},
     "output_type": "execute_result"
    },
    {
     "data": {
      "application/javascript": [
       "\n",
       "            setTimeout(function() {\n",
       "                var nbb_cell_id = 14;\n",
       "                var nbb_unformatted_code = \"y = pd.Series(np.random.rand(10))\\ny\";\n",
       "                var nbb_formatted_code = \"y = pd.Series(np.random.rand(10))\\ny\";\n",
       "                var nbb_cells = Jupyter.notebook.get_cells();\n",
       "                for (var i = 0; i < nbb_cells.length; ++i) {\n",
       "                    if (nbb_cells[i].input_prompt_number == nbb_cell_id) {\n",
       "                        if (nbb_cells[i].get_text() == nbb_unformatted_code) {\n",
       "                             nbb_cells[i].set_text(nbb_formatted_code);\n",
       "                        }\n",
       "                        break;\n",
       "                    }\n",
       "                }\n",
       "            }, 500);\n",
       "            "
      ],
      "text/plain": [
       "<IPython.core.display.Javascript object>"
      ]
     },
     "metadata": {},
     "output_type": "display_data"
    }
   ],
   "source": [
    "y = pd.Series(np.random.rand(10))\n",
    "y"
   ]
  },
  {
   "cell_type": "code",
   "execution_count": 15,
   "id": "shared-floor",
   "metadata": {},
   "outputs": [
    {
     "data": {
      "text/plain": [
       "0    False\n",
       "1     True\n",
       "2    False\n",
       "3     True\n",
       "4     True\n",
       "5     True\n",
       "6    False\n",
       "7     True\n",
       "8     True\n",
       "9     True\n",
       "dtype: bool"
      ]
     },
     "execution_count": 15,
     "metadata": {},
     "output_type": "execute_result"
    },
    {
     "data": {
      "application/javascript": [
       "\n",
       "            setTimeout(function() {\n",
       "                var nbb_cell_id = 15;\n",
       "                var nbb_unformatted_code = \"crosses = cross(x, y)\\ncrosses\";\n",
       "                var nbb_formatted_code = \"crosses = cross(x, y)\\ncrosses\";\n",
       "                var nbb_cells = Jupyter.notebook.get_cells();\n",
       "                for (var i = 0; i < nbb_cells.length; ++i) {\n",
       "                    if (nbb_cells[i].input_prompt_number == nbb_cell_id) {\n",
       "                        if (nbb_cells[i].get_text() == nbb_unformatted_code) {\n",
       "                             nbb_cells[i].set_text(nbb_formatted_code);\n",
       "                        }\n",
       "                        break;\n",
       "                    }\n",
       "                }\n",
       "            }, 500);\n",
       "            "
      ],
      "text/plain": [
       "<IPython.core.display.Javascript object>"
      ]
     },
     "metadata": {},
     "output_type": "display_data"
    }
   ],
   "source": [
    "crosses = cross(x, y)\n",
    "crosses"
   ]
  },
  {
   "cell_type": "code",
   "execution_count": 16,
   "id": "divine-harbor",
   "metadata": {},
   "outputs": [
    {
     "data": {
      "text/plain": [
       "array([ 0.        ,         nan,         nan,         nan,         nan,\n",
       "               nan,         nan,         nan,         nan,         nan,\n",
       "               nan,         nan,         nan,         nan,         nan,\n",
       "               nan,         nan,         nan,         nan,         nan,\n",
       "               nan,         nan,         nan,         nan,         nan,\n",
       "               nan,         nan,         nan,         nan,         nan,\n",
       "               nan, 57.90913602, 57.90913602, 57.90913602, 57.90913602,\n",
       "       57.90913602, 57.90913602, 57.31133888, 46.56830652, 45.42202594,\n",
       "       42.93762939, 42.93762939, 41.34366043, 41.34366043, 41.34366043,\n",
       "       37.22744092, 33.43507142, 29.90877227, 29.90877227, 39.29056837,\n",
       "       39.29056837, 52.78763311, 52.78763311, 52.78763311, 52.78763311,\n",
       "       52.78763311, 52.78763311, 52.78763311, 52.78763311, 52.78763311,\n",
       "       52.56908584, 52.56908584, 64.16763349, 64.16763349, 74.99051491,\n",
       "       74.99051491, 74.99051491, 74.99051491, 74.99051491, 74.99051491,\n",
       "       86.14005199, 86.14005199, 86.14005199, 86.14005199, 96.00619644,\n",
       "       96.00619644, 96.00619644, 96.00619644, 94.4786206 , 90.61822035,\n",
       "       88.922134  , 88.3149176 , 88.0658836 , 88.0658836 , 86.59052097,\n",
       "       86.35475981, 80.69454625, 76.8864819 , 70.81370945, 70.56387757,\n",
       "       70.03303869, 70.03303869, 70.03303869, 79.84562554, 79.84562554,\n",
       "       79.84562554, 79.84562554, 79.84562554, 79.84562554, 88.78120124,\n",
       "       88.78120124, 88.78120124, 96.16678911, 95.31779013, 94.96012626,\n",
       "       86.98831551, 83.55578257, 80.62826278, 77.45534166, 73.59645289,\n",
       "       68.50684599, 68.50684599, 68.50684599, 68.50684599, 78.26716775,\n",
       "       78.26716775, 78.26162885, 73.63651032, 71.10424007, 66.98740819,\n",
       "       61.37079487, 51.41238819, 49.12584392, 49.12584392, 49.12584392,\n",
       "       49.12584392, 49.12584392, 62.37183484, 57.49862411, 53.48173067,\n",
       "       48.66010875, 43.99813041, 43.18341051, 40.86331828, 38.22750706,\n",
       "       34.76565609, 29.84788586, 29.20012767, 27.91959947, 27.91959947,\n",
       "       27.91959947, 38.97307539, 38.97307539, 56.73730562, 56.73730562,\n",
       "       69.17678421, 65.74689517, 65.74689517, 65.74689517, 65.74689517,\n",
       "       65.74689517, 65.74689517, 79.61142328, 79.61142328, 79.61142328,\n",
       "       79.61142328, 79.61142328, 79.61142328, 74.06671314, 64.34291504,\n",
       "       58.57689046, 54.19463   , 51.06311714, 45.1164166 , 42.35133807,\n",
       "       41.28961742, 41.28961742, 41.28961742, 41.28961742, 41.28961742,\n",
       "       41.28961742, 41.28961742, 52.36521074, 47.60676165, 47.60676165,\n",
       "       45.68067658, 41.22190028, 36.91304166, 33.45482268, 33.40389586,\n",
       "       32.26724072, 32.26724072, 32.26724072, 32.26724072, 32.26724072,\n",
       "       32.26724072, 32.26724072, 44.1983149 , 44.1983149 , 44.1983149 ,\n",
       "       57.12296633, 57.12296633, 52.35658028, 48.15795428, 43.93979674,\n",
       "       42.42503294, 42.41920473, 39.2634666 , 38.0462284 , 38.0462284 ,\n",
       "       38.0462284 , 36.56203489, 31.67382679, 27.57236615, 27.57236615,\n",
       "       27.57236615, 37.27138568, 37.27138568, 37.27138568, 37.27138568,\n",
       "       37.27138568, 37.27138568, 37.27138568, 53.93126991, 53.93126991,\n",
       "       70.18074416, 70.18074416, 70.18074416, 70.18074416, 68.08971916,\n",
       "       65.15274305, 63.36345577, 63.36345577, 62.99807993, 62.90229988,\n",
       "       62.90229988, 62.90229988, 62.90229988, 78.8250738 , 77.4339136 ,\n",
       "       77.4339136 , 77.4339136 , 77.4339136 , 77.4339136 , 77.4339136 ,\n",
       "       77.4339136 , 75.01005988, 72.45608626, 67.81066694, 63.50595008,\n",
       "       58.56299854, 58.56299854, 58.56299854, 58.56299854, 58.56299854,\n",
       "       70.40854751, 67.08181399, 65.49855346, 64.92829668, 58.58301199,\n",
       "       52.71210909, 47.39694106, 43.55413115, 39.00415962, 31.58200845,\n",
       "       26.24582633, 22.69487654, 22.69487654, 22.69487654, 22.69487654,\n",
       "       22.69487654, 36.18280782, 36.18280782, 36.18280782, 49.08300447,\n",
       "       49.08300447, 49.08300447, 61.28895003, 61.28895003, 61.28895003,\n",
       "       61.28895003, 61.28895003, 61.28895003, 61.28895003, 61.28895003,\n",
       "       61.28895003, 61.28895003, 61.28895003, 61.28895003, 71.07867429,\n",
       "       71.07867429, 69.05188922, 69.05188922, 69.05188922, 77.00442468,\n",
       "       77.00442468, 77.00442468, 77.00442468, 77.00442468, 75.43985379,\n",
       "       71.41951136, 70.52681804, 65.23219823, 61.23297189, 60.9442031 ,\n",
       "       54.70766059, 49.08704519, 48.98072521, 44.28322413, 41.38735308,\n",
       "       38.54759208, 35.20456902, 35.20456902, 35.20456902, 52.17991849,\n",
       "       52.17991849, 52.17991849, 66.01520034, 65.28022618, 65.28022618,\n",
       "       65.28022618, 64.1047928 , 59.14664026, 54.92004943, 54.92004943,\n",
       "       54.92004943, 54.92004943, 65.5788831 , 65.5788831 , 65.5788831 ,\n",
       "       65.5788831 , 65.5788831 , 65.5788831 , 63.47504209, 59.35151946,\n",
       "       59.35151946, 59.35151946, 59.30007517, 59.30007517, 59.30007517,\n",
       "       72.5398512 , 66.04492721, 60.32554404, 53.25851652, 50.09983073,\n",
       "       48.40088402, 44.17870457, 41.27582875, 41.27582875, 41.27582875,\n",
       "       41.27582875, 59.48769757, 59.48769757, 59.48769757, 74.50058622,\n",
       "       74.50058622, 74.50058622, 74.50058622, 74.50058622, 74.50058622,\n",
       "       74.50058622, 74.50058622, 68.40932136, 65.60616989, 65.60616989,\n",
       "       62.47178037, 59.26453687, 54.95544883, 51.71396717, 51.71396717,\n",
       "       51.05609969, 51.05609969, 49.84763953, 45.40272667, 45.40272667,\n",
       "       45.40272667, 45.40272667, 45.40272667, 45.40272667, 56.84063859,\n",
       "       56.84063859, 71.15048994, 71.15048994, 71.15048994, 71.15048994,\n",
       "       69.09929411, 66.39840348, 59.59486569, 59.59486569, 59.19901201,\n",
       "       57.49188616, 57.49188616, 57.49188616, 56.68197786, 55.57676253,\n",
       "       55.57676253, 54.6199289 , 49.82795613, 46.53419082, 46.53419082,\n",
       "       46.53419082, 46.53419082, 56.12630968, 56.12630968, 56.12630968,\n",
       "       56.12630968, 56.12630968, 56.12630968, 66.06355466, 64.91259426,\n",
       "       61.01160266, 58.20374855, 56.50929873, 50.19637064, 46.12214407,\n",
       "       46.12214407, 46.12214407, 42.81393531, 37.38821012, 37.38821012,\n",
       "       37.38821012, 37.38821012, 37.38821012, 48.03865578, 48.03865578,\n",
       "       48.03865578, 48.03865578, 45.08506612, 45.08506612, 45.08506612,\n",
       "       45.08506612, 45.08506612, 45.08506612, 41.48779285, 35.95851442,\n",
       "       31.54187232, 31.54187232, 31.54187232, 31.54187232, 31.54187232,\n",
       "       40.73671249, 38.7300391 , 38.7300391 , 38.7300391 , 48.48091298,\n",
       "       48.48091298, 59.80426607, 59.80426607, 59.80426607, 59.80426607,\n",
       "       71.8603597 , 71.8603597 , 71.8603597 , 83.04268927, 83.04268927,\n",
       "       83.04268927, 93.89695584, 93.89695584, 93.89695584, 93.89695584,\n",
       "       93.89695584, 93.01466876, 90.19964046, 90.19964046, 90.19964046,\n",
       "       90.19964046, 86.48333139, 83.73733885, 80.29513418, 78.86380832,\n",
       "       75.22948326, 70.18895831, 66.65796413, 65.40049449, 62.08733488,\n",
       "       62.08733488, 58.21210398, 56.17098084, 50.63115985, 46.47532046,\n",
       "       46.47532046, 46.47532046, 46.47532046, 46.47532046, 46.47532046,\n",
       "       44.97686032, 39.92005566, 39.92005566, 39.92005566, 39.92005566,\n",
       "       39.92005566, 39.92005566, 55.82777656, 55.82777656, 70.41889888,\n",
       "       70.41889888, 70.41889888, 66.22217726, 62.70739346, 62.09921054,\n",
       "       59.8913931 , 59.8913931 , 59.8913931 , 59.8913931 , 72.2320624 ,\n",
       "       71.35593146, 69.24362606, 66.96647946, 66.96647946, 66.66957881])"
      ]
     },
     "execution_count": 16,
     "metadata": {},
     "output_type": "execute_result"
    },
    {
     "data": {
      "application/javascript": [
       "\n",
       "            setTimeout(function() {\n",
       "                var nbb_cell_id = 16;\n",
       "                var nbb_unformatted_code = \"for i in range(1, len(src)):\\n    if RSIndex[i - 1] > longband[i - 1] and RSIndex[i] > longband[i - 1]:\\n        longband[i] = max(longband[i - 1], newlongband[i])\\n    else:\\n        longband[i] = newlongband[i]\\n\\n    if RSIndex[i - 1] < shortband[i - 1] and RSIndex[i] < shortband[i - 1]:\\n        shortband[i] = min(shortband[i - 1], newshortband[i])\\n    else:\\n        shortband[i] = newshortband[i]\\n\\n# long_cond = (RSIndex[:-1] > longband[:-1]) & (RSIndex[1:] > longband[:-1])\\n# longband[long_cond] = np.maximum(longband[long_cond], newlongband[long_cond])\\n# longband[~long_cond] = newlongband[~long_cond]\\n\\n# short_cond = (RSIndex[:-1] < shortband[:-1]) & (RSIndex[1:] < shortband[:-1])\\n# shortband[short_cond] = np.minimum(shortband[short_cond], newshortband[short_cond])\\n# shortband[~short_cond] = newshortband[~short_cond]\\n\\nshortband\";\n",
       "                var nbb_formatted_code = \"for i in range(1, len(src)):\\n    if RSIndex[i - 1] > longband[i - 1] and RSIndex[i] > longband[i - 1]:\\n        longband[i] = max(longband[i - 1], newlongband[i])\\n    else:\\n        longband[i] = newlongband[i]\\n\\n    if RSIndex[i - 1] < shortband[i - 1] and RSIndex[i] < shortband[i - 1]:\\n        shortband[i] = min(shortband[i - 1], newshortband[i])\\n    else:\\n        shortband[i] = newshortband[i]\\n\\n# long_cond = (RSIndex[:-1] > longband[:-1]) & (RSIndex[1:] > longband[:-1])\\n# longband[long_cond] = np.maximum(longband[long_cond], newlongband[long_cond])\\n# longband[~long_cond] = newlongband[~long_cond]\\n\\n# short_cond = (RSIndex[:-1] < shortband[:-1]) & (RSIndex[1:] < shortband[:-1])\\n# shortband[short_cond] = np.minimum(shortband[short_cond], newshortband[short_cond])\\n# shortband[~short_cond] = newshortband[~short_cond]\\n\\nshortband\";\n",
       "                var nbb_cells = Jupyter.notebook.get_cells();\n",
       "                for (var i = 0; i < nbb_cells.length; ++i) {\n",
       "                    if (nbb_cells[i].input_prompt_number == nbb_cell_id) {\n",
       "                        if (nbb_cells[i].get_text() == nbb_unformatted_code) {\n",
       "                             nbb_cells[i].set_text(nbb_formatted_code);\n",
       "                        }\n",
       "                        break;\n",
       "                    }\n",
       "                }\n",
       "            }, 500);\n",
       "            "
      ],
      "text/plain": [
       "<IPython.core.display.Javascript object>"
      ]
     },
     "metadata": {},
     "output_type": "display_data"
    }
   ],
   "source": [
    "for i in range(1, len(src)):\n",
    "    if RSIndex[i - 1] > longband[i - 1] and RSIndex[i] > longband[i - 1]:\n",
    "        longband[i] = max(longband[i - 1], newlongband[i])\n",
    "    else:\n",
    "        longband[i] = newlongband[i]\n",
    "\n",
    "    if RSIndex[i - 1] < shortband[i - 1] and RSIndex[i] < shortband[i - 1]:\n",
    "        shortband[i] = min(shortband[i - 1], newshortband[i])\n",
    "    else:\n",
    "        shortband[i] = newshortband[i]\n",
    "\n",
    "# long_cond = (RSIndex[:-1] > longband[:-1]) & (RSIndex[1:] > longband[:-1])\n",
    "# longband[long_cond] = np.maximum(longband[long_cond], newlongband[long_cond])\n",
    "# longband[~long_cond] = newlongband[~long_cond]\n",
    "\n",
    "# short_cond = (RSIndex[:-1] < shortband[:-1]) & (RSIndex[1:] < shortband[:-1])\n",
    "# shortband[short_cond] = np.minimum(shortband[short_cond], newshortband[short_cond])\n",
    "# shortband[~short_cond] = newshortband[~short_cond]\n",
    "\n",
    "shortband"
   ]
  },
  {
   "cell_type": "code",
   "execution_count": 17,
   "id": "electoral-hostel",
   "metadata": {},
   "outputs": [
    {
     "data": {
      "text/plain": [
       "array([ 0,  0,  0,  0,  0,  0,  0,  0,  0,  0,  0,  0,  0,  0,  0,  0,  0,\n",
       "        0,  0,  0,  0,  0,  0,  0,  0,  0,  0,  0,  0,  0,  0,  0,  0,  0,\n",
       "        0,  0,  0,  0, -1, -1, -1, -1, -1, -1, -1, -1, -1, -1, -1,  1,  1,\n",
       "        1,  1,  1,  1,  1,  1,  1,  1,  1,  1,  1,  1,  1,  1,  1,  1,  1,\n",
       "        1,  1,  1,  1,  1,  1,  1,  1,  1,  1,  1, -1, -1, -1, -1, -1, -1,\n",
       "       -1, -1, -1, -1, -1, -1, -1, -1,  1,  1,  1,  1,  1,  1,  1,  1,  1,\n",
       "        1,  1,  1, -1, -1, -1, -1, -1, -1, -1, -1, -1,  1,  1,  1,  1, -1,\n",
       "       -1, -1, -1, -1, -1, -1, -1, -1,  1,  1,  1, -1, -1, -1, -1, -1, -1,\n",
       "       -1, -1, -1, -1, -1,  1,  1,  1,  1,  1,  1,  1,  1,  1,  1,  1,  1,\n",
       "        1,  1,  1,  1,  1, -1, -1, -1, -1, -1, -1, -1, -1, -1, -1, -1, -1,\n",
       "       -1, -1,  1,  1,  1,  1, -1, -1, -1, -1, -1, -1, -1, -1, -1, -1, -1,\n",
       "        1,  1,  1,  1,  1,  1, -1, -1, -1, -1, -1, -1, -1, -1, -1, -1, -1,\n",
       "       -1, -1,  1,  1,  1,  1,  1,  1,  1,  1,  1,  1,  1,  1,  1,  1, -1,\n",
       "       -1, -1, -1, -1, -1, -1, -1,  1,  1,  1,  1,  1,  1,  1,  1,  1, -1,\n",
       "       -1, -1, -1, -1, -1, -1, -1,  1,  1,  1,  1, -1, -1, -1, -1, -1, -1,\n",
       "       -1, -1, -1, -1, -1, -1,  1,  1,  1,  1,  1,  1,  1,  1,  1,  1,  1,\n",
       "        1,  1,  1,  1,  1,  1,  1,  1,  1,  1,  1,  1,  1,  1,  1,  1,  1,\n",
       "       -1, -1, -1, -1, -1, -1, -1, -1, -1, -1, -1, -1, -1, -1, -1,  1,  1,\n",
       "        1,  1,  1,  1,  1,  1,  1, -1, -1, -1, -1,  1,  1,  1,  1,  1,  1,\n",
       "       -1, -1, -1, -1, -1, -1, -1,  1,  1, -1, -1, -1, -1, -1, -1, -1, -1,\n",
       "       -1,  1,  1,  1,  1,  1,  1,  1,  1,  1,  1,  1, -1, -1, -1, -1, -1,\n",
       "       -1, -1, -1, -1, -1, -1, -1, -1, -1, -1, -1, -1,  1,  1,  1,  1,  1,\n",
       "        1,  1, -1, -1, -1, -1, -1, -1, -1, -1, -1, -1, -1, -1, -1, -1, -1,\n",
       "       -1,  1,  1,  1,  1,  1,  1,  1,  1,  1,  1, -1, -1, -1, -1, -1, -1,\n",
       "       -1, -1, -1, -1, -1,  1,  1,  1,  1,  1,  1,  1,  1,  1,  1, -1, -1,\n",
       "       -1, -1, -1, -1, -1,  1,  1,  1,  1,  1,  1,  1,  1,  1,  1,  1,  1,\n",
       "        1,  1,  1,  1,  1,  1,  1,  1,  1,  1, -1, -1, -1, -1, -1, -1, -1,\n",
       "       -1, -1, -1, -1, -1, -1, -1, -1, -1, -1, -1, -1, -1, -1, -1, -1, -1,\n",
       "       -1, -1, -1, -1, -1, -1,  1,  1,  1,  1,  1, -1, -1, -1, -1, -1, -1,\n",
       "       -1,  1,  1,  1,  1,  1,  1])"
      ]
     },
     "execution_count": 17,
     "metadata": {},
     "output_type": "execute_result"
    },
    {
     "data": {
      "application/javascript": [
       "\n",
       "            setTimeout(function() {\n",
       "                var nbb_cell_id = 17;\n",
       "                var nbb_unformatted_code = \"cross_1 = cross(np.roll(longband.copy(), 1), RSIndex)\\ncross_2 = cross(RSIndex, np.roll(shortband.copy(), 1))\\n# trend_1 = np.nan_to_num(np.roll(trend.copy(), 1), nan=1)\\n\\nfor i in range(1, len(src)):\\n    trend[i] = (\\n        1\\n        if cross_2[i]\\n        else -1\\n        if cross_1[i]\\n        else 1\\n        if np.isnan(trend[i - 1])\\n        else trend[i - 1]\\n    )\\n# trend[:][cross_2] = 1\\n# trend[:][cross_1] = -1\\n# # trend[:][np.isnan(trend[:])] = 1\\n# trend[:][trend == 0] = 1\\n\\ntrend\";\n",
       "                var nbb_formatted_code = \"cross_1 = cross(np.roll(longband.copy(), 1), RSIndex)\\ncross_2 = cross(RSIndex, np.roll(shortband.copy(), 1))\\n# trend_1 = np.nan_to_num(np.roll(trend.copy(), 1), nan=1)\\n\\nfor i in range(1, len(src)):\\n    trend[i] = (\\n        1\\n        if cross_2[i]\\n        else -1\\n        if cross_1[i]\\n        else 1\\n        if np.isnan(trend[i - 1])\\n        else trend[i - 1]\\n    )\\n# trend[:][cross_2] = 1\\n# trend[:][cross_1] = -1\\n# # trend[:][np.isnan(trend[:])] = 1\\n# trend[:][trend == 0] = 1\\n\\ntrend\";\n",
       "                var nbb_cells = Jupyter.notebook.get_cells();\n",
       "                for (var i = 0; i < nbb_cells.length; ++i) {\n",
       "                    if (nbb_cells[i].input_prompt_number == nbb_cell_id) {\n",
       "                        if (nbb_cells[i].get_text() == nbb_unformatted_code) {\n",
       "                             nbb_cells[i].set_text(nbb_formatted_code);\n",
       "                        }\n",
       "                        break;\n",
       "                    }\n",
       "                }\n",
       "            }, 500);\n",
       "            "
      ],
      "text/plain": [
       "<IPython.core.display.Javascript object>"
      ]
     },
     "metadata": {},
     "output_type": "display_data"
    }
   ],
   "source": [
    "cross_1 = cross(np.roll(longband.copy(), 1), RSIndex)\n",
    "cross_2 = cross(RSIndex, np.roll(shortband.copy(), 1))\n",
    "# trend_1 = np.nan_to_num(np.roll(trend.copy(), 1), nan=1)\n",
    "\n",
    "for i in range(1, len(src)):\n",
    "    trend[i] = (\n",
    "        1\n",
    "        if cross_2[i]\n",
    "        else -1\n",
    "        if cross_1[i]\n",
    "        else 1\n",
    "        if np.isnan(trend[i - 1])\n",
    "        else trend[i - 1]\n",
    "    )\n",
    "# trend[:][cross_2] = 1\n",
    "# trend[:][cross_1] = -1\n",
    "# # trend[:][np.isnan(trend[:])] = 1\n",
    "# trend[:][trend == 0] = 1\n",
    "\n",
    "trend"
   ]
  },
  {
   "cell_type": "code",
   "execution_count": 18,
   "id": "restricted-assault",
   "metadata": {},
   "outputs": [
    {
     "data": {
      "text/plain": [
       "490   -1\n",
       "491   -1\n",
       "492   -1\n",
       "493   -1\n",
       "494    1\n",
       "495    1\n",
       "496    1\n",
       "497    1\n",
       "498    1\n",
       "499    1\n",
       "dtype: int64"
      ]
     },
     "execution_count": 18,
     "metadata": {},
     "output_type": "execute_result"
    },
    {
     "data": {
      "application/javascript": [
       "\n",
       "            setTimeout(function() {\n",
       "                var nbb_cell_id = 18;\n",
       "                var nbb_unformatted_code = \"pd.Series(trend).tail(10)\";\n",
       "                var nbb_formatted_code = \"pd.Series(trend).tail(10)\";\n",
       "                var nbb_cells = Jupyter.notebook.get_cells();\n",
       "                for (var i = 0; i < nbb_cells.length; ++i) {\n",
       "                    if (nbb_cells[i].input_prompt_number == nbb_cell_id) {\n",
       "                        if (nbb_cells[i].get_text() == nbb_unformatted_code) {\n",
       "                             nbb_cells[i].set_text(nbb_formatted_code);\n",
       "                        }\n",
       "                        break;\n",
       "                    }\n",
       "                }\n",
       "            }, 500);\n",
       "            "
      ],
      "text/plain": [
       "<IPython.core.display.Javascript object>"
      ]
     },
     "metadata": {},
     "output_type": "display_data"
    }
   ],
   "source": [
    "pd.Series(trend).tail(10)"
   ]
  },
  {
   "cell_type": "code",
   "execution_count": 19,
   "id": "broad-completion",
   "metadata": {},
   "outputs": [
    {
     "data": {
      "text/plain": [
       "490    59.891393\n",
       "491    59.891393\n",
       "492    59.891393\n",
       "493    59.891393\n",
       "494    50.682696\n",
       "495    50.682696\n",
       "496    50.682696\n",
       "497    50.682696\n",
       "498    50.682696\n",
       "499    50.682696\n",
       "dtype: float64"
      ]
     },
     "execution_count": 19,
     "metadata": {},
     "output_type": "execute_result"
    },
    {
     "data": {
      "application/javascript": [
       "\n",
       "            setTimeout(function() {\n",
       "                var nbb_cell_id = 19;\n",
       "                var nbb_unformatted_code = \"FastAtrRsiTL: pd.Series = np.zeros_like(src, dtype=float)\\n# for i in range(len(src)):\\n#     FastAtrRsiTL[i] = longband[i] if trend[i] == 1 else shortband[i]\\nFastAtrRsiTL = np.where(trend == 1, longband, shortband)\\nFastAtrRsiTL = np.nan_to_num(FastAtrRsiTL)\\npd.Series(FastAtrRsiTL).tail(10)\";\n",
       "                var nbb_formatted_code = \"FastAtrRsiTL: pd.Series = np.zeros_like(src, dtype=float)\\n# for i in range(len(src)):\\n#     FastAtrRsiTL[i] = longband[i] if trend[i] == 1 else shortband[i]\\nFastAtrRsiTL = np.where(trend == 1, longband, shortband)\\nFastAtrRsiTL = np.nan_to_num(FastAtrRsiTL)\\npd.Series(FastAtrRsiTL).tail(10)\";\n",
       "                var nbb_cells = Jupyter.notebook.get_cells();\n",
       "                for (var i = 0; i < nbb_cells.length; ++i) {\n",
       "                    if (nbb_cells[i].input_prompt_number == nbb_cell_id) {\n",
       "                        if (nbb_cells[i].get_text() == nbb_unformatted_code) {\n",
       "                             nbb_cells[i].set_text(nbb_formatted_code);\n",
       "                        }\n",
       "                        break;\n",
       "                    }\n",
       "                }\n",
       "            }, 500);\n",
       "            "
      ],
      "text/plain": [
       "<IPython.core.display.Javascript object>"
      ]
     },
     "metadata": {},
     "output_type": "display_data"
    }
   ],
   "source": [
    "FastAtrRsiTL: pd.Series = np.zeros_like(src, dtype=float)\n",
    "# for i in range(len(src)):\n",
    "#     FastAtrRsiTL[i] = longband[i] if trend[i] == 1 else shortband[i]\n",
    "FastAtrRsiTL = np.where(trend == 1, longband, shortband)\n",
    "FastAtrRsiTL = np.nan_to_num(FastAtrRsiTL)\n",
    "pd.Series(FastAtrRsiTL).tail(10)\n"
   ]
  },
  {
   "cell_type": "markdown",
   "id": "allied-talent",
   "metadata": {},
   "source": [
    "It is important to remove nans from the `FastAtrRsiTL` series using `np.nan_to_num()` (similar to TradingView `nz()`), otherwise talib.SMA will return an array of nans."
   ]
  },
  {
   "cell_type": "code",
   "execution_count": 20,
   "id": "recorded-delight",
   "metadata": {},
   "outputs": [
    {
     "data": {
      "application/javascript": [
       "\n",
       "            setTimeout(function() {\n",
       "                var nbb_cell_id = 20;\n",
       "                var nbb_unformatted_code = \"length: int = CONST50  # input(50, minval=1, title=\\\"Bollinger Length\\\")\\nmult: float = (\\n    0.35  # input(0.35, minval=0.001, maxval=5, step=0.1, title=\\\"BB Multiplier\\\")\\n)\\n\\nbasis = tl.SMA(FastAtrRsiTL - CONST50, timeperiod=length)\\ndev = mult * tl.STDDEV(FastAtrRsiTL - CONST50, length)\\n\\nupper = basis + dev\\nlower = basis - dev\\n\\n# color_bar = RsiMa - 50 > upper ? #00c3ff : RsiMa - 50 < lower ? #ff0062 : color.gray\";\n",
       "                var nbb_formatted_code = \"length: int = CONST50  # input(50, minval=1, title=\\\"Bollinger Length\\\")\\nmult: float = (\\n    0.35  # input(0.35, minval=0.001, maxval=5, step=0.1, title=\\\"BB Multiplier\\\")\\n)\\n\\nbasis = tl.SMA(FastAtrRsiTL - CONST50, timeperiod=length)\\ndev = mult * tl.STDDEV(FastAtrRsiTL - CONST50, length)\\n\\nupper = basis + dev\\nlower = basis - dev\\n\\n# color_bar = RsiMa - 50 > upper ? #00c3ff : RsiMa - 50 < lower ? #ff0062 : color.gray\";\n",
       "                var nbb_cells = Jupyter.notebook.get_cells();\n",
       "                for (var i = 0; i < nbb_cells.length; ++i) {\n",
       "                    if (nbb_cells[i].input_prompt_number == nbb_cell_id) {\n",
       "                        if (nbb_cells[i].get_text() == nbb_unformatted_code) {\n",
       "                             nbb_cells[i].set_text(nbb_formatted_code);\n",
       "                        }\n",
       "                        break;\n",
       "                    }\n",
       "                }\n",
       "            }, 500);\n",
       "            "
      ],
      "text/plain": [
       "<IPython.core.display.Javascript object>"
      ]
     },
     "metadata": {},
     "output_type": "display_data"
    }
   ],
   "source": [
    "length: int = CONST50  # input(50, minval=1, title=\"Bollinger Length\")\n",
    "mult: float = (\n",
    "    0.35  # input(0.35, minval=0.001, maxval=5, step=0.1, title=\"BB Multiplier\")\n",
    ")\n",
    "\n",
    "basis = tl.SMA(FastAtrRsiTL - CONST50, timeperiod=length)\n",
    "dev = mult * tl.STDDEV(FastAtrRsiTL - CONST50, length)\n",
    "\n",
    "upper = basis + dev\n",
    "lower = basis - dev\n",
    "\n",
    "# color_bar = RsiMa - 50 > upper ? #00c3ff : RsiMa - 50 < lower ? #ff0062 : color.gray"
   ]
  },
  {
   "cell_type": "code",
   "execution_count": 21,
   "id": "tropical-piano",
   "metadata": {},
   "outputs": [
    {
     "data": {
      "text/plain": [
       "490    5.602947\n",
       "491    5.595749\n",
       "492    5.595968\n",
       "493    5.597032\n",
       "494    5.620215\n",
       "495    5.632615\n",
       "496    5.623805\n",
       "497    5.591731\n",
       "498    5.534689\n",
       "499    5.452986\n",
       "dtype: float64"
      ]
     },
     "execution_count": 21,
     "metadata": {},
     "output_type": "execute_result"
    },
    {
     "data": {
      "application/javascript": [
       "\n",
       "            setTimeout(function() {\n",
       "                var nbb_cell_id = 21;\n",
       "                var nbb_unformatted_code = \"pd.Series(dev).tail(10)\";\n",
       "                var nbb_formatted_code = \"pd.Series(dev).tail(10)\";\n",
       "                var nbb_cells = Jupyter.notebook.get_cells();\n",
       "                for (var i = 0; i < nbb_cells.length; ++i) {\n",
       "                    if (nbb_cells[i].input_prompt_number == nbb_cell_id) {\n",
       "                        if (nbb_cells[i].get_text() == nbb_unformatted_code) {\n",
       "                             nbb_cells[i].set_text(nbb_formatted_code);\n",
       "                        }\n",
       "                        break;\n",
       "                    }\n",
       "                }\n",
       "            }, 500);\n",
       "            "
      ],
      "text/plain": [
       "<IPython.core.display.Javascript object>"
      ]
     },
     "metadata": {},
     "output_type": "display_data"
    }
   ],
   "source": [
    "pd.Series(dev).tail(10)"
   ]
  },
  {
   "cell_type": "code",
   "execution_count": 22,
   "id": "satisfactory-witness",
   "metadata": {},
   "outputs": [
    {
     "data": {
      "application/javascript": [
       "\n",
       "            setTimeout(function() {\n",
       "                var nbb_cell_id = 22;\n",
       "                var nbb_unformatted_code = \"QQEzlong: pd.Series = np.zeros_like(src, dtype=int)\\nQQEzshort: pd.Series = np.zeros_like(src, dtype=int)\\n\\nfor i in range(1, len(src)):\\n    QQEzlong[i] = QQEzlong[i - 1]\\n    QQEzshort[i] = QQEzshort[i - 1]\\n\\n    QQEzlong[i] = QQEzlong[i] + 1 if RSIndex[i] >= CONST50 else 0\\n    QQEzshort[i] = QQEzshort[i] + 1 if RSIndex[i] < CONST50 else 0\\n\\n# Zero = hline(0, color=color.white, linestyle=hline.style_dotted, linewidth=1)\";\n",
       "                var nbb_formatted_code = \"QQEzlong: pd.Series = np.zeros_like(src, dtype=int)\\nQQEzshort: pd.Series = np.zeros_like(src, dtype=int)\\n\\nfor i in range(1, len(src)):\\n    QQEzlong[i] = QQEzlong[i - 1]\\n    QQEzshort[i] = QQEzshort[i - 1]\\n\\n    QQEzlong[i] = QQEzlong[i] + 1 if RSIndex[i] >= CONST50 else 0\\n    QQEzshort[i] = QQEzshort[i] + 1 if RSIndex[i] < CONST50 else 0\\n\\n# Zero = hline(0, color=color.white, linestyle=hline.style_dotted, linewidth=1)\";\n",
       "                var nbb_cells = Jupyter.notebook.get_cells();\n",
       "                for (var i = 0; i < nbb_cells.length; ++i) {\n",
       "                    if (nbb_cells[i].input_prompt_number == nbb_cell_id) {\n",
       "                        if (nbb_cells[i].get_text() == nbb_unformatted_code) {\n",
       "                             nbb_cells[i].set_text(nbb_formatted_code);\n",
       "                        }\n",
       "                        break;\n",
       "                    }\n",
       "                }\n",
       "            }, 500);\n",
       "            "
      ],
      "text/plain": [
       "<IPython.core.display.Javascript object>"
      ]
     },
     "metadata": {},
     "output_type": "display_data"
    }
   ],
   "source": [
    "QQEzlong: pd.Series = np.zeros_like(src, dtype=int)\n",
    "QQEzshort: pd.Series = np.zeros_like(src, dtype=int)\n",
    "\n",
    "for i in range(1, len(src)):\n",
    "    QQEzlong[i] = QQEzlong[i - 1]\n",
    "    QQEzshort[i] = QQEzshort[i - 1]\n",
    "\n",
    "    QQEzlong[i] = QQEzlong[i] + 1 if RSIndex[i] >= CONST50 else 0\n",
    "    QQEzshort[i] = QQEzshort[i] + 1 if RSIndex[i] < CONST50 else 0\n",
    "\n",
    "# Zero = hline(0, color=color.white, linestyle=hline.style_dotted, linewidth=1)"
   ]
  },
  {
   "cell_type": "code",
   "execution_count": 23,
   "id": "marine-lloyd",
   "metadata": {},
   "outputs": [
    {
     "data": {
      "text/plain": [
       "490    1\n",
       "491    0\n",
       "492    0\n",
       "493    0\n",
       "494    0\n",
       "495    0\n",
       "496    0\n",
       "497    0\n",
       "498    0\n",
       "499    0\n",
       "dtype: int64"
      ]
     },
     "execution_count": 23,
     "metadata": {},
     "output_type": "execute_result"
    },
    {
     "data": {
      "application/javascript": [
       "\n",
       "            setTimeout(function() {\n",
       "                var nbb_cell_id = 23;\n",
       "                var nbb_unformatted_code = \"pd.Series(QQEzshort).tail(10)\";\n",
       "                var nbb_formatted_code = \"pd.Series(QQEzshort).tail(10)\";\n",
       "                var nbb_cells = Jupyter.notebook.get_cells();\n",
       "                for (var i = 0; i < nbb_cells.length; ++i) {\n",
       "                    if (nbb_cells[i].input_prompt_number == nbb_cell_id) {\n",
       "                        if (nbb_cells[i].get_text() == nbb_unformatted_code) {\n",
       "                             nbb_cells[i].set_text(nbb_formatted_code);\n",
       "                        }\n",
       "                        break;\n",
       "                    }\n",
       "                }\n",
       "            }, 500);\n",
       "            "
      ],
      "text/plain": [
       "<IPython.core.display.Javascript object>"
      ]
     },
     "metadata": {},
     "output_type": "display_data"
    }
   ],
   "source": [
    "pd.Series(QQEzshort).tail(10)"
   ]
  },
  {
   "cell_type": "code",
   "execution_count": 24,
   "id": "parallel-electric",
   "metadata": {},
   "outputs": [
    {
     "data": {
      "application/javascript": [
       "\n",
       "            setTimeout(function() {\n",
       "                var nbb_cell_id = 24;\n",
       "                var nbb_unformatted_code = \"def qqe_hist(src: pd.Series, RSI_Period: int, SF: int, QQE: float) -> tuple:\\n    Wilders_Period: int = RSI_Period * 2 - 1\\n    Rsi = tl.RSI(src, RSI_Period)\\n    RsiMa = tl.EMA(Rsi, SF)\\n    AtrRsi = np.abs(np.roll(RsiMa.copy(), 1) - RsiMa)\\n    MaAtrRsi = tl.EMA(AtrRsi, Wilders_Period)\\n    dar = tl.EMA(MaAtrRsi, Wilders_Period) * QQE\\n\\n    longband: pd.Series = np.zeros_like(src, dtype=float)\\n    shortband: pd.Series = np.zeros_like(src, dtype=float)\\n    trend: pd.Series = np.zeros_like(src, dtype=int)\\n    FastAtrRsiTL: pd.Series = np.zeros_like(src, dtype=float)\\n\\n    DeltaFastAtrRsi = dar\\n    RSIndex = RsiMa\\n    newshortband = RSIndex + DeltaFastAtrRsi\\n    newlongband = RSIndex - DeltaFastAtrRsi\\n\\n    for i in range(1, len(src)):\\n        if RSIndex[i - 1] > longband[i - 1] and RSIndex[i] > longband[i - 1]:\\n            longband[i] = max(longband[i - 1], newlongband[i])\\n        else:\\n            longband[i] = newlongband[i]\\n\\n        if RSIndex[i - 1] < shortband[i - 1] and RSIndex[i] < shortband[i - 1]:\\n            shortband[i] = min(shortband[i - 1], newshortband[i])\\n        else:\\n            shortband[i] = newshortband[i]\\n\\n    cross_1 = cross(np.roll(longband.copy(), 1), RSIndex)\\n    cross_2 = cross(RSIndex, np.roll(shortband.copy(), 1))\\n\\n    for i in range(1, len(src)):\\n        trend[i] = (\\n            1\\n            if cross_2[i]\\n            else -1\\n            if cross_1[i]\\n            else 1\\n            if np.isnan(trend[i - 1])\\n            else trend[i - 1]\\n        )\\n\\n    FastAtrRsiTL = np.where(trend == 1, longband, shortband)\\n\\n    FastAtrRsiTL = np.nan_to_num(FastAtrRsiTL)\\n\\n    return FastAtrRsiTL, RsiMa\";\n",
       "                var nbb_formatted_code = \"def qqe_hist(src: pd.Series, RSI_Period: int, SF: int, QQE: float) -> tuple:\\n    Wilders_Period: int = RSI_Period * 2 - 1\\n    Rsi = tl.RSI(src, RSI_Period)\\n    RsiMa = tl.EMA(Rsi, SF)\\n    AtrRsi = np.abs(np.roll(RsiMa.copy(), 1) - RsiMa)\\n    MaAtrRsi = tl.EMA(AtrRsi, Wilders_Period)\\n    dar = tl.EMA(MaAtrRsi, Wilders_Period) * QQE\\n\\n    longband: pd.Series = np.zeros_like(src, dtype=float)\\n    shortband: pd.Series = np.zeros_like(src, dtype=float)\\n    trend: pd.Series = np.zeros_like(src, dtype=int)\\n    FastAtrRsiTL: pd.Series = np.zeros_like(src, dtype=float)\\n\\n    DeltaFastAtrRsi = dar\\n    RSIndex = RsiMa\\n    newshortband = RSIndex + DeltaFastAtrRsi\\n    newlongband = RSIndex - DeltaFastAtrRsi\\n\\n    for i in range(1, len(src)):\\n        if RSIndex[i - 1] > longband[i - 1] and RSIndex[i] > longband[i - 1]:\\n            longband[i] = max(longband[i - 1], newlongband[i])\\n        else:\\n            longband[i] = newlongband[i]\\n\\n        if RSIndex[i - 1] < shortband[i - 1] and RSIndex[i] < shortband[i - 1]:\\n            shortband[i] = min(shortband[i - 1], newshortband[i])\\n        else:\\n            shortband[i] = newshortband[i]\\n\\n    cross_1 = cross(np.roll(longband.copy(), 1), RSIndex)\\n    cross_2 = cross(RSIndex, np.roll(shortband.copy(), 1))\\n\\n    for i in range(1, len(src)):\\n        trend[i] = (\\n            1\\n            if cross_2[i]\\n            else -1\\n            if cross_1[i]\\n            else 1\\n            if np.isnan(trend[i - 1])\\n            else trend[i - 1]\\n        )\\n\\n    FastAtrRsiTL = np.where(trend == 1, longband, shortband)\\n\\n    FastAtrRsiTL = np.nan_to_num(FastAtrRsiTL)\\n\\n    return FastAtrRsiTL, RsiMa\";\n",
       "                var nbb_cells = Jupyter.notebook.get_cells();\n",
       "                for (var i = 0; i < nbb_cells.length; ++i) {\n",
       "                    if (nbb_cells[i].input_prompt_number == nbb_cell_id) {\n",
       "                        if (nbb_cells[i].get_text() == nbb_unformatted_code) {\n",
       "                             nbb_cells[i].set_text(nbb_formatted_code);\n",
       "                        }\n",
       "                        break;\n",
       "                    }\n",
       "                }\n",
       "            }, 500);\n",
       "            "
      ],
      "text/plain": [
       "<IPython.core.display.Javascript object>"
      ]
     },
     "metadata": {},
     "output_type": "display_data"
    }
   ],
   "source": [
    "def qqe_hist(src: pd.Series, RSI_Period: int, SF: int, QQE: float) -> tuple:\n",
    "    Wilders_Period: int = RSI_Period * 2 - 1\n",
    "    Rsi = tl.RSI(src, RSI_Period)\n",
    "    RsiMa = tl.EMA(Rsi, SF)\n",
    "    AtrRsi = np.abs(np.roll(RsiMa.copy(), 1) - RsiMa)\n",
    "    MaAtrRsi = tl.EMA(AtrRsi, Wilders_Period)\n",
    "    dar = tl.EMA(MaAtrRsi, Wilders_Period) * QQE\n",
    "\n",
    "    longband: pd.Series = np.zeros_like(src, dtype=float)\n",
    "    shortband: pd.Series = np.zeros_like(src, dtype=float)\n",
    "    trend: pd.Series = np.zeros_like(src, dtype=int)\n",
    "    FastAtrRsiTL: pd.Series = np.zeros_like(src, dtype=float)\n",
    "\n",
    "    DeltaFastAtrRsi = dar\n",
    "    RSIndex = RsiMa\n",
    "    newshortband = RSIndex + DeltaFastAtrRsi\n",
    "    newlongband = RSIndex - DeltaFastAtrRsi\n",
    "\n",
    "    for i in range(1, len(src)):\n",
    "        if RSIndex[i - 1] > longband[i - 1] and RSIndex[i] > longband[i - 1]:\n",
    "            longband[i] = max(longband[i - 1], newlongband[i])\n",
    "        else:\n",
    "            longband[i] = newlongband[i]\n",
    "\n",
    "        if RSIndex[i - 1] < shortband[i - 1] and RSIndex[i] < shortband[i - 1]:\n",
    "            shortband[i] = min(shortband[i - 1], newshortband[i])\n",
    "        else:\n",
    "            shortband[i] = newshortband[i]\n",
    "\n",
    "    cross_1 = cross(np.roll(longband.copy(), 1), RSIndex)\n",
    "    cross_2 = cross(RSIndex, np.roll(shortband.copy(), 1))\n",
    "\n",
    "    for i in range(1, len(src)):\n",
    "        trend[i] = (\n",
    "            1\n",
    "            if cross_2[i]\n",
    "            else -1\n",
    "            if cross_1[i]\n",
    "            else 1\n",
    "            if np.isnan(trend[i - 1])\n",
    "            else trend[i - 1]\n",
    "        )\n",
    "\n",
    "    FastAtrRsiTL = np.where(trend == 1, longband, shortband)\n",
    "\n",
    "    FastAtrRsiTL = np.nan_to_num(FastAtrRsiTL)\n",
    "\n",
    "    return FastAtrRsiTL, RsiMa"
   ]
  },
  {
   "cell_type": "code",
   "execution_count": 25,
   "id": "ready-conspiracy",
   "metadata": {},
   "outputs": [
    {
     "data": {
      "application/javascript": [
       "\n",
       "            setTimeout(function() {\n",
       "                var nbb_cell_id = 25;\n",
       "                var nbb_unformatted_code = \"FastAtrRsi2TL, RsiMa2 = qqe_hist(src2, RSI_Period2, SF2, QQE2)\";\n",
       "                var nbb_formatted_code = \"FastAtrRsi2TL, RsiMa2 = qqe_hist(src2, RSI_Period2, SF2, QQE2)\";\n",
       "                var nbb_cells = Jupyter.notebook.get_cells();\n",
       "                for (var i = 0; i < nbb_cells.length; ++i) {\n",
       "                    if (nbb_cells[i].input_prompt_number == nbb_cell_id) {\n",
       "                        if (nbb_cells[i].get_text() == nbb_unformatted_code) {\n",
       "                             nbb_cells[i].set_text(nbb_formatted_code);\n",
       "                        }\n",
       "                        break;\n",
       "                    }\n",
       "                }\n",
       "            }, 500);\n",
       "            "
      ],
      "text/plain": [
       "<IPython.core.display.Javascript object>"
      ]
     },
     "metadata": {},
     "output_type": "display_data"
    }
   ],
   "source": [
    "FastAtrRsi2TL, RsiMa2 = qqe_hist(src2, RSI_Period2, SF2, QQE2)"
   ]
  },
  {
   "cell_type": "code",
   "execution_count": 26,
   "id": "electric-guarantee",
   "metadata": {},
   "outputs": [
    {
     "data": {
      "text/html": [
       "<div>\n",
       "<style scoped>\n",
       "    .dataframe tbody tr th:only-of-type {\n",
       "        vertical-align: middle;\n",
       "    }\n",
       "\n",
       "    .dataframe tbody tr th {\n",
       "        vertical-align: top;\n",
       "    }\n",
       "\n",
       "    .dataframe thead th {\n",
       "        text-align: right;\n",
       "    }\n",
       "</style>\n",
       "<table border=\"1\" class=\"dataframe\">\n",
       "  <thead>\n",
       "    <tr style=\"text-align: right;\">\n",
       "      <th></th>\n",
       "      <th>FastAtrRsiTL</th>\n",
       "      <th>FastAtrRsi2TL</th>\n",
       "      <th>RsiMa</th>\n",
       "      <th>RsiMa2</th>\n",
       "    </tr>\n",
       "  </thead>\n",
       "  <tbody>\n",
       "    <tr>\n",
       "      <th>480</th>\n",
       "      <td>39.920056</td>\n",
       "      <td>35.000825</td>\n",
       "      <td>38.780655</td>\n",
       "      <td>38.780655</td>\n",
       "    </tr>\n",
       "    <tr>\n",
       "      <th>481</th>\n",
       "      <td>39.920056</td>\n",
       "      <td>35.316755</td>\n",
       "      <td>39.470456</td>\n",
       "      <td>39.470456</td>\n",
       "    </tr>\n",
       "    <tr>\n",
       "      <th>482</th>\n",
       "      <td>39.829865</td>\n",
       "      <td>43.536048</td>\n",
       "      <td>47.828821</td>\n",
       "      <td>47.828821</td>\n",
       "    </tr>\n",
       "    <tr>\n",
       "      <th>483</th>\n",
       "      <td>46.691266</td>\n",
       "      <td>50.665111</td>\n",
       "      <td>55.267911</td>\n",
       "      <td>55.267911</td>\n",
       "    </tr>\n",
       "    <tr>\n",
       "      <th>484</th>\n",
       "      <td>51.953371</td>\n",
       "      <td>56.231219</td>\n",
       "      <td>61.186135</td>\n",
       "      <td>61.186135</td>\n",
       "    </tr>\n",
       "    <tr>\n",
       "      <th>485</th>\n",
       "      <td>56.051021</td>\n",
       "      <td>60.602139</td>\n",
       "      <td>65.873577</td>\n",
       "      <td>65.873577</td>\n",
       "    </tr>\n",
       "    <tr>\n",
       "      <th>486</th>\n",
       "      <td>56.051021</td>\n",
       "      <td>60.602139</td>\n",
       "      <td>62.254412</td>\n",
       "      <td>62.254412</td>\n",
       "    </tr>\n",
       "    <tr>\n",
       "      <th>487</th>\n",
       "      <td>66.222177</td>\n",
       "      <td>61.193105</td>\n",
       "      <td>55.368064</td>\n",
       "      <td>55.368064</td>\n",
       "    </tr>\n",
       "    <tr>\n",
       "      <th>488</th>\n",
       "      <td>62.707393</td>\n",
       "      <td>57.474440</td>\n",
       "      <td>51.413249</td>\n",
       "      <td>51.413249</td>\n",
       "    </tr>\n",
       "    <tr>\n",
       "      <th>489</th>\n",
       "      <td>62.099211</td>\n",
       "      <td>56.844759</td>\n",
       "      <td>50.758667</td>\n",
       "      <td>50.758667</td>\n",
       "    </tr>\n",
       "    <tr>\n",
       "      <th>490</th>\n",
       "      <td>59.891393</td>\n",
       "      <td>54.686885</td>\n",
       "      <td>48.658641</td>\n",
       "      <td>48.658641</td>\n",
       "    </tr>\n",
       "    <tr>\n",
       "      <th>491</th>\n",
       "      <td>59.891393</td>\n",
       "      <td>54.686885</td>\n",
       "      <td>51.048201</td>\n",
       "      <td>51.048201</td>\n",
       "    </tr>\n",
       "    <tr>\n",
       "      <th>492</th>\n",
       "      <td>59.891393</td>\n",
       "      <td>50.030509</td>\n",
       "      <td>55.942246</td>\n",
       "      <td>55.942246</td>\n",
       "    </tr>\n",
       "    <tr>\n",
       "      <th>493</th>\n",
       "      <td>59.891393</td>\n",
       "      <td>52.774116</td>\n",
       "      <td>58.630945</td>\n",
       "      <td>58.630945</td>\n",
       "    </tr>\n",
       "    <tr>\n",
       "      <th>494</th>\n",
       "      <td>50.682696</td>\n",
       "      <td>55.674966</td>\n",
       "      <td>61.457379</td>\n",
       "      <td>61.457379</td>\n",
       "    </tr>\n",
       "    <tr>\n",
       "      <th>495</th>\n",
       "      <td>50.682696</td>\n",
       "      <td>55.674966</td>\n",
       "      <td>60.933153</td>\n",
       "      <td>60.933153</td>\n",
       "    </tr>\n",
       "    <tr>\n",
       "      <th>496</th>\n",
       "      <td>50.682696</td>\n",
       "      <td>55.674966</td>\n",
       "      <td>59.211256</td>\n",
       "      <td>59.211256</td>\n",
       "    </tr>\n",
       "    <tr>\n",
       "      <th>497</th>\n",
       "      <td>50.682696</td>\n",
       "      <td>55.674966</td>\n",
       "      <td>57.326872</td>\n",
       "      <td>57.326872</td>\n",
       "    </tr>\n",
       "    <tr>\n",
       "      <th>498</th>\n",
       "      <td>50.682696</td>\n",
       "      <td>55.674966</td>\n",
       "      <td>59.506360</td>\n",
       "      <td>59.506360</td>\n",
       "    </tr>\n",
       "    <tr>\n",
       "      <th>499</th>\n",
       "      <td>50.682696</td>\n",
       "      <td>55.674966</td>\n",
       "      <td>57.749489</td>\n",
       "      <td>57.749489</td>\n",
       "    </tr>\n",
       "  </tbody>\n",
       "</table>\n",
       "</div>"
      ],
      "text/plain": [
       "     FastAtrRsiTL  FastAtrRsi2TL      RsiMa     RsiMa2\n",
       "480     39.920056      35.000825  38.780655  38.780655\n",
       "481     39.920056      35.316755  39.470456  39.470456\n",
       "482     39.829865      43.536048  47.828821  47.828821\n",
       "483     46.691266      50.665111  55.267911  55.267911\n",
       "484     51.953371      56.231219  61.186135  61.186135\n",
       "485     56.051021      60.602139  65.873577  65.873577\n",
       "486     56.051021      60.602139  62.254412  62.254412\n",
       "487     66.222177      61.193105  55.368064  55.368064\n",
       "488     62.707393      57.474440  51.413249  51.413249\n",
       "489     62.099211      56.844759  50.758667  50.758667\n",
       "490     59.891393      54.686885  48.658641  48.658641\n",
       "491     59.891393      54.686885  51.048201  51.048201\n",
       "492     59.891393      50.030509  55.942246  55.942246\n",
       "493     59.891393      52.774116  58.630945  58.630945\n",
       "494     50.682696      55.674966  61.457379  61.457379\n",
       "495     50.682696      55.674966  60.933153  60.933153\n",
       "496     50.682696      55.674966  59.211256  59.211256\n",
       "497     50.682696      55.674966  57.326872  57.326872\n",
       "498     50.682696      55.674966  59.506360  59.506360\n",
       "499     50.682696      55.674966  57.749489  57.749489"
      ]
     },
     "execution_count": 26,
     "metadata": {},
     "output_type": "execute_result"
    },
    {
     "data": {
      "application/javascript": [
       "\n",
       "            setTimeout(function() {\n",
       "                var nbb_cell_id = 26;\n",
       "                var nbb_unformatted_code = \"res = pd.DataFrame(\\n    {\\n        \\\"FastAtrRsiTL\\\": FastAtrRsiTL,\\n        \\\"FastAtrRsi2TL\\\": FastAtrRsi2TL,\\n        \\\"RsiMa\\\": RsiMa,\\n        \\\"RsiMa2\\\": RsiMa2,\\n    }\\n)\\nres.tail(20)\";\n",
       "                var nbb_formatted_code = \"res = pd.DataFrame(\\n    {\\n        \\\"FastAtrRsiTL\\\": FastAtrRsiTL,\\n        \\\"FastAtrRsi2TL\\\": FastAtrRsi2TL,\\n        \\\"RsiMa\\\": RsiMa,\\n        \\\"RsiMa2\\\": RsiMa2,\\n    }\\n)\\nres.tail(20)\";\n",
       "                var nbb_cells = Jupyter.notebook.get_cells();\n",
       "                for (var i = 0; i < nbb_cells.length; ++i) {\n",
       "                    if (nbb_cells[i].input_prompt_number == nbb_cell_id) {\n",
       "                        if (nbb_cells[i].get_text() == nbb_unformatted_code) {\n",
       "                             nbb_cells[i].set_text(nbb_formatted_code);\n",
       "                        }\n",
       "                        break;\n",
       "                    }\n",
       "                }\n",
       "            }, 500);\n",
       "            "
      ],
      "text/plain": [
       "<IPython.core.display.Javascript object>"
      ]
     },
     "metadata": {},
     "output_type": "display_data"
    }
   ],
   "source": [
    "res = pd.DataFrame(\n",
    "    {\n",
    "        \"FastAtrRsiTL\": FastAtrRsiTL,\n",
    "        \"FastAtrRsi2TL\": FastAtrRsi2TL,\n",
    "        \"RsiMa\": RsiMa,\n",
    "        \"RsiMa2\": RsiMa2,\n",
    "    }\n",
    ")\n",
    "res.tail(20)"
   ]
  },
  {
   "cell_type": "code",
   "execution_count": 27,
   "id": "weird-refund",
   "metadata": {},
   "outputs": [
    {
     "data": {
      "application/javascript": [
       "\n",
       "            setTimeout(function() {\n",
       "                var nbb_cell_id = 27;\n",
       "                var nbb_unformatted_code = \"def bollinger_uplower(\\n    FastAtrRsiTL: np.ndarray, length: int, mult: float, CONST50: int\\n) -> tuple:\\n    basis = tl.SMA(FastAtrRsiTL - CONST50, timeperiod=length)\\n    dev = mult * tl.STDDEV(FastAtrRsiTL - CONST50, length)\\n\\n    upper = basis + dev\\n    lower = basis - dev\\n    return upper, lower\";\n",
       "                var nbb_formatted_code = \"def bollinger_uplower(\\n    FastAtrRsiTL: np.ndarray, length: int, mult: float, CONST50: int\\n) -> tuple:\\n    basis = tl.SMA(FastAtrRsiTL - CONST50, timeperiod=length)\\n    dev = mult * tl.STDDEV(FastAtrRsiTL - CONST50, length)\\n\\n    upper = basis + dev\\n    lower = basis - dev\\n    return upper, lower\";\n",
       "                var nbb_cells = Jupyter.notebook.get_cells();\n",
       "                for (var i = 0; i < nbb_cells.length; ++i) {\n",
       "                    if (nbb_cells[i].input_prompt_number == nbb_cell_id) {\n",
       "                        if (nbb_cells[i].get_text() == nbb_unformatted_code) {\n",
       "                             nbb_cells[i].set_text(nbb_formatted_code);\n",
       "                        }\n",
       "                        break;\n",
       "                    }\n",
       "                }\n",
       "            }, 500);\n",
       "            "
      ],
      "text/plain": [
       "<IPython.core.display.Javascript object>"
      ]
     },
     "metadata": {},
     "output_type": "display_data"
    }
   ],
   "source": [
    "def bollinger_uplower(\n",
    "    FastAtrRsiTL: np.ndarray, length: int, mult: float, CONST50: int\n",
    ") -> tuple:\n",
    "    basis = tl.SMA(FastAtrRsiTL - CONST50, timeperiod=length)\n",
    "    dev = mult * tl.STDDEV(FastAtrRsiTL - CONST50, length)\n",
    "\n",
    "    upper = basis + dev\n",
    "    lower = basis - dev\n",
    "    return upper, lower"
   ]
  },
  {
   "cell_type": "code",
   "execution_count": 28,
   "id": "essential-perspective",
   "metadata": {},
   "outputs": [
    {
     "data": {
      "application/javascript": [
       "\n",
       "            setTimeout(function() {\n",
       "                var nbb_cell_id = 28;\n",
       "                var nbb_unformatted_code = \"upper, lower = bollinger_uplower(FastAtrRsiTL, length, mult, CONST50)\";\n",
       "                var nbb_formatted_code = \"upper, lower = bollinger_uplower(FastAtrRsiTL, length, mult, CONST50)\";\n",
       "                var nbb_cells = Jupyter.notebook.get_cells();\n",
       "                for (var i = 0; i < nbb_cells.length; ++i) {\n",
       "                    if (nbb_cells[i].input_prompt_number == nbb_cell_id) {\n",
       "                        if (nbb_cells[i].get_text() == nbb_unformatted_code) {\n",
       "                             nbb_cells[i].set_text(nbb_formatted_code);\n",
       "                        }\n",
       "                        break;\n",
       "                    }\n",
       "                }\n",
       "            }, 500);\n",
       "            "
      ],
      "text/plain": [
       "<IPython.core.display.Javascript object>"
      ]
     },
     "metadata": {},
     "output_type": "display_data"
    }
   ],
   "source": [
    "upper, lower = bollinger_uplower(FastAtrRsiTL, length, mult, CONST50)"
   ]
  },
  {
   "cell_type": "code",
   "execution_count": 29,
   "id": "verified-youth",
   "metadata": {},
   "outputs": [
    {
     "data": {
      "application/javascript": [
       "\n",
       "            setTimeout(function() {\n",
       "                var nbb_cell_id = 29;\n",
       "                var nbb_unformatted_code = \"def zero_cross(src: pd.Series, RSIndex: np.ndarray, CONST50: int) -> tuple:\\n    QQEzlong: np.ndarray = np.zeros_like(src, dtype=int)\\n    QQEzshort: np.ndarray = np.zeros_like(src, dtype=int)\\n\\n    for i in range(1, len(src)):\\n        QQEzlong[i] = QQEzlong[i - 1]\\n        QQEzshort[i] = QQEzshort[i - 1]\\n\\n        QQEzlong[i] = QQEzlong[i] + 1 if RSIndex[i] >= CONST50 else 0\\n        QQEzshort[i] = QQEzshort[i] + 1 if RSIndex[i] < CONST50 else 0\\n    return QQEzlong, QQEzshort\";\n",
       "                var nbb_formatted_code = \"def zero_cross(src: pd.Series, RSIndex: np.ndarray, CONST50: int) -> tuple:\\n    QQEzlong: np.ndarray = np.zeros_like(src, dtype=int)\\n    QQEzshort: np.ndarray = np.zeros_like(src, dtype=int)\\n\\n    for i in range(1, len(src)):\\n        QQEzlong[i] = QQEzlong[i - 1]\\n        QQEzshort[i] = QQEzshort[i - 1]\\n\\n        QQEzlong[i] = QQEzlong[i] + 1 if RSIndex[i] >= CONST50 else 0\\n        QQEzshort[i] = QQEzshort[i] + 1 if RSIndex[i] < CONST50 else 0\\n    return QQEzlong, QQEzshort\";\n",
       "                var nbb_cells = Jupyter.notebook.get_cells();\n",
       "                for (var i = 0; i < nbb_cells.length; ++i) {\n",
       "                    if (nbb_cells[i].input_prompt_number == nbb_cell_id) {\n",
       "                        if (nbb_cells[i].get_text() == nbb_unformatted_code) {\n",
       "                             nbb_cells[i].set_text(nbb_formatted_code);\n",
       "                        }\n",
       "                        break;\n",
       "                    }\n",
       "                }\n",
       "            }, 500);\n",
       "            "
      ],
      "text/plain": [
       "<IPython.core.display.Javascript object>"
      ]
     },
     "metadata": {},
     "output_type": "display_data"
    }
   ],
   "source": [
    "def zero_cross(src: pd.Series, RSIndex: np.ndarray, CONST50: int) -> tuple:\n",
    "    QQEzlong: np.ndarray = np.zeros_like(src, dtype=int)\n",
    "    QQEzshort: np.ndarray = np.zeros_like(src, dtype=int)\n",
    "\n",
    "    for i in range(1, len(src)):\n",
    "        QQEzlong[i] = QQEzlong[i - 1]\n",
    "        QQEzshort[i] = QQEzshort[i - 1]\n",
    "\n",
    "        QQEzlong[i] = QQEzlong[i] + 1 if RSIndex[i] >= CONST50 else 0\n",
    "        QQEzshort[i] = QQEzshort[i] + 1 if RSIndex[i] < CONST50 else 0\n",
    "    return QQEzlong, QQEzshort"
   ]
  },
  {
   "cell_type": "code",
   "execution_count": 30,
   "id": "stuffed-lecture",
   "metadata": {},
   "outputs": [
    {
     "data": {
      "text/plain": [
       "490     True\n",
       "491     True\n",
       "492     True\n",
       "493    False\n",
       "494    False\n",
       "495    False\n",
       "496    False\n",
       "497    False\n",
       "498    False\n",
       "499    False\n",
       "dtype: bool"
      ]
     },
     "execution_count": 30,
     "metadata": {},
     "output_type": "execute_result"
    },
    {
     "data": {
      "application/javascript": [
       "\n",
       "            setTimeout(function() {\n",
       "                var nbb_cell_id = 30;\n",
       "                var nbb_unformatted_code = \"Greenbar1: np.ndarray = RsiMa2 - CONST50 > ThreshHold2\\nGreenbar2: np.ndarray = RsiMa - CONST50 > upper\\n\\nRedbar1: np.ndarray = RsiMa2 - CONST50 < 0 - ThreshHold2\\nRedbar2: np.ndarray = RsiMa - CONST50 < lower\\n\\npd.Series(Redbar2).tail(10)\";\n",
       "                var nbb_formatted_code = \"Greenbar1: np.ndarray = RsiMa2 - CONST50 > ThreshHold2\\nGreenbar2: np.ndarray = RsiMa - CONST50 > upper\\n\\nRedbar1: np.ndarray = RsiMa2 - CONST50 < 0 - ThreshHold2\\nRedbar2: np.ndarray = RsiMa - CONST50 < lower\\n\\npd.Series(Redbar2).tail(10)\";\n",
       "                var nbb_cells = Jupyter.notebook.get_cells();\n",
       "                for (var i = 0; i < nbb_cells.length; ++i) {\n",
       "                    if (nbb_cells[i].input_prompt_number == nbb_cell_id) {\n",
       "                        if (nbb_cells[i].get_text() == nbb_unformatted_code) {\n",
       "                             nbb_cells[i].set_text(nbb_formatted_code);\n",
       "                        }\n",
       "                        break;\n",
       "                    }\n",
       "                }\n",
       "            }, 500);\n",
       "            "
      ],
      "text/plain": [
       "<IPython.core.display.Javascript object>"
      ]
     },
     "metadata": {},
     "output_type": "display_data"
    }
   ],
   "source": [
    "Greenbar1: np.ndarray = RsiMa2 - CONST50 > ThreshHold2\n",
    "Greenbar2: np.ndarray = RsiMa - CONST50 > upper\n",
    "\n",
    "Redbar1: np.ndarray = RsiMa2 - CONST50 < 0 - ThreshHold2\n",
    "Redbar2: np.ndarray = RsiMa - CONST50 < lower\n",
    "\n",
    "pd.Series(Redbar2).tail(10)"
   ]
  },
  {
   "cell_type": "code",
   "execution_count": 31,
   "id": "collaborative-sherman",
   "metadata": {},
   "outputs": [
    {
     "data": {
      "text/plain": [
       "490    False\n",
       "491    False\n",
       "492    False\n",
       "493    False\n",
       "494    False\n",
       "495    False\n",
       "496    False\n",
       "497    False\n",
       "498    False\n",
       "499    False\n",
       "dtype: bool"
      ]
     },
     "execution_count": 31,
     "metadata": {},
     "output_type": "execute_result"
    },
    {
     "data": {
      "application/javascript": [
       "\n",
       "            setTimeout(function() {\n",
       "                var nbb_cell_id = 31;\n",
       "                var nbb_unformatted_code = \"qqe_up_cond = Greenbar1 & Greenbar2\\nqqe_down_cond = Redbar1 & Redbar2\\n\\npd.Series(qqe_down_cond).tail(10)\";\n",
       "                var nbb_formatted_code = \"qqe_up_cond = Greenbar1 & Greenbar2\\nqqe_down_cond = Redbar1 & Redbar2\\n\\npd.Series(qqe_down_cond).tail(10)\";\n",
       "                var nbb_cells = Jupyter.notebook.get_cells();\n",
       "                for (var i = 0; i < nbb_cells.length; ++i) {\n",
       "                    if (nbb_cells[i].input_prompt_number == nbb_cell_id) {\n",
       "                        if (nbb_cells[i].get_text() == nbb_unformatted_code) {\n",
       "                             nbb_cells[i].set_text(nbb_formatted_code);\n",
       "                        }\n",
       "                        break;\n",
       "                    }\n",
       "                }\n",
       "            }, 500);\n",
       "            "
      ],
      "text/plain": [
       "<IPython.core.display.Javascript object>"
      ]
     },
     "metadata": {},
     "output_type": "display_data"
    }
   ],
   "source": [
    "qqe_up_cond = Greenbar1 & Greenbar2\n",
    "qqe_down_cond = Redbar1 & Redbar2\n",
    "\n",
    "pd.Series(qqe_down_cond).tail(10)"
   ]
  },
  {
   "cell_type": "code",
   "execution_count": 32,
   "id": "disturbed-acceptance",
   "metadata": {},
   "outputs": [
    {
     "data": {
      "text/plain": [
       "array([         nan,          nan,          nan,          nan,\n",
       "                nan,          nan,          nan,          nan,\n",
       "                nan,          nan,          nan,          nan,\n",
       "                nan,          nan,          nan,          nan,\n",
       "                nan,          nan,          nan,          nan,\n",
       "                nan,          nan,          nan,          nan,\n",
       "                nan,          nan,          nan,          nan,\n",
       "                nan,          nan,          nan,          nan,\n",
       "                nan,          nan,          nan,          nan,\n",
       "                nan,          nan,          nan,          nan,\n",
       "                nan,          nan,          nan,          nan,\n",
       "                nan,          nan,          nan,          nan,\n",
       "                nan,          nan,          nan,          nan,\n",
       "                nan,          nan,          nan,          nan,\n",
       "                nan,          nan,          nan,          nan,\n",
       "                nan,          nan,          nan,          nan,\n",
       "                nan,          nan,          nan,          nan,\n",
       "                nan,          nan,          nan,          nan,\n",
       "                nan,          nan,          nan,          nan,\n",
       "                nan,          nan,          nan,          nan,\n",
       "                nan,          nan,          nan,          nan,\n",
       "                nan,          nan,          nan,          nan,\n",
       "                nan,          nan,          nan,          nan,\n",
       "                nan,          nan,          nan,          nan,\n",
       "                nan,          nan,          nan,          nan,\n",
       "                nan,          nan,          nan,          nan,\n",
       "                nan,          nan,          nan,          nan,\n",
       "                nan,          nan,          nan,          nan,\n",
       "                nan,          nan,          nan,          nan,\n",
       "                nan,          nan,          nan,          nan,\n",
       "                nan,  -9.10028452, -11.91721809, -10.44678862,\n",
       "        -8.07102417,  -6.0735814 ,          nan,          nan,\n",
       "        -3.52503898,  -7.62516602, -12.61160033, -17.48068581,\n",
       "       -18.17852759, -20.27669212, -22.64641941, -25.89189246,\n",
       "       -30.76985402, -31.12459154, -31.98667576, -29.03545507,\n",
       "       -27.89017949, -20.32278143, -12.85534676,  -3.78171905,\n",
       "                nan,          nan,          nan,          nan,\n",
       "                nan,          nan,          nan,          nan,\n",
       "                nan,          nan,          nan,          nan,\n",
       "                nan,          nan,          nan,          nan,\n",
       "                nan,  -8.4987355 , -11.89934822, -18.19771946,\n",
       "       -21.07712728, -21.91505791, -20.04660647, -16.95120551,\n",
       "       -18.21689431, -19.71446323, -16.48653171, -10.09235627,\n",
       "                nan, -13.08270943, -11.20270039, -14.70965376,\n",
       "       -19.16613724, -23.55018428, -27.06268026, -26.87480302,\n",
       "       -27.62240257, -25.01046231, -24.8526117 , -25.11708162,\n",
       "       -24.38586093, -24.27205079, -20.27653371, -13.06054949,\n",
       "                nan,          nan,          nan,          nan,\n",
       "                nan, -10.94621788, -15.60318466, -17.29890426,\n",
       "       -17.17094973, -20.22161184, -21.18247839, -19.58335809,\n",
       "       -19.50345896, -21.53620491, -26.33635576, -30.50123362,\n",
       "       -27.78071206, -27.09390288, -20.91159238,          nan,\n",
       "       -15.58271213, -18.36240605, -21.0265206 , -21.71169151,\n",
       "                nan,          nan,          nan,          nan,\n",
       "                nan,          nan,          nan,          nan,\n",
       "                nan,          nan,          nan,          nan,\n",
       "                nan,          nan,          nan,          nan,\n",
       "                nan,          nan,          nan,          nan,\n",
       "                nan,          nan,          nan,          nan,\n",
       "                nan,          nan,          nan,          nan,\n",
       "                nan,          nan,          nan,          nan,\n",
       "                nan,          nan,          nan,          nan,\n",
       "                nan,          nan,  -6.49293059, -12.20328241,\n",
       "       -16.40390448, -21.33682094, -29.41045989, -35.3921957 ,\n",
       "       -39.40234761, -37.19961873, -34.02548563, -32.58793046,\n",
       "       -27.74405652, -25.65074663, -20.48365883, -16.93367537,\n",
       "       -12.63765264,  -8.15060581,          nan,          nan,\n",
       "                nan,          nan,          nan,          nan,\n",
       "                nan,          nan,          nan,          nan,\n",
       "                nan,          nan,          nan,          nan,\n",
       "                nan,          nan,          nan,          nan,\n",
       "                nan,          nan,          nan,          nan,\n",
       "                nan,          nan,          nan,          nan,\n",
       "                nan,          nan,          nan,          nan,\n",
       "       -10.14641906, -10.36135765, -15.2850977 , -18.32567377,\n",
       "       -21.23888572, -24.6449047 , -17.62626971, -17.22253947,\n",
       "                nan,          nan,          nan,          nan,\n",
       "                nan,          nan,          nan,          nan,\n",
       "                nan,  -6.02067465,          nan,  -3.69462746,\n",
       "                nan,          nan,          nan,          nan,\n",
       "                nan,          nan,          nan,          nan,\n",
       "                nan,          nan,          nan,          nan,\n",
       "                nan,          nan,          nan,          nan,\n",
       "                nan,  -7.99564649, -11.65048514, -13.52368475,\n",
       "       -17.9003579 , -20.81814001, -19.80576309, -19.3555426 ,\n",
       "       -10.70235224,          nan,          nan,          nan,\n",
       "                nan,          nan,          nan,          nan,\n",
       "                nan,          nan,          nan,          nan,\n",
       "                nan,          nan,          nan,          nan,\n",
       "                nan,  -6.35576688,  -9.44992728,  -8.28189693,\n",
       "        -9.36261517,  -7.12085735,  -9.83941883, -14.14457976,\n",
       "       -11.39641625,  -8.6272498 ,  -8.07911824, -10.09572952,\n",
       "        -9.8007659 ,          nan,          nan,          nan,\n",
       "                nan,          nan,          nan,          nan,\n",
       "                nan,          nan,          nan,          nan,\n",
       "        -3.23998085,          nan,          nan,  -3.63985601,\n",
       "        -4.54258416,          nan,  -5.00456407,  -9.75709847,\n",
       "       -13.02996324, -11.61435025,  -7.25705456,  -6.55785109,\n",
       "                nan,          nan,          nan,          nan,\n",
       "                nan,          nan,          nan,          nan,\n",
       "                nan,          nan,          nan,  -8.18285921,\n",
       "       -12.52292052, -10.61449022, -11.17320098, -15.87587263,\n",
       "       -21.581382  , -19.60285318, -18.05751722, -18.64967238,\n",
       "       -13.22366893, -10.79304487,  -8.26360921,  -9.06949433,\n",
       "       -10.16205831, -13.01158583,  -9.34436307, -10.05385903,\n",
       "        -7.88689359, -12.44872713, -11.44129006, -16.23816308,\n",
       "       -22.12636082, -26.97142818, -22.86183351, -24.14257144,\n",
       "       -20.49327294, -20.76874781, -18.21088059, -20.0314052 ,\n",
       "       -18.79507985, -16.76295907,          nan,          nan,\n",
       "                nan,          nan,          nan,          nan,\n",
       "                nan,          nan,          nan,          nan,\n",
       "                nan,          nan,          nan,          nan,\n",
       "                nan,          nan,          nan,          nan,\n",
       "                nan,          nan,          nan,          nan,\n",
       "                nan,          nan,          nan,          nan,\n",
       "                nan,          nan,          nan,          nan,\n",
       "                nan,          nan,          nan,          nan,\n",
       "        -8.53647495, -12.90756263, -11.86849129, -11.00513873,\n",
       "        -9.83874271,  -8.18595762,  -9.35736452, -13.03125247,\n",
       "       -18.17600665, -14.19482681, -11.81876592, -10.55471801,\n",
       "       -11.21934491, -10.52954361,          nan,          nan,\n",
       "                nan,          nan,          nan,          nan,\n",
       "                nan,          nan,          nan,          nan,\n",
       "                nan,          nan,          nan,          nan,\n",
       "                nan,          nan,          nan,          nan])"
      ]
     },
     "execution_count": 32,
     "metadata": {},
     "output_type": "execute_result"
    },
    {
     "data": {
      "application/javascript": [
       "\n",
       "            setTimeout(function() {\n",
       "                var nbb_cell_id = 32;\n",
       "                var nbb_unformatted_code = \"qqe_up = np.full_like(RsiMa2, fill_value=np.nan)\\nqqe_down = np.full_like(RsiMa2, fill_value=np.nan)\\n# len(RsiMa2 - 50)\\nqqe_up = np.where(qqe_up_cond, RsiMa2 - 50, np.nan)\\nqqe_down = np.where(qqe_down_cond, RsiMa2 - 50, np.nan)\\n\\nqqe_down\";\n",
       "                var nbb_formatted_code = \"qqe_up = np.full_like(RsiMa2, fill_value=np.nan)\\nqqe_down = np.full_like(RsiMa2, fill_value=np.nan)\\n# len(RsiMa2 - 50)\\nqqe_up = np.where(qqe_up_cond, RsiMa2 - 50, np.nan)\\nqqe_down = np.where(qqe_down_cond, RsiMa2 - 50, np.nan)\\n\\nqqe_down\";\n",
       "                var nbb_cells = Jupyter.notebook.get_cells();\n",
       "                for (var i = 0; i < nbb_cells.length; ++i) {\n",
       "                    if (nbb_cells[i].input_prompt_number == nbb_cell_id) {\n",
       "                        if (nbb_cells[i].get_text() == nbb_unformatted_code) {\n",
       "                             nbb_cells[i].set_text(nbb_formatted_code);\n",
       "                        }\n",
       "                        break;\n",
       "                    }\n",
       "                }\n",
       "            }, 500);\n",
       "            "
      ],
      "text/plain": [
       "<IPython.core.display.Javascript object>"
      ]
     },
     "metadata": {},
     "output_type": "display_data"
    }
   ],
   "source": [
    "qqe_up = np.full_like(RsiMa2, fill_value=np.nan)\n",
    "qqe_down = np.full_like(RsiMa2, fill_value=np.nan)\n",
    "# len(RsiMa2 - 50)\n",
    "qqe_up = np.where(qqe_up_cond, RsiMa2 - 50, np.nan)\n",
    "qqe_down = np.where(qqe_down_cond, RsiMa2 - 50, np.nan)\n",
    "\n",
    "qqe_down"
   ]
  },
  {
   "cell_type": "code",
   "execution_count": 33,
   "id": "touched-campbell",
   "metadata": {},
   "outputs": [
    {
     "data": {
      "application/javascript": [
       "\n",
       "            setTimeout(function() {\n",
       "                var nbb_cell_id = 33;\n",
       "                var nbb_unformatted_code = \"def qqe_up_down(RsiMa, RsiMa2, upper, lower, ThreshHold2, CONST50) -> tuple:\\n    Greenbar1: np.ndarray = RsiMa2 - CONST50 > ThreshHold2\\n    Greenbar2: np.ndarray = RsiMa - CONST50 > upper\\n\\n    Redbar1: np.ndarray = RsiMa2 - CONST50 < 0 - ThreshHold2\\n    Redbar2: np.ndarray = RsiMa - CONST50 < lower\\n\\n    qqe_up_cond = Greenbar1 & Greenbar2\\n    qqe_down_cond = Redbar1 & Redbar2\\n\\n    qqe_up = np.full_like(RsiMa2, fill_value=np.nan)\\n    qqe_down = np.full_like(RsiMa2, fill_value=np.nan)\\n\\n    qqe_up = np.where(qqe_up_cond, RsiMa2 - 50, np.nan)\\n    qqe_down = np.where(qqe_down_cond, RsiMa2 - 50, np.nan)\\n\\n    return qqe_up, qqe_down\";\n",
       "                var nbb_formatted_code = \"def qqe_up_down(RsiMa, RsiMa2, upper, lower, ThreshHold2, CONST50) -> tuple:\\n    Greenbar1: np.ndarray = RsiMa2 - CONST50 > ThreshHold2\\n    Greenbar2: np.ndarray = RsiMa - CONST50 > upper\\n\\n    Redbar1: np.ndarray = RsiMa2 - CONST50 < 0 - ThreshHold2\\n    Redbar2: np.ndarray = RsiMa - CONST50 < lower\\n\\n    qqe_up_cond = Greenbar1 & Greenbar2\\n    qqe_down_cond = Redbar1 & Redbar2\\n\\n    qqe_up = np.full_like(RsiMa2, fill_value=np.nan)\\n    qqe_down = np.full_like(RsiMa2, fill_value=np.nan)\\n\\n    qqe_up = np.where(qqe_up_cond, RsiMa2 - 50, np.nan)\\n    qqe_down = np.where(qqe_down_cond, RsiMa2 - 50, np.nan)\\n\\n    return qqe_up, qqe_down\";\n",
       "                var nbb_cells = Jupyter.notebook.get_cells();\n",
       "                for (var i = 0; i < nbb_cells.length; ++i) {\n",
       "                    if (nbb_cells[i].input_prompt_number == nbb_cell_id) {\n",
       "                        if (nbb_cells[i].get_text() == nbb_unformatted_code) {\n",
       "                             nbb_cells[i].set_text(nbb_formatted_code);\n",
       "                        }\n",
       "                        break;\n",
       "                    }\n",
       "                }\n",
       "            }, 500);\n",
       "            "
      ],
      "text/plain": [
       "<IPython.core.display.Javascript object>"
      ]
     },
     "metadata": {},
     "output_type": "display_data"
    }
   ],
   "source": [
    "def qqe_up_down(RsiMa, RsiMa2, upper, lower, ThreshHold2, CONST50) -> tuple:\n",
    "    Greenbar1: np.ndarray = RsiMa2 - CONST50 > ThreshHold2\n",
    "    Greenbar2: np.ndarray = RsiMa - CONST50 > upper\n",
    "\n",
    "    Redbar1: np.ndarray = RsiMa2 - CONST50 < 0 - ThreshHold2\n",
    "    Redbar2: np.ndarray = RsiMa - CONST50 < lower\n",
    "\n",
    "    qqe_up_cond = Greenbar1 & Greenbar2\n",
    "    qqe_down_cond = Redbar1 & Redbar2\n",
    "\n",
    "    qqe_up = np.full_like(RsiMa2, fill_value=np.nan)\n",
    "    qqe_down = np.full_like(RsiMa2, fill_value=np.nan)\n",
    "\n",
    "    qqe_up = np.where(qqe_up_cond, RsiMa2 - 50, np.nan)\n",
    "    qqe_down = np.where(qqe_down_cond, RsiMa2 - 50, np.nan)\n",
    "\n",
    "    return qqe_up, qqe_down"
   ]
  },
  {
   "cell_type": "code",
   "execution_count": 34,
   "id": "comparable-rover",
   "metadata": {},
   "outputs": [
    {
     "data": {
      "application/javascript": [
       "\n",
       "            setTimeout(function() {\n",
       "                var nbb_cell_id = 34;\n",
       "                var nbb_unformatted_code = \"qqe_up2, qqe_down2 = qqe_up_down(RsiMa, RsiMa2, upper, lower, ThreshHold2, CONST50)\";\n",
       "                var nbb_formatted_code = \"qqe_up2, qqe_down2 = qqe_up_down(RsiMa, RsiMa2, upper, lower, ThreshHold2, CONST50)\";\n",
       "                var nbb_cells = Jupyter.notebook.get_cells();\n",
       "                for (var i = 0; i < nbb_cells.length; ++i) {\n",
       "                    if (nbb_cells[i].input_prompt_number == nbb_cell_id) {\n",
       "                        if (nbb_cells[i].get_text() == nbb_unformatted_code) {\n",
       "                             nbb_cells[i].set_text(nbb_formatted_code);\n",
       "                        }\n",
       "                        break;\n",
       "                    }\n",
       "                }\n",
       "            }, 500);\n",
       "            "
      ],
      "text/plain": [
       "<IPython.core.display.Javascript object>"
      ]
     },
     "metadata": {},
     "output_type": "display_data"
    }
   ],
   "source": [
    "qqe_up2, qqe_down2 = qqe_up_down(RsiMa, RsiMa2, upper, lower, ThreshHold2, CONST50)"
   ]
  },
  {
   "cell_type": "code",
   "execution_count": 35,
   "id": "signed-kansas",
   "metadata": {},
   "outputs": [
    {
     "data": {
      "text/html": [
       "<div>\n",
       "<style scoped>\n",
       "    .dataframe tbody tr th:only-of-type {\n",
       "        vertical-align: middle;\n",
       "    }\n",
       "\n",
       "    .dataframe tbody tr th {\n",
       "        vertical-align: top;\n",
       "    }\n",
       "\n",
       "    .dataframe thead th {\n",
       "        text-align: right;\n",
       "    }\n",
       "</style>\n",
       "<table border=\"1\" class=\"dataframe\">\n",
       "  <thead>\n",
       "    <tr style=\"text-align: right;\">\n",
       "      <th></th>\n",
       "      <th>qqe_up</th>\n",
       "      <th>qqe_up2</th>\n",
       "      <th>qqe_down</th>\n",
       "      <th>qqe_down2</th>\n",
       "    </tr>\n",
       "  </thead>\n",
       "  <tbody>\n",
       "    <tr>\n",
       "      <th>480</th>\n",
       "      <td>NaN</td>\n",
       "      <td>NaN</td>\n",
       "      <td>-11.219345</td>\n",
       "      <td>-11.219345</td>\n",
       "    </tr>\n",
       "    <tr>\n",
       "      <th>481</th>\n",
       "      <td>NaN</td>\n",
       "      <td>NaN</td>\n",
       "      <td>-10.529544</td>\n",
       "      <td>-10.529544</td>\n",
       "    </tr>\n",
       "    <tr>\n",
       "      <th>482</th>\n",
       "      <td>NaN</td>\n",
       "      <td>NaN</td>\n",
       "      <td>NaN</td>\n",
       "      <td>NaN</td>\n",
       "    </tr>\n",
       "    <tr>\n",
       "      <th>483</th>\n",
       "      <td>NaN</td>\n",
       "      <td>NaN</td>\n",
       "      <td>NaN</td>\n",
       "      <td>NaN</td>\n",
       "    </tr>\n",
       "    <tr>\n",
       "      <th>484</th>\n",
       "      <td>NaN</td>\n",
       "      <td>NaN</td>\n",
       "      <td>NaN</td>\n",
       "      <td>NaN</td>\n",
       "    </tr>\n",
       "    <tr>\n",
       "      <th>485</th>\n",
       "      <td>NaN</td>\n",
       "      <td>NaN</td>\n",
       "      <td>NaN</td>\n",
       "      <td>NaN</td>\n",
       "    </tr>\n",
       "    <tr>\n",
       "      <th>486</th>\n",
       "      <td>NaN</td>\n",
       "      <td>NaN</td>\n",
       "      <td>NaN</td>\n",
       "      <td>NaN</td>\n",
       "    </tr>\n",
       "    <tr>\n",
       "      <th>487</th>\n",
       "      <td>NaN</td>\n",
       "      <td>NaN</td>\n",
       "      <td>NaN</td>\n",
       "      <td>NaN</td>\n",
       "    </tr>\n",
       "    <tr>\n",
       "      <th>488</th>\n",
       "      <td>NaN</td>\n",
       "      <td>NaN</td>\n",
       "      <td>NaN</td>\n",
       "      <td>NaN</td>\n",
       "    </tr>\n",
       "    <tr>\n",
       "      <th>489</th>\n",
       "      <td>NaN</td>\n",
       "      <td>NaN</td>\n",
       "      <td>NaN</td>\n",
       "      <td>NaN</td>\n",
       "    </tr>\n",
       "    <tr>\n",
       "      <th>490</th>\n",
       "      <td>NaN</td>\n",
       "      <td>NaN</td>\n",
       "      <td>NaN</td>\n",
       "      <td>NaN</td>\n",
       "    </tr>\n",
       "    <tr>\n",
       "      <th>491</th>\n",
       "      <td>NaN</td>\n",
       "      <td>NaN</td>\n",
       "      <td>NaN</td>\n",
       "      <td>NaN</td>\n",
       "    </tr>\n",
       "    <tr>\n",
       "      <th>492</th>\n",
       "      <td>NaN</td>\n",
       "      <td>NaN</td>\n",
       "      <td>NaN</td>\n",
       "      <td>NaN</td>\n",
       "    </tr>\n",
       "    <tr>\n",
       "      <th>493</th>\n",
       "      <td>NaN</td>\n",
       "      <td>NaN</td>\n",
       "      <td>NaN</td>\n",
       "      <td>NaN</td>\n",
       "    </tr>\n",
       "    <tr>\n",
       "      <th>494</th>\n",
       "      <td>NaN</td>\n",
       "      <td>NaN</td>\n",
       "      <td>NaN</td>\n",
       "      <td>NaN</td>\n",
       "    </tr>\n",
       "    <tr>\n",
       "      <th>495</th>\n",
       "      <td>NaN</td>\n",
       "      <td>NaN</td>\n",
       "      <td>NaN</td>\n",
       "      <td>NaN</td>\n",
       "    </tr>\n",
       "    <tr>\n",
       "      <th>496</th>\n",
       "      <td>NaN</td>\n",
       "      <td>NaN</td>\n",
       "      <td>NaN</td>\n",
       "      <td>NaN</td>\n",
       "    </tr>\n",
       "    <tr>\n",
       "      <th>497</th>\n",
       "      <td>NaN</td>\n",
       "      <td>NaN</td>\n",
       "      <td>NaN</td>\n",
       "      <td>NaN</td>\n",
       "    </tr>\n",
       "    <tr>\n",
       "      <th>498</th>\n",
       "      <td>NaN</td>\n",
       "      <td>NaN</td>\n",
       "      <td>NaN</td>\n",
       "      <td>NaN</td>\n",
       "    </tr>\n",
       "    <tr>\n",
       "      <th>499</th>\n",
       "      <td>NaN</td>\n",
       "      <td>NaN</td>\n",
       "      <td>NaN</td>\n",
       "      <td>NaN</td>\n",
       "    </tr>\n",
       "  </tbody>\n",
       "</table>\n",
       "</div>"
      ],
      "text/plain": [
       "     qqe_up  qqe_up2   qqe_down  qqe_down2\n",
       "480     NaN      NaN -11.219345 -11.219345\n",
       "481     NaN      NaN -10.529544 -10.529544\n",
       "482     NaN      NaN        NaN        NaN\n",
       "483     NaN      NaN        NaN        NaN\n",
       "484     NaN      NaN        NaN        NaN\n",
       "485     NaN      NaN        NaN        NaN\n",
       "486     NaN      NaN        NaN        NaN\n",
       "487     NaN      NaN        NaN        NaN\n",
       "488     NaN      NaN        NaN        NaN\n",
       "489     NaN      NaN        NaN        NaN\n",
       "490     NaN      NaN        NaN        NaN\n",
       "491     NaN      NaN        NaN        NaN\n",
       "492     NaN      NaN        NaN        NaN\n",
       "493     NaN      NaN        NaN        NaN\n",
       "494     NaN      NaN        NaN        NaN\n",
       "495     NaN      NaN        NaN        NaN\n",
       "496     NaN      NaN        NaN        NaN\n",
       "497     NaN      NaN        NaN        NaN\n",
       "498     NaN      NaN        NaN        NaN\n",
       "499     NaN      NaN        NaN        NaN"
      ]
     },
     "execution_count": 35,
     "metadata": {},
     "output_type": "execute_result"
    },
    {
     "data": {
      "application/javascript": [
       "\n",
       "            setTimeout(function() {\n",
       "                var nbb_cell_id = 35;\n",
       "                var nbb_unformatted_code = \"res2 = pd.DataFrame(\\n    {\\n        \\\"qqe_up\\\": qqe_up,\\n        \\\"qqe_up2\\\": qqe_up2,\\n        \\\"qqe_down\\\": qqe_down,\\n        \\\"qqe_down2\\\": qqe_down2,\\n    }\\n)\\nres2.tail(20)\";\n",
       "                var nbb_formatted_code = \"res2 = pd.DataFrame(\\n    {\\n        \\\"qqe_up\\\": qqe_up,\\n        \\\"qqe_up2\\\": qqe_up2,\\n        \\\"qqe_down\\\": qqe_down,\\n        \\\"qqe_down2\\\": qqe_down2,\\n    }\\n)\\nres2.tail(20)\";\n",
       "                var nbb_cells = Jupyter.notebook.get_cells();\n",
       "                for (var i = 0; i < nbb_cells.length; ++i) {\n",
       "                    if (nbb_cells[i].input_prompt_number == nbb_cell_id) {\n",
       "                        if (nbb_cells[i].get_text() == nbb_unformatted_code) {\n",
       "                             nbb_cells[i].set_text(nbb_formatted_code);\n",
       "                        }\n",
       "                        break;\n",
       "                    }\n",
       "                }\n",
       "            }, 500);\n",
       "            "
      ],
      "text/plain": [
       "<IPython.core.display.Javascript object>"
      ]
     },
     "metadata": {},
     "output_type": "display_data"
    }
   ],
   "source": [
    "res2 = pd.DataFrame(\n",
    "    {\n",
    "        \"qqe_up\": qqe_up,\n",
    "        \"qqe_up2\": qqe_up2,\n",
    "        \"qqe_down\": qqe_down,\n",
    "        \"qqe_down2\": qqe_down2,\n",
    "    }\n",
    ")\n",
    "res2.tail(20)"
   ]
  },
  {
   "cell_type": "code",
   "execution_count": null,
   "id": "taken-above",
   "metadata": {},
   "outputs": [],
   "source": []
  }
 ],
 "metadata": {
  "kernelspec": {
   "display_name": "venv",
   "language": "python",
   "name": "venv"
  },
  "language_info": {
   "codemirror_mode": {
    "name": "ipython",
    "version": 3
   },
   "file_extension": ".py",
   "mimetype": "text/x-python",
   "name": "python",
   "nbconvert_exporter": "python",
   "pygments_lexer": "ipython3",
   "version": "3.6.13"
  }
 },
 "nbformat": 4,
 "nbformat_minor": 5
}
